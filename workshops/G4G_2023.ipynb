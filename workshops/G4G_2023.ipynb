{
  "cells": [
    {
      "cell_type": "markdown",
      "metadata": {
        "id": "-Oggsdu6bGwM"
      },
      "source": [
        "[![image](https://colab.research.google.com/assets/colab-badge.svg)](https://colab.research.google.com/github/gee-community/geemap/blob/master/docs/workshops/G4G_2023.ipynb)\n",
        "\n",
        "**Introduction to Google Earth Engine in Python**\n",
        "\n",
        "-   Notebook: <https://geemap.org/workshops/G4G_2023>\n",
        "-   Earth Engine: <https://earthengine.google.com>\n",
        "-   Geemap: <https://geemap.org>\n",
        "\n",
        "## Introduction (10 mins)\n",
        "\n",
        "This notebook is for the workshop presented at the [Geo for Good Summit 2023](https://earthoutreachonair.withgoogle.com/events/geoforgood23). Check out [this link](https://earthoutreachonair.withgoogle.com/events/geoforgood23?tab=g4gagenda&expand=module:agenda) for more information about the workshop.\n",
        "\n",
        "### Abstract\n",
        "\n",
        "This workshop provides an introduction to cloud-based geospatial analysis using the Earth Engine Python API. Attendees will learn the basics of Earth Engine data types and how to visualize, analyze, and export Earth Engine data in a Jupyter environment with geemap. In addition, attendees will learn how to develop and deploy interactive Earth Engine web apps with Python. Through practical examples and hands-on exercises, attendees will enhance their learning experience. During each hands-on session, attendees will walk through Jupyter Notebook examples on Google Colab with the instructors. At the end of each session, they will complete a hands-on exercise to apply the knowledge they have learned.\n",
        "\n",
        "### Prerequisites\n",
        "\n",
        "-   To use geemap and the Earth Engine Python API, you must [register](https://code.earthengine.google.com/register) for an Earth Engine account and follow the instructions [here](https://docs.google.com/document/d/1ZGSmrNm6_baqd8CHt33kIBWOlvkh-HLr46bODgJN1h0/edit?usp=sharing) to create a Cloud Project. Earth Engine is free for [noncommercial and research use](https://earthengine.google.com/noncommercial). To test whether you can use authenticate the Earth Engine Python API, please run [this notebook](https://colab.research.google.com/github/giswqs/geemap/blob/master/examples/notebooks/geemap_colab.ipynb) on Google Colab.\n",
        "\n",
        "-   It is recommended that attendees have a basic understanding of Python and Jupyter Notebook.\n",
        "-   Familiarity with the Earth Engine JavaScript API is not required but will be helpful.\n",
        "-   Attendees can use Google Colab to follow this workshop without installing anything on their computer.\n",
        "\n",
        "## Introduction to Earth Engine and geemap (15 mins)\n",
        "\n",
        "Earth Engine is free for [noncommercial and research use](https://earthengine.google.com/noncommercial). For more than a decade, Earth Engine has enabled planetary-scale Earth data science and analysis by nonprofit organizations, research scientists, and other impact users.\n",
        "\n",
        "With the launch of Earth Engine for [commercial use](https://earthengine.google.com/commercial), commercial customers will be charged for Earth Engine services. However, Earth Engine will remain free of charge for noncommercial use and research projects. Nonprofit organizations, academic institutions, educators, news media, Indigenous governments, and government researchers are eligible to use Earth Engine free of charge, just as they have done for over a decade.\n",
        "\n",
        "The geemap Python package is built upon the Earth Engine Python API and open-source mapping libraries. It allows Earth Engine users to interactively manipulate, analyze, and visualize geospatial big data in a Jupyter environment. Since its creation in April 2020, geemap has received over 2,900 GitHub stars and is being used by over 1,000 projects on GitHub.\n",
        "\n",
        "## Google Colab and Earth Engine Python API authentication (5 mins)\n",
        "\n",
        "[![image](https://colab.research.google.com/assets/colab-badge.svg)](https://colab.research.google.com/github/gee-community/geemap/blob/master/docs/workshops/G4G_2023.ipynb)\n",
        "\n",
        "### Change Colab dark theme\n",
        "\n",
        "Currently, ipywidgets does not work well with Colab dark theme. Some of the geemap widgets may not display properly in Colab dark theme.It is recommended that you change Colab to the light theme.\n",
        "\n",
        "![](https://i.imgur.com/EJ0GDP8.png)\n",
        "\n",
        "\n",
        "### Install geemap\n",
        "\n",
        "The geemap package is pre-installed in Google Colab and is updated to the latest minor or major release every few weeks. Some optional dependencies of geemap being used by this notebook are not pre-installed in Colab. Uncomment the following line to install geemap and some optional dependencies."
      ],
      "id": "-Oggsdu6bGwM"
    },
    {
      "cell_type": "code",
      "execution_count": 4,
      "metadata": {
        "colab": {
          "base_uri": "https://localhost:8080/",
          "height": 17
        },
        "id": "PWPHj2OsbGwR",
        "outputId": "cdb07573-3ebb-41f9-bed4-193b27bc44cf"
      },
      "outputs": [
        {
          "output_type": "display_data",
          "data": {
            "text/plain": [
              "<IPython.core.display.HTML object>"
            ],
            "text/html": [
              "\n",
              "            <style>\n",
              "                .geemap-dark {\n",
              "                    --jp-widgets-color: white;\n",
              "                    --jp-widgets-label-color: white;\n",
              "                    --jp-ui-font-color1: white;\n",
              "                    --jp-layout-color2: #454545;\n",
              "                    background-color: #383838;\n",
              "                }\n",
              "                    \n",
              "                .geemap-dark .jupyter-button {\n",
              "                    --jp-layout-color3: #383838;\n",
              "                }\n",
              "                \n",
              "                .geemap-colab {\n",
              "                    background-color: var(--colab-primary-surface-color, white);\n",
              "                }\n",
              "                    \n",
              "                .geemap-colab .jupyter-button {\n",
              "                    --jp-layout-color3: var(--colab-primary-surface-color, white);\n",
              "                }\n",
              "            </style>\n",
              "            "
            ]
          },
          "metadata": {}
        }
      ],
      "source": [
        "# %pip install -U \"geemap[workshop]\""
      ],
      "id": "PWPHj2OsbGwR"
    },
    {
      "cell_type": "markdown",
      "metadata": {
        "id": "Mk-YM_R2bGwT"
      },
      "source": [
        "Note that some geemap features do not work properly with Google Colab. If you are familiar with [Anaconda](https://www.anaconda.com/distribution/#download-section) or [Miniconda](https://docs.conda.io/en/latest/miniconda.html), it is recommended to create a new conda environment to install geemap and its optional dependencies on your local computer.\n",
        "\n",
        "```bash\n",
        "conda create -n gee python=3.11\n",
        "conda activate gee\n",
        "conda install -c conda-forge mamba\n",
        "mamba install -c conda-forge geemap pygis\n",
        "```"
      ],
      "id": "Mk-YM_R2bGwT"
    },
    {
      "cell_type": "markdown",
      "metadata": {
        "id": "KAmglnwNbGwT"
      },
      "source": [
        "### Import libraries\n",
        "\n",
        "Import the earthengine-api and geemap. Shift-Enter | Ctl-Enter | Alt-Enter"
      ],
      "id": "KAmglnwNbGwT"
    },
    {
      "cell_type": "markdown",
      "metadata": {
        "id": "N3Ao5PS1bGwU"
      },
      "source": [
        "### Authenticate and initialize Earth Engine\n",
        "\n",
        "You will need to create a [Google Cloud Project](https://console.cloud.google.com/projectcreate) and enable the [Earth Engine API](https://console.cloud.google.com/apis/api/earthengine.googleapis.com) for the project. You can find detailed instructions [here](https://book.geemap.org/chapters/01_introduction.html#earth-engine-authentication).\n",
        "\n",
        "* The token is stored under /config/credentials/"
      ],
      "id": "N3Ao5PS1bGwU"
    },
    {
      "cell_type": "code",
      "execution_count": 16,
      "metadata": {
        "colab": {
          "base_uri": "https://localhost:8080/",
          "height": 17
        },
        "id": "ipPiexDQbGwT",
        "outputId": "1d043f83-000d-4885-cbba-d572893f8d74"
      },
      "outputs": [
        {
          "output_type": "display_data",
          "data": {
            "text/plain": [
              "<IPython.core.display.HTML object>"
            ],
            "text/html": [
              "\n",
              "            <style>\n",
              "                .geemap-dark {\n",
              "                    --jp-widgets-color: white;\n",
              "                    --jp-widgets-label-color: white;\n",
              "                    --jp-ui-font-color1: white;\n",
              "                    --jp-layout-color2: #454545;\n",
              "                    background-color: #383838;\n",
              "                }\n",
              "                    \n",
              "                .geemap-dark .jupyter-button {\n",
              "                    --jp-layout-color3: #383838;\n",
              "                }\n",
              "                \n",
              "                .geemap-colab {\n",
              "                    background-color: var(--colab-primary-surface-color, white);\n",
              "                }\n",
              "                    \n",
              "                .geemap-colab .jupyter-button {\n",
              "                    --jp-layout-color3: var(--colab-primary-surface-color, white);\n",
              "                }\n",
              "            </style>\n",
              "            "
            ]
          },
          "metadata": {}
        }
      ],
      "source": [
        "import ee\n",
        "import geemap"
      ],
      "id": "ipPiexDQbGwT"
    },
    {
      "cell_type": "code",
      "execution_count": 5,
      "metadata": {
        "colab": {
          "base_uri": "https://localhost:8080/",
          "height": 180
        },
        "id": "6eB49WpibGwU",
        "outputId": "71f0ef83-3f3f-4592-b614-f3b3eba22ca5"
      },
      "outputs": [
        {
          "output_type": "display_data",
          "data": {
            "text/plain": [
              "<IPython.core.display.HTML object>"
            ],
            "text/html": [
              "\n",
              "            <style>\n",
              "                .geemap-dark {\n",
              "                    --jp-widgets-color: white;\n",
              "                    --jp-widgets-label-color: white;\n",
              "                    --jp-ui-font-color1: white;\n",
              "                    --jp-layout-color2: #454545;\n",
              "                    background-color: #383838;\n",
              "                }\n",
              "                    \n",
              "                .geemap-dark .jupyter-button {\n",
              "                    --jp-layout-color3: #383838;\n",
              "                }\n",
              "                \n",
              "                .geemap-colab {\n",
              "                    background-color: var(--colab-primary-surface-color, white);\n",
              "                }\n",
              "                    \n",
              "                .geemap-colab .jupyter-button {\n",
              "                    --jp-layout-color3: var(--colab-primary-surface-color, white);\n",
              "                }\n",
              "            </style>\n",
              "            "
            ]
          },
          "metadata": {}
        },
        {
          "output_type": "stream",
          "name": "stdout",
          "text": [
            "To authorize access needed by Earth Engine, open the following URL in a web browser and follow the instructions. If the web browser does not start automatically, please manually browse the URL below.\n",
            "\n",
            "    https://code.earthengine.google.com/client-auth?scopes=https%3A//www.googleapis.com/auth/earthengine%20https%3A//www.googleapis.com/auth/devstorage.full_control&request_id=VBslmzneKdA4kBumR71O6LWnbF8paUUO0i--qScOXGI&tc=pEMGFXyUHpgweitAQAfRXeZGjAkbGKTSRhX1kIR4Es4&cc=Pqlq56hIeEXhlBNochN1u0ZbUjPjU_B-meJ4jHBmZZs\n",
            "\n",
            "The authorization workflow will generate a code, which you should paste in the box below.\n",
            "Enter verification code: 4/1AfJohXl3wnjEGEdz0ri3uMovBCmg8oEaowqfbBl6hCljSPBU0UTYFACs-Ck\n",
            "\n",
            "Successfully saved authorization token.\n"
          ]
        }
      ],
      "source": [
        "ee.Authenticate()"
      ],
      "id": "6eB49WpibGwU"
    },
    {
      "cell_type": "code",
      "execution_count": 11,
      "metadata": {
        "colab": {
          "base_uri": "https://localhost:8080/",
          "height": 17
        },
        "id": "xNpLXARNbGwV",
        "outputId": "cc05eee6-9ae5-42a5-da84-c16632c87d01"
      },
      "outputs": [
        {
          "output_type": "display_data",
          "data": {
            "text/plain": [
              "<IPython.core.display.HTML object>"
            ],
            "text/html": [
              "\n",
              "            <style>\n",
              "                .geemap-dark {\n",
              "                    --jp-widgets-color: white;\n",
              "                    --jp-widgets-label-color: white;\n",
              "                    --jp-ui-font-color1: white;\n",
              "                    --jp-layout-color2: #454545;\n",
              "                    background-color: #383838;\n",
              "                }\n",
              "                    \n",
              "                .geemap-dark .jupyter-button {\n",
              "                    --jp-layout-color3: #383838;\n",
              "                }\n",
              "                \n",
              "                .geemap-colab {\n",
              "                    background-color: var(--colab-primary-surface-color, white);\n",
              "                }\n",
              "                    \n",
              "                .geemap-colab .jupyter-button {\n",
              "                    --jp-layout-color3: var(--colab-primary-surface-color, white);\n",
              "                }\n",
              "            </style>\n",
              "            "
            ]
          },
          "metadata": {}
        }
      ],
      "source": [
        "ee.Initialize()"
      ],
      "id": "xNpLXARNbGwV"
    },
    {
      "cell_type": "markdown",
      "metadata": {
        "id": "8T3FVbkEbGwV"
      },
      "source": [
        "## Creating interactive maps\n",
        "\n",
        "Let's create an interactive map using the `ipyleaflet` plotting backend. The [`geemap.Map`](https://geemap.org/geemap/#geemap.geemap.m) class inherits the [`ipyleaflet.Map`](https://ipyleaflet.readthedocs.io/en/latest/map_and_basemaps/map.html) class. Therefore, you can use the same syntax to create an interactive map as you would with `ipyleaflet.Map`."
      ],
      "id": "8T3FVbkEbGwV"
    },
    {
      "cell_type": "code",
      "execution_count": 12,
      "metadata": {
        "colab": {
          "base_uri": "https://localhost:8080/",
          "height": 17
        },
        "id": "SKlXOb_dbGwX",
        "outputId": "6039635e-9ab9-4abb-b485-96c7b630067f"
      },
      "outputs": [
        {
          "output_type": "display_data",
          "data": {
            "text/plain": [
              "<IPython.core.display.HTML object>"
            ],
            "text/html": [
              "\n",
              "            <style>\n",
              "                .geemap-dark {\n",
              "                    --jp-widgets-color: white;\n",
              "                    --jp-widgets-label-color: white;\n",
              "                    --jp-ui-font-color1: white;\n",
              "                    --jp-layout-color2: #454545;\n",
              "                    background-color: #383838;\n",
              "                }\n",
              "                    \n",
              "                .geemap-dark .jupyter-button {\n",
              "                    --jp-layout-color3: #383838;\n",
              "                }\n",
              "                \n",
              "                .geemap-colab {\n",
              "                    background-color: var(--colab-primary-surface-color, white);\n",
              "                }\n",
              "                    \n",
              "                .geemap-colab .jupyter-button {\n",
              "                    --jp-layout-color3: var(--colab-primary-surface-color, white);\n",
              "                }\n",
              "            </style>\n",
              "            "
            ]
          },
          "metadata": {}
        }
      ],
      "source": [
        "m = geemap.Map()"
      ],
      "id": "SKlXOb_dbGwX"
    },
    {
      "cell_type": "markdown",
      "metadata": {
        "id": "dOa1lBembGwY"
      },
      "source": [
        "To display it in a Jupyter notebook, simply ask for the object representation:"
      ],
      "id": "dOa1lBembGwY"
    },
    {
      "cell_type": "code",
      "execution_count": 10,
      "metadata": {
        "colab": {
          "base_uri": "https://localhost:8080/",
          "height": 621,
          "referenced_widgets": [
            "c6125b7f795e4397987ef4ffdc2a82d5",
            "55abc7f9cef245ed8cac7d0661d8750a",
            "d4ea0e336a07425e91f4228d0e30218a",
            "a733b9676a784f709cb4f9d464b31713",
            "a2f4a69c9c75462a8968c019eab22c38",
            "7ef1b3387900437f9de46ccee46a0086",
            "3ac362cdb596461fa48967108442859d",
            "2a7146b79589450c8d0a1efa7260ea82",
            "6db8e2668f28486d85ff44ad739076bb",
            "e920a0929d2c4363b0d37e8db067b541",
            "08c0ac32b1884509b7d6e6f51a3d1185",
            "a9f090bc866d4a228aeddf4e6e571352",
            "9581a832646149a0a2ef08fee161a511",
            "9a246fc390434d498f9641053b4584c9",
            "399844c9af824242a029b973946df268",
            "46864c7cb41f41f39fc9ed54ca6ff83e",
            "cea1fa979087447884e95cf30004bb1a",
            "45454971a3334886b5216180f78e19de",
            "f349413408dd4875ae163660eb0c0c6b",
            "d5392c10fe234018aed71bf14e1e8557",
            "7c1f473c028547a3a452d491f031c882",
            "7e88db55e4614b5780391b481897a5de",
            "49f54b9c134c41ef9c9cbd3d3ec3118d",
            "4ddea4c6127c43a7ba2dc8cfcd16bd8c"
          ]
        },
        "id": "7X9qw5z2bGwY",
        "outputId": "1a8f1c7d-251e-44b7-fd99-9ad8a1177852"
      },
      "outputs": [
        {
          "output_type": "display_data",
          "data": {
            "text/plain": [
              "<IPython.core.display.HTML object>"
            ],
            "text/html": [
              "\n",
              "            <style>\n",
              "                .geemap-dark {\n",
              "                    --jp-widgets-color: white;\n",
              "                    --jp-widgets-label-color: white;\n",
              "                    --jp-ui-font-color1: white;\n",
              "                    --jp-layout-color2: #454545;\n",
              "                    background-color: #383838;\n",
              "                }\n",
              "                    \n",
              "                .geemap-dark .jupyter-button {\n",
              "                    --jp-layout-color3: #383838;\n",
              "                }\n",
              "                \n",
              "                .geemap-colab {\n",
              "                    background-color: var(--colab-primary-surface-color, white);\n",
              "                }\n",
              "                    \n",
              "                .geemap-colab .jupyter-button {\n",
              "                    --jp-layout-color3: var(--colab-primary-surface-color, white);\n",
              "                }\n",
              "            </style>\n",
              "            "
            ]
          },
          "metadata": {}
        },
        {
          "output_type": "display_data",
          "data": {
            "text/plain": [
              "Map(center=[0, 0], controls=(WidgetControl(options=['position', 'transparent_bg'], widget=SearchDataGUI(childr…"
            ],
            "application/vnd.jupyter.widget-view+json": {
              "version_major": 2,
              "version_minor": 0,
              "model_id": "c6125b7f795e4397987ef4ffdc2a82d5"
            }
          },
          "metadata": {
            "application/vnd.jupyter.widget-view+json": {
              "colab": {
                "custom_widget_manager": {
                  "url": "https://ssl.gstatic.com/colaboratory-static/widgets/colab-cdn-widget-manager/b3e629b1971e1542/manager.min.js"
                }
              }
            }
          }
        }
      ],
      "source": [
        "m"
      ],
      "id": "7X9qw5z2bGwY"
    },
    {
      "cell_type": "markdown",
      "metadata": {
        "id": "tuXwHjiCbGwY"
      },
      "source": [
        "To customize the map, you can specify various keyword arguments, such as `center` ([lat, lon]), `zoom`, `width`, and `height`. The default `width` is `100%`, which takes up the entire cell width of the Jupyter notebook. The `height` argument accepts a number or a string. If a number is provided, it represents the height of the map in pixels. If a string is provided, the string must be in the format of a number followed by `px`, e.g., `600px`.\n",
        "\n",
        "Centering the map on US."
      ],
      "id": "tuXwHjiCbGwY"
    },
    {
      "cell_type": "code",
      "execution_count": 14,
      "metadata": {
        "colab": {
          "base_uri": "https://localhost:8080/",
          "height": 621,
          "referenced_widgets": [
            "f5d8c01935a9421f87b89b09f308de2e",
            "b537e29014474c1780daf1d08dc70f69",
            "0687b99d85c44aad94821864318f4e77",
            "59c8378cba3a499db68e07d77cfca66c",
            "33b3c4764ef943dda8888b00c7edb8a1",
            "d8133ea894a34c7080614ccc7d7e6c3b",
            "266c836cd496400992a2d897d3c63c4e",
            "13bfc15cfb494ec28ca820c09dba4a45",
            "89517c304d5e42cebfed1027190c4476",
            "2e8efdaae1d44495acb7e94460af817d",
            "6bcc09ddbf734e899a3312e0f93d4608",
            "225b9269541146ec8f693a353ba2a2c7",
            "ded52cd209e0482c8f28f558f4b4ae69",
            "b1eda8b1d7164a5d8f305e71f03fbb64",
            "75d5f6f52e904d878f6fa9a06c717a70",
            "22815878790a48ee8a5b7d1dbc2dc1ee",
            "9cea0263346d49c9bfda87611eb13e44",
            "d0ea51b236cb41348849f33f27adb5a9",
            "7430e3c2630147469327f5c294acd7c4",
            "e975adb3cca745db96b414a123eaba14",
            "c03ad4e7e3ca40fbbf223e21eb27449c",
            "e6cea80c59bc466b9d32fac9f6e41505",
            "9f6ecd3977294c02afc62ec9d85abab5",
            "7ade536fa93444a9a1ba1ce9c4667c9b",
            "7c2bc2aa001a4a68995e8cdd7db72a7d",
            "73085114c3d9449c99a2e91b1296a121",
            "2f72c301ddcc437eb460426c63bca8f8",
            "5a9a9519b7804a209bdc22bf7dc74837",
            "3f78fddadf33417ba5385f914c84a1b0",
            "31a52538f4c9475c94ed4fc268e6b358",
            "74e558588a134c508f54254fd15244e9",
            "51b56cf5cbd04f4da8d815166b1d00a6"
          ]
        },
        "id": "8z5MwhUKbGwY",
        "outputId": "fdfdc684-9c8b-4963-ea97-3afa2692ba97"
      },
      "outputs": [
        {
          "output_type": "display_data",
          "data": {
            "text/plain": [
              "<IPython.core.display.HTML object>"
            ],
            "text/html": [
              "\n",
              "            <style>\n",
              "                .geemap-dark {\n",
              "                    --jp-widgets-color: white;\n",
              "                    --jp-widgets-label-color: white;\n",
              "                    --jp-ui-font-color1: white;\n",
              "                    --jp-layout-color2: #454545;\n",
              "                    background-color: #383838;\n",
              "                }\n",
              "                    \n",
              "                .geemap-dark .jupyter-button {\n",
              "                    --jp-layout-color3: #383838;\n",
              "                }\n",
              "                \n",
              "                .geemap-colab {\n",
              "                    background-color: var(--colab-primary-surface-color, white);\n",
              "                }\n",
              "                    \n",
              "                .geemap-colab .jupyter-button {\n",
              "                    --jp-layout-color3: var(--colab-primary-surface-color, white);\n",
              "                }\n",
              "            </style>\n",
              "            "
            ]
          },
          "metadata": {}
        },
        {
          "output_type": "display_data",
          "data": {
            "text/plain": [
              "Map(center=[40, -100], controls=(WidgetControl(options=['position', 'transparent_bg'], widget=SearchDataGUI(ch…"
            ],
            "application/vnd.jupyter.widget-view+json": {
              "version_major": 2,
              "version_minor": 0,
              "model_id": "f5d8c01935a9421f87b89b09f308de2e"
            }
          },
          "metadata": {
            "application/vnd.jupyter.widget-view+json": {
              "colab": {
                "custom_widget_manager": {
                  "url": "https://ssl.gstatic.com/colaboratory-static/widgets/colab-cdn-widget-manager/b3e629b1971e1542/manager.min.js"
                }
              }
            }
          }
        }
      ],
      "source": [
        "m = geemap.Map(center=[40, -100], zoom=4, height=600)\n",
        "m"
      ],
      "id": "8z5MwhUKbGwY"
    },
    {
      "cell_type": "markdown",
      "metadata": {
        "id": "R7izV3OGbGwY"
      },
      "source": [
        "To hide a control, set `control_name` to `False`, e.g., `draw_ctrl=False`."
      ],
      "id": "R7izV3OGbGwY"
    },
    {
      "cell_type": "code",
      "execution_count": 15,
      "metadata": {
        "colab": {
          "base_uri": "https://localhost:8080/",
          "height": 621,
          "referenced_widgets": [
            "8c28abaed3ff4da9bed67541b1afb0ca",
            "d02c0b25066f4d7b9cdcf84c85e35287",
            "0b12b11c0ee34fecb72e57aff2490eb1",
            "730a4f07a81143789db4aa0c1edacac8",
            "f56c7178f837400fad871677c8355685",
            "ce602a129f5e4f2081ddcd0fe2178614",
            "0063ef201a9f44ed8cb2339e36b423d3",
            "f076b26ad86f40a083c73ffc6fc24b84",
            "ea1c614bdbf54b868ab8845efc21febf",
            "e2e9a0fbde944739bc94e72e5194a41d",
            "35f5a02f4c6449c699a935fd4c7b6d38"
          ]
        },
        "id": "uVeyKuZbbGwY",
        "outputId": "4e434234-c911-420a-b703-c39547639da0"
      },
      "outputs": [
        {
          "output_type": "display_data",
          "data": {
            "text/plain": [
              "<IPython.core.display.HTML object>"
            ],
            "text/html": [
              "\n",
              "            <style>\n",
              "                .geemap-dark {\n",
              "                    --jp-widgets-color: white;\n",
              "                    --jp-widgets-label-color: white;\n",
              "                    --jp-ui-font-color1: white;\n",
              "                    --jp-layout-color2: #454545;\n",
              "                    background-color: #383838;\n",
              "                }\n",
              "                    \n",
              "                .geemap-dark .jupyter-button {\n",
              "                    --jp-layout-color3: #383838;\n",
              "                }\n",
              "                \n",
              "                .geemap-colab {\n",
              "                    background-color: var(--colab-primary-surface-color, white);\n",
              "                }\n",
              "                    \n",
              "                .geemap-colab .jupyter-button {\n",
              "                    --jp-layout-color3: var(--colab-primary-surface-color, white);\n",
              "                }\n",
              "            </style>\n",
              "            "
            ]
          },
          "metadata": {}
        },
        {
          "output_type": "display_data",
          "data": {
            "text/plain": [
              "Map(center=[0, 0], controls=(ZoomControl(options=['position', 'zoom_in_text', 'zoom_in_title', 'zoom_out_text'…"
            ],
            "application/vnd.jupyter.widget-view+json": {
              "version_major": 2,
              "version_minor": 0,
              "model_id": "8c28abaed3ff4da9bed67541b1afb0ca"
            }
          },
          "metadata": {
            "application/vnd.jupyter.widget-view+json": {
              "colab": {
                "custom_widget_manager": {
                  "url": "https://ssl.gstatic.com/colaboratory-static/widgets/colab-cdn-widget-manager/b3e629b1971e1542/manager.min.js"
                }
              }
            }
          }
        }
      ],
      "source": [
        "m = geemap.Map(data_ctrl=False, toolbar_ctrl=False, draw_ctrl=False)\n",
        "m"
      ],
      "id": "uVeyKuZbbGwY"
    },
    {
      "cell_type": "markdown",
      "metadata": {
        "id": "raFfIkTZbGwZ"
      },
      "source": [
        "### Adding basemaps\n",
        "\n",
        "There are several ways to add basemaps to a map. You can specify the basemap to use in the `basemap` keyword argument when creating the map. Alternatively, you can add basemap layers to the map using the `add_basemap` method. Geemap has hundreds of built-in basemaps available that can be easily added to the map with only one line of code.\n",
        "\n",
        "Create a map by specifying the basemap to use as follows. For example, the `Esri.WorldImagery` basemap represents the Esri world imagery basemap."
      ],
      "id": "raFfIkTZbGwZ"
    },
    {
      "cell_type": "code",
      "execution_count": 17,
      "metadata": {
        "colab": {
          "base_uri": "https://localhost:8080/",
          "height": 621,
          "referenced_widgets": [
            "f275352561e24986908a866de02ccd30",
            "4344e9a6fb7d4499af167a7e25fac8e4",
            "2ca9f8e6cb624370873bb52663709881",
            "3a4f3ed06fd64fc98edfce99b404ff21",
            "88b0d065cab94398b548751d02c5c13d",
            "638b7f5df3164723a705f1ca91d49ccd",
            "4866ccb4df444c889b4c17120ecc1844",
            "4e7588389d0244f0a1b498618b930f86",
            "da75673e48954214b06179bb01a36cd9",
            "25d6f1ceb378426ca87add2b818f717c",
            "46ad8fb4d4b14db3b7662bc1af6bb59f",
            "694abe8e63474d8a812523debd0d5c10",
            "f6397e9377ee45ef80cef22351193869",
            "c18f226bbc6541fa979dfb23d0d2ef44",
            "078091bc39924da7bf3ff43712ccb539",
            "cd7aaeeb562843ff98e5ef6304fc579e",
            "648852ecd8964024a52fe2f9491c6bc0",
            "ff6f95b58ef641ddbc8ee83915c924e0",
            "9b5648d1558240fa8ebfee65383c98a6",
            "cc87ee29e3c6480fb764f8fccf1105c4",
            "5ce5be7c1fe0408891afb8455b3a3ca0",
            "ca763ed4003346748d81c3f46c560319",
            "1473b9537bcd49d8be3a30a6063c0b8d",
            "184fc62e1d454eaaa1917cc015ae77a2"
          ]
        },
        "id": "NR2g-j5WbGwZ",
        "outputId": "4d028840-662f-4679-c98a-e805deb949e9"
      },
      "outputs": [
        {
          "output_type": "display_data",
          "data": {
            "text/plain": [
              "<IPython.core.display.HTML object>"
            ],
            "text/html": [
              "\n",
              "            <style>\n",
              "                .geemap-dark {\n",
              "                    --jp-widgets-color: white;\n",
              "                    --jp-widgets-label-color: white;\n",
              "                    --jp-ui-font-color1: white;\n",
              "                    --jp-layout-color2: #454545;\n",
              "                    background-color: #383838;\n",
              "                }\n",
              "                    \n",
              "                .geemap-dark .jupyter-button {\n",
              "                    --jp-layout-color3: #383838;\n",
              "                }\n",
              "                \n",
              "                .geemap-colab {\n",
              "                    background-color: var(--colab-primary-surface-color, white);\n",
              "                }\n",
              "                    \n",
              "                .geemap-colab .jupyter-button {\n",
              "                    --jp-layout-color3: var(--colab-primary-surface-color, white);\n",
              "                }\n",
              "            </style>\n",
              "            "
            ]
          },
          "metadata": {}
        },
        {
          "output_type": "display_data",
          "data": {
            "text/plain": [
              "Map(center=[0, 0], controls=(WidgetControl(options=['position', 'transparent_bg'], widget=SearchDataGUI(childr…"
            ],
            "application/vnd.jupyter.widget-view+json": {
              "version_major": 2,
              "version_minor": 0,
              "model_id": "f275352561e24986908a866de02ccd30"
            }
          },
          "metadata": {
            "application/vnd.jupyter.widget-view+json": {
              "colab": {
                "custom_widget_manager": {
                  "url": "https://ssl.gstatic.com/colaboratory-static/widgets/colab-cdn-widget-manager/b3e629b1971e1542/manager.min.js"
                }
              }
            }
          }
        }
      ],
      "source": [
        "m = geemap.Map(basemap='Esri.WorldImagery')\n",
        "m"
      ],
      "id": "NR2g-j5WbGwZ"
    },
    {
      "cell_type": "markdown",
      "metadata": {
        "id": "uPiYUykubGwZ"
      },
      "source": [
        "You can add as many basemaps as you like to the map. For example, the following code adds the `OpenTopoMap` basemap to the map above:"
      ],
      "id": "uPiYUykubGwZ"
    },
    {
      "cell_type": "code",
      "execution_count": null,
      "metadata": {
        "id": "m_ws5PR1bGwZ"
      },
      "outputs": [],
      "source": [
        "m.add_basemap('Esri.WorldTopoMap')"
      ],
      "id": "m_ws5PR1bGwZ"
    },
    {
      "cell_type": "code",
      "execution_count": null,
      "metadata": {
        "id": "rk5E0KAXbGwZ"
      },
      "outputs": [],
      "source": [
        "m.add_basemap('OpenTopoMap')"
      ],
      "id": "rk5E0KAXbGwZ"
    },
    {
      "cell_type": "markdown",
      "metadata": {
        "id": "QGRFu1JPbGwZ"
      },
      "source": [
        "Print out the first 10 basemaps:"
      ],
      "id": "QGRFu1JPbGwZ"
    },
    {
      "cell_type": "code",
      "execution_count": null,
      "metadata": {
        "id": "oIfzcHgfbGwa"
      },
      "outputs": [],
      "source": [
        "basemaps = list(geemap.basemaps.keys())\n",
        "len(geemap.basemaps)"
      ],
      "id": "oIfzcHgfbGwa"
    },
    {
      "cell_type": "code",
      "execution_count": null,
      "metadata": {
        "id": "fCUKBQCjbGwa"
      },
      "outputs": [],
      "source": [
        "basemaps[:10]"
      ],
      "id": "fCUKBQCjbGwa"
    },
    {
      "cell_type": "markdown",
      "metadata": {
        "id": "-pnhlJk_bGwa"
      },
      "source": [
        "You can also change basemaps interactively using the basemap GUI."
      ],
      "id": "-pnhlJk_bGwa"
    },
    {
      "cell_type": "markdown",
      "metadata": {
        "id": "ToVJCXaPbGwa"
      },
      "source": [
        "## Using Earth Engine data (30 mins)\n",
        "\n",
        "### Earth Engine data types (Image, ImageCollection, Geometry, Feature, FeatureCollection)\n",
        "\n",
        "Earth Engine objects are server-side objects rather than client-side objects, which means that they are not stored locally on your computer. Similar to video streaming services (e.g., YouTube, Netflix, and Hulu), which store videos/movies on their servers, Earth Engine data are stored on the Earth Engine servers. We can stream geospatial data from Earth Engine on-the-fly without having to download the data just like we can watch videos from streaming services using a web browser without having to download the entire video to your computer.\n",
        "\n",
        "-   **Image**: the fundamental raster data type in Earth Engine.\n",
        "-   **ImageCollection**: a stack or time-series of images.\n",
        "-   **Geometry**: the fundamental vector data type in Earth Engine.\n",
        "-   **Feature**: a Geometry with attributes.\n",
        "-   **FeatureCollection**: a set of features.\n",
        "\n",
        "### Image\n",
        "\n",
        "Raster data in Earth Engine are represented as **Image** objects. Images are composed of one or more bands and each band has its own name, data type, scale, mask and projection. Each image has metadata stored as a set of properties.\n",
        "\n",
        "#### Loading Earth Engine images"
      ],
      "id": "ToVJCXaPbGwa"
    },
    {
      "cell_type": "code",
      "execution_count": null,
      "metadata": {
        "id": "fTX8CQZybGwa"
      },
      "outputs": [],
      "source": [
        "image = ee.Image('USGS/SRTMGL1_003')\n",
        "image"
      ],
      "id": "fTX8CQZybGwa"
    },
    {
      "cell_type": "markdown",
      "metadata": {
        "id": "RtyAyY4pbGwa"
      },
      "source": [
        "#### Visualizing Earth Engine images"
      ],
      "id": "RtyAyY4pbGwa"
    },
    {
      "cell_type": "code",
      "execution_count": null,
      "metadata": {
        "id": "aepUq04xbGwa"
      },
      "outputs": [],
      "source": [
        "m = geemap.Map(center=[21.79, 70.87], zoom=3)\n",
        "image = ee.Image('USGS/SRTMGL1_003')\n",
        "vis_params = {\n",
        "    'min': 0,\n",
        "    'max': 6000,\n",
        "    'palette': ['006633', 'E5FFCC', '662A00', 'D8D8D8', 'F5F5F5'], # 'terrain'\n",
        "}\n",
        "m.add_layer(image, vis_params, 'SRTM')\n",
        "m"
      ],
      "id": "aepUq04xbGwa"
    },
    {
      "cell_type": "markdown",
      "metadata": {
        "id": "BYMm_3eFbGwa"
      },
      "source": [
        "### ImageCollection\n",
        "\n",
        "An `ImageCollection` is a stack or sequence of images. An `ImageCollection` can be loaded by passing an Earth Engine asset ID into the `ImageCollection` constructor. You can find `ImageCollection` IDs in the [Earth Engine Data Catalog](https://developers.google.com/earth-engine/datasets).\n",
        "\n",
        "#### Loading image collections\n",
        "\n",
        "For example, to load the image collection of the [Sentinel-2 surface reflectance](https://developers.google.com/earth-engine/datasets/catalog/COPERNICUS_S2_SR):"
      ],
      "id": "BYMm_3eFbGwa"
    },
    {
      "cell_type": "code",
      "execution_count": null,
      "metadata": {
        "id": "VsZILlgQbGwb"
      },
      "outputs": [],
      "source": [
        "collection = ee.ImageCollection('COPERNICUS/S2_SR')"
      ],
      "id": "VsZILlgQbGwb"
    },
    {
      "cell_type": "markdown",
      "metadata": {
        "id": "T-_p3Rz2bGwb"
      },
      "source": [
        "#### Visualizing image collections\n",
        "\n",
        "To visualize an Earth Engine **ImageCollection**, we need to convert an **ImageCollection** to an **Image** by compositing all the images in the collection to a single image representing, for example, the min, max, median, mean or standard deviation of the images. For example, to create a median value image from a collection, use the `collection.median()` method. Let's create a median image from the Sentinel-2 surface reflectance collection:"
      ],
      "id": "T-_p3Rz2bGwb"
    },
    {
      "cell_type": "code",
      "execution_count": null,
      "metadata": {
        "id": "q0Z2CAszbGwb"
      },
      "outputs": [],
      "source": [
        "m = geemap.Map()\n",
        "collection = ee.ImageCollection('COPERNICUS/S2_SR')\n",
        "image = collection.median()\n",
        "\n",
        "vis = {\n",
        "    'min': 0.0,\n",
        "    'max': 3000,\n",
        "    'bands': ['B4', 'B3', 'B2'],\n",
        "}\n",
        "\n",
        "m.set_center(83.277, 17.7009, 12)\n",
        "m.add_layer(image, vis, 'Sentinel-2')\n",
        "m"
      ],
      "id": "q0Z2CAszbGwb"
    },
    {
      "cell_type": "markdown",
      "metadata": {
        "id": "vZI4LeslbGwb"
      },
      "source": [
        "#### Filtering image collections"
      ],
      "id": "vZI4LeslbGwb"
    },
    {
      "cell_type": "code",
      "execution_count": null,
      "metadata": {
        "id": "_mKVFlbPbGwb"
      },
      "outputs": [],
      "source": [
        "m = geemap.Map()\n",
        "collection = (\n",
        "    ee.ImageCollection('COPERNICUS/S2_SR')\n",
        "    .filterDate('2021-01-01', '2022-01-01')\n",
        "    .filter(ee.Filter.lt('CLOUDY_PIXEL_PERCENTAGE', 5))\n",
        ")\n",
        "image = collection.median()\n",
        "\n",
        "vis = {\n",
        "    'min': 0.0,\n",
        "    'max': 3000,\n",
        "    'bands': ['B4', 'B3', 'B2'],\n",
        "}\n",
        "\n",
        "m.set_center(83.277, 17.7009, 12)\n",
        "m.add_layer(image, vis, 'Sentinel-2')\n",
        "m"
      ],
      "id": "_mKVFlbPbGwb"
    },
    {
      "cell_type": "markdown",
      "metadata": {
        "id": "Bh8nt7IcbGwb"
      },
      "source": [
        "### FeatureCollection\n",
        "\n",
        "A **FeatureCollection** is a collection of Features. A FeatureCollection is analogous to a GeoJSON FeatureCollection object, i.e., a collection of features with associated properties/attributes. Data contained in a shapefile can be represented as a FeatureCollection.\n",
        "\n",
        "#### Loading feature collections\n",
        "\n",
        "The [Earth Engine Data Catalog](https://developers.google.com/earth-engine/datasets) hosts a variety of vector datasets (e.g,, US Census data, country boundaries, and more) as feature collections. You can find feature collection IDs by searching the data catalog. For example, to load the [TIGER roads data](https://developers.google.com/earth-engine/datasets/catalog/TIGER_2016_Roads) by the U.S. Census Bureau:"
      ],
      "id": "Bh8nt7IcbGwb"
    },
    {
      "cell_type": "code",
      "execution_count": null,
      "metadata": {
        "id": "H-RddxjKbGwb"
      },
      "outputs": [],
      "source": [
        "m = geemap.Map()\n",
        "fc = ee.FeatureCollection('TIGER/2016/Roads')\n",
        "m.set_center(-73.9596, 40.7688, 12)\n",
        "m.add_layer(fc, {}, 'Census roads')\n",
        "m"
      ],
      "id": "H-RddxjKbGwb"
    },
    {
      "cell_type": "markdown",
      "metadata": {
        "id": "Pc_BRw31bGwc"
      },
      "source": [
        "#### Filtering feature collections"
      ],
      "id": "Pc_BRw31bGwc"
    },
    {
      "cell_type": "code",
      "execution_count": null,
      "metadata": {
        "id": "6SmZ2luMbGwc"
      },
      "outputs": [],
      "source": [
        "m = geemap.Map()\n",
        "states = ee.FeatureCollection('TIGER/2018/States')\n",
        "fc = states.filter(ee.Filter.eq('NAME', 'Louisiana'))\n",
        "m.add_layer(fc, {}, 'Louisiana')\n",
        "m.center_object(fc, 7)\n",
        "m"
      ],
      "id": "6SmZ2luMbGwc"
    },
    {
      "cell_type": "code",
      "execution_count": null,
      "metadata": {
        "id": "ipv8vbbsbGwg"
      },
      "outputs": [],
      "source": [
        "feat = fc.first()\n",
        "feat.toDictionary()"
      ],
      "id": "ipv8vbbsbGwg"
    },
    {
      "cell_type": "code",
      "execution_count": null,
      "metadata": {
        "id": "Gjx9FM7tbGwg"
      },
      "outputs": [],
      "source": [
        "m = geemap.Map()\n",
        "states = ee.FeatureCollection('TIGER/2018/States')\n",
        "fc = states.filter(ee.Filter.inList('NAME', ['California', 'Oregon', 'Washington']))\n",
        "m.add_layer(fc, {}, 'West Coast')\n",
        "m.center_object(fc, 5)\n",
        "m"
      ],
      "id": "Gjx9FM7tbGwg"
    },
    {
      "cell_type": "code",
      "execution_count": null,
      "metadata": {
        "id": "xOCQvPrJbGwg"
      },
      "outputs": [],
      "source": [
        "region = m.user_roi\n",
        "if region is None:\n",
        "    region = ee.Geometry.BBox(-88.40, 29.88, -77.90, 35.39)\n",
        "\n",
        "fc = ee.FeatureCollection('TIGER/2018/States').filterBounds(region)\n",
        "m.add_layer(fc, {}, 'Southeastern U.S.')\n",
        "m.center_object(fc, 6)"
      ],
      "id": "xOCQvPrJbGwg"
    },
    {
      "cell_type": "markdown",
      "metadata": {
        "id": "xgQfGIsAbGwh"
      },
      "source": [
        "#### Visualizing feature collections"
      ],
      "id": "xgQfGIsAbGwh"
    },
    {
      "cell_type": "code",
      "execution_count": null,
      "metadata": {
        "id": "0aJ4CsDPbGwh"
      },
      "outputs": [],
      "source": [
        "m = geemap.Map(center=[40, -100], zoom=4)\n",
        "states = ee.FeatureCollection(\"TIGER/2018/States\")\n",
        "m.add_layer(states, {}, \"US States\")\n",
        "m"
      ],
      "id": "0aJ4CsDPbGwh"
    },
    {
      "cell_type": "code",
      "execution_count": null,
      "metadata": {
        "id": "-yScpgJKbGwh"
      },
      "outputs": [],
      "source": [
        "m = geemap.Map(center=[40, -100], zoom=4)\n",
        "states = ee.FeatureCollection(\"TIGER/2018/States\")\n",
        "style = {'color': '0000ffff', 'width': 2, 'lineType': 'solid', 'fillColor': 'FF000080'}\n",
        "m.add_layer(states.style(**style), {}, \"US States\")\n",
        "m"
      ],
      "id": "-yScpgJKbGwh"
    },
    {
      "cell_type": "code",
      "execution_count": null,
      "metadata": {
        "id": "LcTDUdsUbGwh"
      },
      "outputs": [],
      "source": [
        "m = geemap.Map(center=[40, -100], zoom=4)\n",
        "states = ee.FeatureCollection(\"TIGER/2018/States\")\n",
        "vis_params = {\n",
        "    'color': '000000',\n",
        "    'colorOpacity': 1,\n",
        "    'pointSize': 3,\n",
        "    'pointShape': 'circle',\n",
        "    'width': 2,\n",
        "    'lineType': 'solid',\n",
        "    'fillColorOpacity': 0.66,\n",
        "}\n",
        "palette = ['006633', 'E5FFCC', '662A00', 'D8D8D8', 'F5F5F5']\n",
        "m.add_styled_vector(\n",
        "    states, column=\"NAME\", palette=palette, layer_name=\"Styled vector\", **vis_params\n",
        ")\n",
        "m"
      ],
      "id": "LcTDUdsUbGwh"
    },
    {
      "cell_type": "markdown",
      "metadata": {
        "id": "F9xsrQQ-bGwh"
      },
      "source": [
        "### Earth Engine Data Catalog\n",
        "\n",
        "The [Earth Engine Data Catalog](https://developers.google.com/earth-engine/datasets) hosts a variety of geospatial datasets. As of October 2023, the catalog contains over [1,000 datasets](https://github.com/opengeos/Earth-Engine-Catalog/blob/master/gee_catalog.tsv) with a total size of over 80 petabytes. Some notable datasets include: Landsat, Sentinel, MODIS, NAIP, etc. For a complete list of datasets in CSV or JSON formats, see the [Earth Engine Datasets List](https://github.com/giswqs/Earth-Engine-Catalog/blob/master/gee_catalog.tsv).\n",
        "\n",
        "#### Searching for datasets\n",
        "\n",
        "The [Earth Engine Data Catalog](https://developers.google.com/earth-engine/datasets/catalog) is searchable. You can search datasets by name, keyword, or tag. For example, enter \"elevation\" in the search box will filter the catalog to show only datasets containing \"elevation\" in their name, description, or tags. 52 datasets are returned for this search query. Scroll down the list to find the [NASA SRTM Digital Elevation 30m](https://developers.google.com/earth-engine/datasets/catalog/USGS_SRTMGL1_003#description) dataset. On each dataset page, you can find the following information, including Dataset Availability, Dataset Provider, Earth Engine Snippet, Tags, Description, Code Example, and more (see {numref}`ch03_gee_srtm`). One important piece of information is the Image/ImageCollection/FeatureCollection ID of each dataset, which is essential for accessing the dataset through the Earth Engine JavaScript or Python APIs.\n",
        "\n",
        "![](https://i.imgur.com/B3rf4QN.jpg)"
      ],
      "id": "F9xsrQQ-bGwh"
    },
    {
      "cell_type": "code",
      "execution_count": null,
      "metadata": {
        "id": "1sYBylM3bGwi"
      },
      "outputs": [],
      "source": [
        "m = geemap.Map()\n",
        "m"
      ],
      "id": "1sYBylM3bGwi"
    },
    {
      "cell_type": "code",
      "execution_count": null,
      "metadata": {
        "id": "_Xu0LdX0bGwi"
      },
      "outputs": [],
      "source": [
        "dataset_xyz = ee.Image('USGS/SRTMGL1_003')\n",
        "m.add_layer(dataset_xyz, {}, \"USGS/SRTMGL1_003\")"
      ],
      "id": "_Xu0LdX0bGwi"
    },
    {
      "cell_type": "code",
      "execution_count": null,
      "metadata": {
        "id": "czeZ39pobGwi"
      },
      "outputs": [],
      "source": [
        "m = geemap.Map()\n",
        "dem = ee.Image('USGS/SRTMGL1_003')\n",
        "vis_params = {\n",
        "    'min': 0,\n",
        "    'max': 4000,\n",
        "    'palette': ['006633', 'E5FFCC', '662A00', 'D8D8D8', 'F5F5F5'],\n",
        "}\n",
        "m.add_layer(dem, vis_params, 'SRTM DEM')\n",
        "m"
      ],
      "id": "czeZ39pobGwi"
    },
    {
      "cell_type": "markdown",
      "metadata": {
        "id": "2NSrmHTybGwi"
      },
      "source": [
        "#### Using the datasets module"
      ],
      "id": "2NSrmHTybGwi"
    },
    {
      "cell_type": "code",
      "execution_count": null,
      "metadata": {
        "id": "pV01sd4mbGwi"
      },
      "outputs": [],
      "source": [
        "from geemap.datasets import DATA"
      ],
      "id": "pV01sd4mbGwi"
    },
    {
      "cell_type": "code",
      "execution_count": null,
      "metadata": {
        "id": "hAfdc_zrbGwj"
      },
      "outputs": [],
      "source": [
        "m = geemap.Map(center=[40, -100], zoom=4)\n",
        "dataset = ee.Image(DATA.USGS_GAP_CONUS_2011)\n",
        "m.add_layer(dataset, {}, 'GAP CONUS')\n",
        "m"
      ],
      "id": "hAfdc_zrbGwj"
    },
    {
      "cell_type": "code",
      "execution_count": null,
      "metadata": {
        "id": "oyateVAhbGwj"
      },
      "outputs": [],
      "source": [
        "from geemap.datasets import get_metadata\n",
        "\n",
        "get_metadata(DATA.USGS_GAP_CONUS_2011)"
      ],
      "id": "oyateVAhbGwj"
    },
    {
      "cell_type": "markdown",
      "metadata": {
        "id": "WQMLROzzbGwj"
      },
      "source": [
        "### Converting Earth Engine JavaScripts to Python\n",
        "\n",
        "Find some Earth Engine JavaScript code that you want to convert to Python. For example, you can grab some sample code from the [Earth Engine Documentation](https://developers.google.com/earth-engine/guides/image_visualization)."
      ],
      "id": "WQMLROzzbGwj"
    },
    {
      "cell_type": "code",
      "execution_count": null,
      "metadata": {
        "id": "Kegn70VzbGwj"
      },
      "outputs": [],
      "source": [
        "m = geemap.Map()\n",
        "m"
      ],
      "id": "Kegn70VzbGwj"
    },
    {
      "cell_type": "code",
      "execution_count": null,
      "metadata": {
        "id": "o0j49_pkbGwj"
      },
      "outputs": [],
      "source": [
        "# Load an image.\n",
        "image = ee.Image('LANDSAT/LC08/C02/T1_TOA/LC08_044034_20140318')\n",
        "\n",
        "# Define the visualization parameters.\n",
        "vizParams = {'bands': ['B5', 'B4', 'B3'], 'min': 0, 'max': 0.5, 'gamma': [0.95, 1.1, 1]}\n",
        "\n",
        "# Center the map and display the image.\n",
        "m.set_center(-122.1899, 37.5010, 10)\n",
        "# San Francisco Bay\n",
        "m.add_layer(image, vizParams, 'False color composite')"
      ],
      "id": "o0j49_pkbGwj"
    },
    {
      "cell_type": "markdown",
      "metadata": {
        "id": "_knetQ3lbGwk"
      },
      "source": [
        "### Exercise 1 - Creating cloud-free imagery\n",
        "\n",
        "Create a cloud-free imagery of Texas for the year of 2022. You can use either Landsat 9 or Sentinel-2 imagery. Relevant Earth Engine assets:\n",
        "\n",
        "-   [ee.FeatureCollection(\"TIGER/2018/States\")](https://developers.google.com/earth-engine/datasets/catalog/TIGER_2018_States)\n",
        "-   [ee.ImageCollection(\"COPERNICUS/S2_SR\")](https://developers.google.com/earth-engine/datasets/catalog/COPERNICUS_S2_SR)\n",
        "-   [ee.ImageCollection(\"LANDSAT/LC09/C02/T1_L2\")](https://developers.google.com/earth-engine/datasets/catalog/LANDSAT_LC09_C02_T1_L2)\n",
        "\n",
        "![](https://i.imgur.com/i3IT0lF.png)"
      ],
      "id": "_knetQ3lbGwk"
    },
    {
      "cell_type": "code",
      "execution_count": null,
      "metadata": {
        "id": "pO9AuUmBbGwk"
      },
      "outputs": [],
      "source": [],
      "id": "pO9AuUmBbGwk"
    },
    {
      "cell_type": "markdown",
      "metadata": {
        "id": "SnB_QTlzbGwk"
      },
      "source": [
        "## Break 1 (10 mins)\n",
        "\n",
        "## Visualizing Earth Engine data (30 mins)\n",
        "\n",
        "### Geemap Inspector tool, plotting tool, interactive GUI for data visualization\n",
        "\n",
        "### Using the inspector tool"
      ],
      "id": "SnB_QTlzbGwk"
    },
    {
      "cell_type": "code",
      "execution_count": null,
      "metadata": {
        "id": "d07YwtxibGwk"
      },
      "outputs": [],
      "source": [
        "m = geemap.Map(center=(40, -100), zoom=4)\n",
        "\n",
        "dem = ee.Image('USGS/SRTMGL1_003')\n",
        "landsat7 = ee.Image('LANDSAT/LE7_TOA_5YEAR/1999_2003').select(\n",
        "    ['B1', 'B2', 'B3', 'B4', 'B5', 'B7']\n",
        ")\n",
        "states = ee.FeatureCollection(\"TIGER/2018/States\")\n",
        "\n",
        "vis_params = {\n",
        "    'min': 0,\n",
        "    'max': 4000,\n",
        "    'palette': ['006633', 'E5FFCC', '662A00', 'D8D8D8', 'F5F5F5'],\n",
        "}\n",
        "\n",
        "m.add_layer(dem, vis_params, 'SRTM DEM')\n",
        "m.add_layer(\n",
        "    landsat7,\n",
        "    {'bands': ['B4', 'B3', 'B2'], 'min': 20, 'max': 200, 'gamma': 2.0},\n",
        "    'Landsat 7',\n",
        ")\n",
        "m.add_layer(states, {}, \"US States\")\n",
        "m.add('inspector')\n",
        "m"
      ],
      "id": "d07YwtxibGwk"
    },
    {
      "cell_type": "markdown",
      "metadata": {
        "id": "uzVkpOW6bGwk"
      },
      "source": [
        "### Using the plotting tool"
      ],
      "id": "uzVkpOW6bGwk"
    },
    {
      "cell_type": "code",
      "execution_count": null,
      "metadata": {
        "id": "x0iaV4sIbGwk"
      },
      "outputs": [],
      "source": [
        "m = geemap.Map(center=[40, -100], zoom=4)\n",
        "\n",
        "landsat7 = ee.Image('LANDSAT/LE7_TOA_5YEAR/1999_2003').select(\n",
        "    ['B1', 'B2', 'B3', 'B4', 'B5', 'B7']\n",
        ")\n",
        "\n",
        "landsat_vis = {'bands': ['B4', 'B3', 'B2'], 'gamma': 1.4}\n",
        "m.add_layer(landsat7, landsat_vis, \"Landsat\")\n",
        "\n",
        "hyperion = ee.ImageCollection('EO1/HYPERION').filter(\n",
        "    ee.Filter.date('2016-01-01', '2017-03-01')\n",
        ")\n",
        "\n",
        "hyperion_vis = {\n",
        "    'min': 1000.0,\n",
        "    'max': 14000.0,\n",
        "    'gamma': 2.5,\n",
        "}\n",
        "m.add_layer(hyperion, hyperion_vis, 'Hyperion')\n",
        "m.add_plot_gui()\n",
        "m"
      ],
      "id": "x0iaV4sIbGwk"
    },
    {
      "cell_type": "markdown",
      "metadata": {
        "id": "Lu7XBQOKbGwl"
      },
      "source": [
        "Set plotting options for Landsat."
      ],
      "id": "Lu7XBQOKbGwl"
    },
    {
      "cell_type": "code",
      "execution_count": null,
      "metadata": {
        "id": "rGhgqtu1bGwl"
      },
      "outputs": [],
      "source": [
        "m.set_plot_options(add_marker_cluster=True, overlay=True)"
      ],
      "id": "rGhgqtu1bGwl"
    },
    {
      "cell_type": "markdown",
      "metadata": {
        "id": "WbTjpFCGbGwl"
      },
      "source": [
        "Set plotting options for Hyperion."
      ],
      "id": "WbTjpFCGbGwl"
    },
    {
      "cell_type": "code",
      "execution_count": null,
      "metadata": {
        "id": "zPoZ03IAbGwl"
      },
      "outputs": [],
      "source": [
        "m.set_plot_options(add_marker_cluster=True, plot_type=\"bar\")"
      ],
      "id": "zPoZ03IAbGwl"
    },
    {
      "cell_type": "markdown",
      "metadata": {
        "id": "Z70cJLQkbGwl"
      },
      "source": [
        "### Legends, color bars, and labels\n",
        "\n",
        "#### Built-in legends"
      ],
      "id": "Z70cJLQkbGwl"
    },
    {
      "cell_type": "code",
      "execution_count": null,
      "metadata": {
        "id": "ubvntOFybGwl"
      },
      "outputs": [],
      "source": [
        "from geemap.legends import builtin_legends"
      ],
      "id": "ubvntOFybGwl"
    },
    {
      "cell_type": "code",
      "execution_count": null,
      "metadata": {
        "id": "186NStQcbGwl"
      },
      "outputs": [],
      "source": [
        "for legend in builtin_legends:\n",
        "    print(legend)"
      ],
      "id": "186NStQcbGwl"
    },
    {
      "cell_type": "markdown",
      "metadata": {
        "id": "ygWf4cDubGwl"
      },
      "source": [
        "Add NLCD WMS layer and legend to the map."
      ],
      "id": "ygWf4cDubGwl"
    },
    {
      "cell_type": "code",
      "execution_count": null,
      "metadata": {
        "id": "LTLNL86ebGwm"
      },
      "outputs": [],
      "source": [
        "m = geemap.Map(center=[40, -100], zoom=4)\n",
        "m.add_basemap('Esri.WorldImagery')\n",
        "m.add_basemap('NLCD 2021 CONUS Land Cover')\n",
        "m.add_legend(builtin_legend='NLCD', max_width='100px', height='455px')\n",
        "m"
      ],
      "id": "LTLNL86ebGwm"
    },
    {
      "cell_type": "markdown",
      "metadata": {
        "id": "c9uFe_EIbGwm"
      },
      "source": [
        "Add NLCD Earth Engine layer and legend to the map."
      ],
      "id": "c9uFe_EIbGwm"
    },
    {
      "cell_type": "code",
      "execution_count": null,
      "metadata": {
        "id": "_iySkAZEbGwm"
      },
      "outputs": [],
      "source": [
        "m = geemap.Map(center=[40, -100], zoom=4)\n",
        "m.add_basemap('Esri.WorldImagery')\n",
        "\n",
        "nlcd = ee.Image('USGS/NLCD_RELEASES/2021_REL/NLCD/2021')\n",
        "landcover = nlcd.select('landcover')\n",
        "\n",
        "m.add_layer(landcover, {}, 'NLCD Land Cover 2021')\n",
        "m.add_legend(\n",
        "    title=\"NLCD Land Cover Classification\", builtin_legend='NLCD', height='455px'\n",
        ")\n",
        "m"
      ],
      "id": "_iySkAZEbGwm"
    },
    {
      "cell_type": "markdown",
      "metadata": {
        "id": "Hu5Z8aCGbGwm"
      },
      "source": [
        "#### Custom legends"
      ],
      "id": "Hu5Z8aCGbGwm"
    },
    {
      "cell_type": "markdown",
      "metadata": {
        "id": "Y2FXRgMTbGwm"
      },
      "source": [
        "Add a custom legend by specifying the colors and labels."
      ],
      "id": "Y2FXRgMTbGwm"
    },
    {
      "cell_type": "code",
      "execution_count": null,
      "metadata": {
        "id": "IaxhRXbrbGwm"
      },
      "outputs": [],
      "source": [
        "m = geemap.Map(add_google_map=False)\n",
        "\n",
        "keys = ['One', 'Two', 'Three', 'Four', 'etc']\n",
        "\n",
        "# colors can be defined using either hex code or RGB (0-255, 0-255, 0-255)\n",
        "colors = ['#8DD3C7', '#FFFFB3', '#BEBADA', '#FB8072', '#80B1D3']\n",
        "# legend_colors = [(255, 0, 0), (127, 255, 0), (127, 18, 25), (36, 70, 180), (96, 68 123)]\n",
        "\n",
        "m.add_legend(keys=keys, colors=colors, position='bottomright')\n",
        "m"
      ],
      "id": "IaxhRXbrbGwm"
    },
    {
      "cell_type": "markdown",
      "metadata": {
        "id": "z_r1wjPKbGwn"
      },
      "source": [
        "Add a custom legend by specifying a dictionary of colors and labels."
      ],
      "id": "z_r1wjPKbGwn"
    },
    {
      "cell_type": "code",
      "execution_count": null,
      "metadata": {
        "id": "xBeoDk4DbGwn"
      },
      "outputs": [],
      "source": [
        "m = geemap.Map(center=[40, -100], zoom=4)\n",
        "m.add_basemap('Esri.WorldImagery')\n",
        "\n",
        "legend_dict = {\n",
        "    '11 Open Water': '466b9f',\n",
        "    '12 Perennial Ice/Snow': 'd1def8',\n",
        "    '21 Developed, Open Space': 'dec5c5',\n",
        "    '22 Developed, Low Intensity': 'd99282',\n",
        "    '23 Developed, Medium Intensity': 'eb0000',\n",
        "    '24 Developed High Intensity': 'ab0000',\n",
        "    '31 Barren Land (Rock/Sand/Clay)': 'b3ac9f',\n",
        "    '41 Deciduous Forest': '68ab5f',\n",
        "    '42 Evergreen Forest': '1c5f2c',\n",
        "    '43 Mixed Forest': 'b5c58f',\n",
        "    '51 Dwarf Scrub': 'af963c',\n",
        "    '52 Shrub/Scrub': 'ccb879',\n",
        "    '71 Grassland/Herbaceous': 'dfdfc2',\n",
        "    '72 Sedge/Herbaceous': 'd1d182',\n",
        "    '73 Lichens': 'a3cc51',\n",
        "    '74 Moss': '82ba9e',\n",
        "    '81 Pasture/Hay': 'dcd939',\n",
        "    '82 Cultivated Crops': 'ab6c28',\n",
        "    '90 Woody Wetlands': 'b8d9eb',\n",
        "    '95 Emergent Herbaceous Wetlands': '6c9fb8',\n",
        "}\n",
        "\n",
        "nlcd = ee.Image('USGS/NLCD_RELEASES/2021_REL/NLCD/2021')\n",
        "landcover = nlcd.select('landcover')\n",
        "\n",
        "m.add_layer(landcover, {}, 'NLCD Land Cover 2021')\n",
        "m.add_legend(title=\"NLCD Land Cover Classification\", legend_dict=legend_dict)\n",
        "m"
      ],
      "id": "xBeoDk4DbGwn"
    },
    {
      "cell_type": "markdown",
      "metadata": {
        "id": "i3tLnzkDbGwn"
      },
      "source": [
        "#### Creating color bars\n",
        "\n",
        "Add a horizontal color bar."
      ],
      "id": "i3tLnzkDbGwn"
    },
    {
      "cell_type": "code",
      "execution_count": null,
      "metadata": {
        "id": "eebXOecbbGwn"
      },
      "outputs": [],
      "source": [
        "m = geemap.Map()\n",
        "\n",
        "dem = ee.Image('USGS/SRTMGL1_003')\n",
        "vis_params = {\n",
        "    'min': 0,\n",
        "    'max': 4000,\n",
        "    'palette': ['006633', 'E5FFCC', '662A00', 'D8D8D8', 'F5F5F5'],\n",
        "}\n",
        "\n",
        "m.add_layer(dem, vis_params, 'SRTM DEM')\n",
        "m.add_colorbar(vis_params, label=\"Elevation (m)\", layer_name=\"SRTM DEM\")\n",
        "m"
      ],
      "id": "eebXOecbbGwn"
    },
    {
      "cell_type": "markdown",
      "metadata": {
        "id": "XTE57lHibGwn"
      },
      "source": [
        "Add a vertical color bar."
      ],
      "id": "XTE57lHibGwn"
    },
    {
      "cell_type": "code",
      "execution_count": null,
      "metadata": {
        "id": "CfpsqLJ-bGwn"
      },
      "outputs": [],
      "source": [
        "m.add_colorbar(\n",
        "    vis_params,\n",
        "    label=\"Elevation (m)\",\n",
        "    layer_name=\"SRTM DEM\",\n",
        "    orientation=\"vertical\",\n",
        "    max_width=\"100px\"\n",
        ")"
      ],
      "id": "CfpsqLJ-bGwn"
    },
    {
      "cell_type": "markdown",
      "metadata": {
        "id": "oA8-OojzbGwo"
      },
      "source": [
        "Make the color bar background transparent."
      ],
      "id": "oA8-OojzbGwo"
    },
    {
      "cell_type": "code",
      "execution_count": null,
      "metadata": {
        "id": "TLXXY2u1bGwo"
      },
      "outputs": [],
      "source": [
        "m.add_colorbar(\n",
        "    vis_params,\n",
        "    label=\"Elevation (m)\",\n",
        "    layer_name=\"SRTM DEM\",\n",
        "    orientation=\"vertical\",\n",
        "    max_width=\"100px\",\n",
        "    transparent_bg=True\n",
        ")"
      ],
      "id": "TLXXY2u1bGwo"
    },
    {
      "cell_type": "markdown",
      "metadata": {
        "id": "WMVjatkpbGwo"
      },
      "source": [
        "### Split-panel map and linked maps\n",
        "\n",
        "### Split-panel maps\n",
        "\n",
        "Create a split map with basemaps. Note that ipyleaflet has a bug with the SplitControl. You can't pan the map, which should be resolved in the next ipyleaflet release."
      ],
      "id": "WMVjatkpbGwo"
    },
    {
      "cell_type": "code",
      "execution_count": null,
      "metadata": {
        "id": "4hVqu92CbGwo"
      },
      "outputs": [],
      "source": [
        "m = geemap.Map()\n",
        "m.split_map(left_layer='Esri.WorldTopoMap', right_layer='OpenTopoMap')\n",
        "m"
      ],
      "id": "4hVqu92CbGwo"
    },
    {
      "cell_type": "markdown",
      "metadata": {
        "id": "HBG4pDyabGwo"
      },
      "source": [
        "Create a split map with Earth Engine layers."
      ],
      "id": "HBG4pDyabGwo"
    },
    {
      "cell_type": "code",
      "execution_count": null,
      "metadata": {
        "id": "OGPreY_qbGwo"
      },
      "outputs": [],
      "source": [
        "m = geemap.Map(center=(40, -100), zoom=4, height=600)\n",
        "\n",
        "nlcd_2001 = ee.Image('USGS/NLCD_RELEASES/2019_REL/NLCD/2001').select('landcover')\n",
        "nlcd_2019 = ee.Image('USGS/NLCD_RELEASES/2021_REL/NLCD/2021').select('landcover')\n",
        "\n",
        "left_layer = geemap.ee_tile_layer(nlcd_2001, {}, 'NLCD 2001')\n",
        "right_layer = geemap.ee_tile_layer(nlcd_2019, {}, 'NLCD 2021')\n",
        "\n",
        "m.split_map(left_layer, right_layer)\n",
        "m"
      ],
      "id": "OGPreY_qbGwo"
    },
    {
      "cell_type": "markdown",
      "metadata": {
        "id": "B_zDSvwebGwp"
      },
      "source": [
        "### Linked maps\n",
        "\n",
        "Create a 2x2 linked map for visualizing Sentinel-2 imagery with different band combinations. Note that this feature does not work properly with Colab. Panning one map would not pan other maps."
      ],
      "id": "B_zDSvwebGwp"
    },
    {
      "cell_type": "code",
      "execution_count": null,
      "metadata": {
        "id": "ggrmgrkobGwp"
      },
      "outputs": [],
      "source": [
        "image = (\n",
        "    ee.ImageCollection('COPERNICUS/S2')\n",
        "    .filterDate('2018-09-01', '2018-09-30')\n",
        "    .map(lambda img: img.divide(10000))\n",
        "    .median()\n",
        ")\n",
        "\n",
        "vis_params = [\n",
        "    {'bands': ['B4', 'B3', 'B2'], 'min': 0, 'max': 0.3, 'gamma': 1.3},\n",
        "    {'bands': ['B8', 'B11', 'B4'], 'min': 0, 'max': 0.3, 'gamma': 1.3},\n",
        "    {'bands': ['B8', 'B4', 'B3'], 'min': 0, 'max': 0.3, 'gamma': 1.3},\n",
        "    {'bands': ['B12', 'B12', 'B4'], 'min': 0, 'max': 0.3, 'gamma': 1.3},\n",
        "]\n",
        "\n",
        "labels = [\n",
        "    'Natural Color (B4/B3/B2)',\n",
        "    'Land/Water (B8/B11/B4)',\n",
        "    'Color Infrared (B8/B4/B3)',\n",
        "    'Vegetation (B12/B11/B4)',\n",
        "]\n",
        "\n",
        "geemap.linked_maps(\n",
        "    rows=2,\n",
        "    cols=2,\n",
        "    height=\"300px\",\n",
        "    center=[38.4151, 21.2712],\n",
        "    zoom=12,\n",
        "    ee_objects=[image],\n",
        "    vis_params=vis_params,\n",
        "    labels=labels,\n",
        "    label_position=\"topright\",\n",
        ")"
      ],
      "id": "ggrmgrkobGwp"
    },
    {
      "cell_type": "markdown",
      "metadata": {
        "id": "w6O2l8Y3bGwp"
      },
      "source": [
        "### Timeseries inspector and time slider\n",
        "\n",
        "#### Timeseries inspector\n",
        "\n",
        "Check the available years of NLCD."
      ],
      "id": "w6O2l8Y3bGwp"
    },
    {
      "cell_type": "code",
      "execution_count": null,
      "metadata": {
        "id": "W-iQD8mWbGwp"
      },
      "outputs": [],
      "source": [
        "m = geemap.Map(center=[40, -100], zoom=4)\n",
        "collection = ee.ImageCollection('USGS/NLCD_RELEASES/2019_REL/NLCD').select('landcover')\n",
        "vis_params = {'bands': ['landcover']}\n",
        "years = collection.aggregate_array('system:index').getInfo()\n",
        "years"
      ],
      "id": "W-iQD8mWbGwp"
    },
    {
      "cell_type": "markdown",
      "metadata": {
        "id": "cbRpVv7hbGwp"
      },
      "source": [
        "Create a timeseries inspector for NLCD. Note that ipyleaflet has a bug with the SplitControl. You can't pan the map, which should be resolved in the next ipyleaflet release."
      ],
      "id": "cbRpVv7hbGwp"
    },
    {
      "cell_type": "code",
      "execution_count": null,
      "metadata": {
        "id": "IJWDu33ObGwp"
      },
      "outputs": [],
      "source": [
        "m.ts_inspector(\n",
        "    left_ts=collection,\n",
        "    right_ts=collection,\n",
        "    left_names=years,\n",
        "    right_names=years,\n",
        "    left_vis=vis_params,\n",
        "    right_vis=vis_params,\n",
        "    width='80px',\n",
        ")\n",
        "m"
      ],
      "id": "IJWDu33ObGwp"
    },
    {
      "cell_type": "markdown",
      "metadata": {
        "id": "aoXlvMwRbGwp"
      },
      "source": [
        "#### Time slider\n",
        "\n",
        "Note that this feature may not work properly with Colab. Restart Colab runtime if the time slider does not work.\n",
        "\n",
        "Create a map for visualizing MODIS vegetation data."
      ],
      "id": "aoXlvMwRbGwp"
    },
    {
      "cell_type": "code",
      "execution_count": null,
      "metadata": {
        "id": "Fr0AoycRbGwq"
      },
      "outputs": [],
      "source": [
        "m = geemap.Map()\n",
        "\n",
        "collection = (\n",
        "    ee.ImageCollection('MODIS/MCD43A4_006_NDVI')\n",
        "    .filter(ee.Filter.date('2018-06-01', '2018-07-01'))\n",
        "    .select(\"NDVI\")\n",
        ")\n",
        "vis_params = {\n",
        "    'min': 0.0,\n",
        "    'max': 1.0,\n",
        "    'palette': 'ndvi',\n",
        "}\n",
        "\n",
        "m.add_time_slider(collection, vis_params, time_interval=2)\n",
        "m"
      ],
      "id": "Fr0AoycRbGwq"
    },
    {
      "cell_type": "markdown",
      "metadata": {
        "id": "T4y_mObtbGwq"
      },
      "source": [
        "Create a map for visualizing weather data."
      ],
      "id": "T4y_mObtbGwq"
    },
    {
      "cell_type": "code",
      "execution_count": null,
      "metadata": {
        "id": "DZhtHIdkbGwq"
      },
      "outputs": [],
      "source": [
        "m = geemap.Map()\n",
        "\n",
        "collection = (\n",
        "    ee.ImageCollection('NOAA/GFS0P25')\n",
        "    .filterDate('2018-12-22', '2018-12-23')\n",
        "    .limit(24)\n",
        "    .select('temperature_2m_above_ground')\n",
        ")\n",
        "\n",
        "vis_params = {\n",
        "    'min': -40.0,\n",
        "    'max': 35.0,\n",
        "    'palette': ['blue', 'purple', 'cyan', 'green', 'yellow', 'red'],\n",
        "}\n",
        "\n",
        "labels = [str(n).zfill(2) + \":00\" for n in range(0, 24)]\n",
        "m.add_time_slider(collection, vis_params, labels=labels, time_interval=1, opacity=0.8)\n",
        "m"
      ],
      "id": "DZhtHIdkbGwq"
    },
    {
      "cell_type": "markdown",
      "metadata": {
        "id": "BgSjneNDbGwq"
      },
      "source": [
        "Visualizing Sentinel-2 imagery"
      ],
      "id": "BgSjneNDbGwq"
    },
    {
      "cell_type": "code",
      "execution_count": null,
      "metadata": {
        "id": "QkeM0XZIbGwq"
      },
      "outputs": [],
      "source": [
        "m = geemap.Map(center=[37.75, -122.45], zoom=12)\n",
        "\n",
        "collection = (\n",
        "    ee.ImageCollection('COPERNICUS/S2_SR')\n",
        "    .filterBounds(ee.Geometry.Point([-122.45, 37.75]))\n",
        "    .filterMetadata('CLOUDY_PIXEL_PERCENTAGE', 'less_than', 10)\n",
        ")\n",
        "\n",
        "vis_params = {\"min\": 0, \"max\": 4000, \"bands\": [\"B8\", \"B4\", \"B3\"]}\n",
        "\n",
        "m.add_time_slider(collection, vis_params)\n",
        "m"
      ],
      "id": "QkeM0XZIbGwq"
    },
    {
      "cell_type": "markdown",
      "metadata": {
        "id": "TzRxRcGTbGwq"
      },
      "source": [
        "### Exercise 2 - Creating land cover maps with a legend\n",
        "\n",
        "Create a split map for visualizing NLCD land cover change in Texas between 2001 and 2019. Add the NLCD legend to the map. Relevant Earth Engine assets:\n",
        "\n",
        "-   [ee.FeatureCollection(\"TIGER/2018/States\")](https://developers.google.com/earth-engine/datasets/catalog/TIGER_2018_States)\n",
        "-   [ee.ImageCollection(\"USGS/NLCD_RELEASES/2019_REL/NLCD\")](https://developers.google.com/earth-engine/datasets/catalog/USGS_NLCD_RELEASES_2019_REL_NLCD)\n",
        "\n",
        "![](https://i.imgur.com/1b62CeI.jpg)"
      ],
      "id": "TzRxRcGTbGwq"
    },
    {
      "cell_type": "code",
      "execution_count": null,
      "metadata": {
        "id": "XyWLAoOXbGwr"
      },
      "outputs": [],
      "source": [],
      "id": "XyWLAoOXbGwr"
    },
    {
      "cell_type": "markdown",
      "metadata": {
        "id": "X-vXkVX5bGwr"
      },
      "source": [
        "## Analyzing Earth Engine data (30 mins)\n",
        "\n",
        "### Image descriptive statistics\n",
        "\n",
        "Use a sample Landsat image."
      ],
      "id": "X-vXkVX5bGwr"
    },
    {
      "cell_type": "code",
      "execution_count": null,
      "metadata": {
        "id": "fHZdcj6MbGwr"
      },
      "outputs": [],
      "source": [
        "import geemap"
      ],
      "id": "fHZdcj6MbGwr"
    },
    {
      "cell_type": "code",
      "execution_count": null,
      "metadata": {
        "id": "qBz_jgQebGwr"
      },
      "outputs": [],
      "source": [
        "m = geemap.Map()\n",
        "m"
      ],
      "id": "qBz_jgQebGwr"
    },
    {
      "cell_type": "code",
      "execution_count": null,
      "metadata": {
        "id": "oNmbEWmcbGwr"
      },
      "outputs": [],
      "source": [
        "m = geemap.Map()\n",
        "\n",
        "centroid = ee.Geometry.Point([-122.4439, 37.7538])\n",
        "image = ee.ImageCollection('LANDSAT/LC08/C01/T1_SR').filterBounds(centroid).first()\n",
        "vis = {'min': 0, 'max': 3000, 'bands': ['B5', 'B4', 'B3']}\n",
        "\n",
        "m.center_object(centroid, 8)\n",
        "m.add_layer(image, vis, \"Landsat-8\")\n",
        "m.add_layer(centroid, {}, 'Centroid')\n",
        "m"
      ],
      "id": "oNmbEWmcbGwr"
    },
    {
      "cell_type": "markdown",
      "metadata": {
        "id": "pumpn58gbGwr"
      },
      "source": [
        "Check image properties."
      ],
      "id": "pumpn58gbGwr"
    },
    {
      "cell_type": "code",
      "execution_count": null,
      "metadata": {
        "id": "KKkiV_M_bGwr"
      },
      "outputs": [],
      "source": [
        "image.propertyNames()"
      ],
      "id": "KKkiV_M_bGwr"
    },
    {
      "cell_type": "markdown",
      "metadata": {
        "id": "0hM7D6a6bGws"
      },
      "source": [
        "Check image property values."
      ],
      "id": "0hM7D6a6bGws"
    },
    {
      "cell_type": "code",
      "execution_count": null,
      "metadata": {
        "id": "lilK9rj1bGws"
      },
      "outputs": [],
      "source": [
        "image.toDictionary()"
      ],
      "id": "lilK9rj1bGws"
    },
    {
      "cell_type": "markdown",
      "metadata": {
        "id": "2hZDTA6BbGws"
      },
      "source": [
        "Get specific image properties."
      ],
      "id": "2hZDTA6BbGws"
    },
    {
      "cell_type": "code",
      "execution_count": null,
      "metadata": {
        "id": "MxUX5r7nbGws"
      },
      "outputs": [],
      "source": [
        "image.get('CLOUD_COVER')  # 0.05"
      ],
      "id": "MxUX5r7nbGws"
    },
    {
      "cell_type": "markdown",
      "metadata": {
        "id": "ANBjIxlCbGws"
      },
      "source": [
        "Get image properties with easy-to-read time format."
      ],
      "id": "ANBjIxlCbGws"
    },
    {
      "cell_type": "code",
      "execution_count": null,
      "metadata": {
        "id": "BUrHDWmWbGws"
      },
      "outputs": [],
      "source": [
        "props = geemap.image_props(image)\n",
        "props"
      ],
      "id": "BUrHDWmWbGws"
    },
    {
      "cell_type": "markdown",
      "metadata": {
        "id": "o_HiLmMYbGws"
      },
      "source": [
        "Compute image descriptive statistics."
      ],
      "id": "o_HiLmMYbGws"
    },
    {
      "cell_type": "code",
      "execution_count": null,
      "metadata": {
        "id": "eB6XS2DmbGwt"
      },
      "outputs": [],
      "source": [
        "stats = geemap.image_stats(image, scale=30)\n",
        "stats"
      ],
      "id": "eB6XS2DmbGwt"
    },
    {
      "cell_type": "markdown",
      "metadata": {
        "id": "DjfJ_FLHbGwt"
      },
      "source": [
        "### Zonal statistics\n",
        "\n",
        "#### Zonal statistics\n",
        "\n",
        "Add Earth Engine data to the map."
      ],
      "id": "DjfJ_FLHbGwt"
    },
    {
      "cell_type": "code",
      "execution_count": null,
      "metadata": {
        "id": "Y5GadkwCbGwt"
      },
      "outputs": [],
      "source": [
        "m = geemap.Map(center=[40, -100], zoom=4)\n",
        "\n",
        "# Add NASA SRTM\n",
        "dem = ee.Image('USGS/SRTMGL1_003')\n",
        "dem_vis = {\n",
        "    'min': 0,\n",
        "    'max': 4000,\n",
        "    'palette': ['006633', 'E5FFCC', '662A00', 'D8D8D8', 'F5F5F5'],\n",
        "}\n",
        "m.add_layer(dem, dem_vis, 'SRTM DEM')\n",
        "\n",
        "# Add 5-year Landsat TOA composite\n",
        "landsat = ee.Image('LANDSAT/LE7_TOA_5YEAR/1999_2003')\n",
        "landsat_vis = {'bands': ['B4', 'B3', 'B2'], 'gamma': 1.4}\n",
        "m.add_layer(landsat, landsat_vis, \"Landsat\", False)\n",
        "\n",
        "# Add US Census States\n",
        "states = ee.FeatureCollection(\"TIGER/2018/States\")\n",
        "style = {'fillColor': '00000000'}\n",
        "m.add_layer(states.style(**style), {}, 'US States')\n",
        "m"
      ],
      "id": "Y5GadkwCbGwt"
    },
    {
      "cell_type": "markdown",
      "metadata": {
        "id": "MnhiuzN3bGwt"
      },
      "source": [
        "Compute zonal statistics. In this case, we compute the mean elevation of each state and export the results to a CSV file."
      ],
      "id": "MnhiuzN3bGwt"
    },
    {
      "cell_type": "code",
      "execution_count": null,
      "metadata": {
        "id": "pNa22ScVbGwt"
      },
      "outputs": [],
      "source": [
        "out_dem_stats = 'dem_stats.csv'\n",
        "geemap.zonal_stats(\n",
        "    dem, states, out_dem_stats, statistics_type='MEAN', scale=1000, return_fc=False\n",
        ")"
      ],
      "id": "pNa22ScVbGwt"
    },
    {
      "cell_type": "markdown",
      "metadata": {
        "id": "no9Q2faTbGwt"
      },
      "source": [
        "Display the csv file as a table."
      ],
      "id": "no9Q2faTbGwt"
    },
    {
      "cell_type": "code",
      "execution_count": null,
      "metadata": {
        "id": "7vmTCp3LbGwt"
      },
      "outputs": [],
      "source": [
        "geemap.csv_to_df(out_dem_stats).sort_values(by=['mean'], ascending=True)"
      ],
      "id": "7vmTCp3LbGwt"
    },
    {
      "cell_type": "markdown",
      "metadata": {
        "id": "RuMTdYXxbGwt"
      },
      "source": [
        "Compute zonal statistics of mean spectral values of each state."
      ],
      "id": "RuMTdYXxbGwt"
    },
    {
      "cell_type": "code",
      "execution_count": null,
      "metadata": {
        "id": "QwJQOVn4bGwu"
      },
      "outputs": [],
      "source": [
        "out_landsat_stats = 'landsat_stats.csv'\n",
        "geemap.zonal_stats(\n",
        "    landsat,\n",
        "    states,\n",
        "    out_landsat_stats,\n",
        "    statistics_type='MEAN',\n",
        "    scale=1000,\n",
        "    return_fc=False,\n",
        ")"
      ],
      "id": "QwJQOVn4bGwu"
    },
    {
      "cell_type": "code",
      "execution_count": null,
      "metadata": {
        "id": "c9V8fRmsbGwu"
      },
      "outputs": [],
      "source": [
        "geemap.csv_to_df(out_landsat_stats)"
      ],
      "id": "c9V8fRmsbGwu"
    },
    {
      "cell_type": "markdown",
      "metadata": {
        "id": "Ca5iozDRbGwu"
      },
      "source": [
        "#### Zonal statistics by group\n",
        "\n",
        "Compute zonal statistics by group. In this case, we compute the area of each land cover type in each state and export the results to a CSV file."
      ],
      "id": "Ca5iozDRbGwu"
    },
    {
      "cell_type": "code",
      "execution_count": null,
      "metadata": {
        "id": "y763zEHUbGwu"
      },
      "outputs": [],
      "source": [
        "m = geemap.Map(center=[40, -100], zoom=4)\n",
        "\n",
        "# Add NLCD data\n",
        "dataset = ee.Image('USGS/NLCD_RELEASES/2021_REL/NLCD/2021')\n",
        "landcover = dataset.select('landcover')\n",
        "m.add_layer(landcover, {}, 'NLCD 2021')\n",
        "\n",
        "# Add US census states\n",
        "states = ee.FeatureCollection(\"TIGER/2018/States\")\n",
        "style = {'fillColor': '00000000'}\n",
        "m.add_layer(states.style(**style), {}, 'US States')\n",
        "\n",
        "# Add NLCD legend\n",
        "m.add_legend(title='NLCD Land Cover', builtin_legend='NLCD')\n",
        "m"
      ],
      "id": "y763zEHUbGwu"
    },
    {
      "cell_type": "markdown",
      "metadata": {
        "id": "8YOHofrObGwu"
      },
      "source": [
        "Compute zonal statistics by group and convert the area unit from square meters to square kilometers."
      ],
      "id": "8YOHofrObGwu"
    },
    {
      "cell_type": "code",
      "execution_count": null,
      "metadata": {
        "id": "WIgd5pMsbGwu"
      },
      "outputs": [],
      "source": [
        "nlcd_stats = 'nlcd_stats.csv'\n",
        "\n",
        "geemap.zonal_stats_by_group(\n",
        "    landcover,\n",
        "    states,\n",
        "    nlcd_stats,\n",
        "    statistics_type='SUM',\n",
        "    denominator=1e6,\n",
        "    decimal_places=2,\n",
        ")"
      ],
      "id": "WIgd5pMsbGwu"
    },
    {
      "cell_type": "code",
      "execution_count": null,
      "metadata": {
        "id": "KKvB2eznbGwv"
      },
      "outputs": [],
      "source": [
        "geemap.csv_to_df(nlcd_stats)"
      ],
      "id": "KKvB2eznbGwv"
    },
    {
      "cell_type": "markdown",
      "metadata": {
        "id": "pOPwYScRbGwv"
      },
      "source": [
        "Calculate the percentage of each land cover type in each state."
      ],
      "id": "pOPwYScRbGwv"
    },
    {
      "cell_type": "code",
      "execution_count": null,
      "metadata": {
        "id": "2q2xLna9bGwv"
      },
      "outputs": [],
      "source": [
        "nlcd_stats = 'nlcd_stats_pct.csv'\n",
        "\n",
        "geemap.zonal_stats_by_group(\n",
        "    landcover,\n",
        "    states,\n",
        "    nlcd_stats,\n",
        "    statistics_type='PERCENTAGE',\n",
        "    denominator=1e6,\n",
        "    decimal_places=2,\n",
        ")"
      ],
      "id": "2q2xLna9bGwv"
    },
    {
      "cell_type": "code",
      "execution_count": null,
      "metadata": {
        "id": "FgA7yMIzbGwv"
      },
      "outputs": [],
      "source": [
        "geemap.csv_to_df(nlcd_stats)"
      ],
      "id": "FgA7yMIzbGwv"
    },
    {
      "cell_type": "markdown",
      "metadata": {
        "id": "97R-F5iTbGwv"
      },
      "source": [
        "#### Zonal statistics with two images"
      ],
      "id": "97R-F5iTbGwv"
    },
    {
      "cell_type": "markdown",
      "metadata": {
        "id": "0iVwYHO_bGwv"
      },
      "source": [
        "The zonal statistics by zone algorithm is similar to the zonal statistics by group algorithm, but it takes an image as the zone input instead of a feature collection."
      ],
      "id": "0iVwYHO_bGwv"
    },
    {
      "cell_type": "code",
      "execution_count": null,
      "metadata": {
        "id": "ujxOqKP0bGwv"
      },
      "outputs": [],
      "source": [
        "m = geemap.Map(center=[40, -100], zoom=4)\n",
        "dem = ee.Image('USGS/3DEP/10m')\n",
        "vis = {'min': 0, 'max': 4000, 'palette': 'terrain'}\n",
        "m.add_layer(dem, vis, 'DEM')\n",
        "m"
      ],
      "id": "ujxOqKP0bGwv"
    },
    {
      "cell_type": "code",
      "execution_count": null,
      "metadata": {
        "id": "-MwuEx93bGwv"
      },
      "outputs": [],
      "source": [
        "landcover = ee.Image(\"USGS/NLCD_RELEASES/2021_REL/NLCD/2021\").select('landcover')\n",
        "m.add_layer(landcover, {}, 'NLCD 2021')\n",
        "m.add_legend(title='NLCD Land Cover Classification', builtin_legend='NLCD')"
      ],
      "id": "-MwuEx93bGwv"
    },
    {
      "cell_type": "markdown",
      "metadata": {
        "id": "nI9ViS_kbGww"
      },
      "source": [
        "Computer the mean elevation of each land cover type."
      ],
      "id": "nI9ViS_kbGww"
    },
    {
      "cell_type": "code",
      "execution_count": null,
      "metadata": {
        "id": "qXKPiZbcbGww"
      },
      "outputs": [],
      "source": [
        "stats = geemap.image_stats_by_zone(dem, landcover, reducer='MEAN')\n",
        "stats"
      ],
      "id": "qXKPiZbcbGww"
    },
    {
      "cell_type": "code",
      "execution_count": null,
      "metadata": {
        "id": "cCnmOpt7bGww"
      },
      "outputs": [],
      "source": [
        "stats.to_csv('mean.csv', index=False)"
      ],
      "id": "cCnmOpt7bGww"
    },
    {
      "cell_type": "markdown",
      "metadata": {
        "id": "-jXCNPzEbGww"
      },
      "source": [
        "Compute the standard deviation of each land cover type."
      ],
      "id": "-jXCNPzEbGww"
    },
    {
      "cell_type": "code",
      "execution_count": null,
      "metadata": {
        "id": "WrZl5dddbGww"
      },
      "outputs": [],
      "source": [
        "geemap.image_stats_by_zone(dem, landcover, out_csv=\"std.csv\", reducer='STD')"
      ],
      "id": "WrZl5dddbGww"
    },
    {
      "cell_type": "code",
      "execution_count": null,
      "metadata": {
        "id": "FfidMm3DbGww"
      },
      "outputs": [],
      "source": [
        "geemap.csv_to_df('std.csv')"
      ],
      "id": "FfidMm3DbGww"
    },
    {
      "cell_type": "markdown",
      "metadata": {
        "id": "PpEoJYlubGww"
      },
      "source": [
        "### Exercise 3 - Zonal statistics\n",
        "\n",
        "Find out which state has the highest mean temperature on in the United States on June 28, 2023. Relevant Earth Engine assets:\n",
        "\n",
        "-   [ee.FeatureCollection(\"TIGER/2018/States\")](https://developers.google.com/earth-engine/datasets/catalog/TIGER_2018_States)\n",
        "-   [ee.ImageCollection(\"NOAA/GFS0P25\")](https://developers.google.com/earth-engine/datasets/catalog/NOAA_GFS0P25)\n",
        "\n",
        "![](https://i.imgur.com/GZCHHz3.png)"
      ],
      "id": "PpEoJYlubGww"
    },
    {
      "cell_type": "code",
      "execution_count": null,
      "metadata": {
        "id": "evw35rxQbGww"
      },
      "outputs": [],
      "source": [],
      "id": "evw35rxQbGww"
    },
    {
      "cell_type": "markdown",
      "metadata": {
        "id": "ndPCzNNkbGwx"
      },
      "source": [
        "### Coordinate grids and fishnets\n",
        "\n",
        "#### Creating coordinate grids\n",
        "\n",
        "Create a latitudinal grid with a 5-degree interval."
      ],
      "id": "ndPCzNNkbGwx"
    },
    {
      "cell_type": "code",
      "execution_count": null,
      "metadata": {
        "id": "AoXKzJ-5bGwx"
      },
      "outputs": [],
      "source": [
        "lat_grid = geemap.latitude_grid(step=5.0, west=-180, east=180, south=-85, north=85)"
      ],
      "id": "AoXKzJ-5bGwx"
    },
    {
      "cell_type": "code",
      "execution_count": null,
      "metadata": {
        "id": "3PMbXmEJbGwx"
      },
      "outputs": [],
      "source": [
        "m = geemap.Map()\n",
        "style = {'fillColor': '00000000'}\n",
        "m.add_layer(lat_grid.style(**style), {}, 'Latitude Grid')\n",
        "m"
      ],
      "id": "3PMbXmEJbGwx"
    },
    {
      "cell_type": "code",
      "execution_count": null,
      "metadata": {
        "id": "rum5IXD_bGwx"
      },
      "outputs": [],
      "source": [
        "df = geemap.ee_to_df(lat_grid)\n",
        "df.head()"
      ],
      "id": "rum5IXD_bGwx"
    },
    {
      "cell_type": "markdown",
      "metadata": {
        "id": "B43QssFYbGwx"
      },
      "source": [
        "Create a longitudinal grid with a 5-degree interval."
      ],
      "id": "B43QssFYbGwx"
    },
    {
      "cell_type": "code",
      "execution_count": null,
      "metadata": {
        "id": "55qYB4iebGwx"
      },
      "outputs": [],
      "source": [
        "lon_grid = geemap.longitude_grid(step=5.0, west=-180, east=180, south=-85, north=85)"
      ],
      "id": "55qYB4iebGwx"
    },
    {
      "cell_type": "code",
      "execution_count": null,
      "metadata": {
        "id": "vz7xWP2cbGwy"
      },
      "outputs": [],
      "source": [
        "m = geemap.Map()\n",
        "style = {'fillColor': '00000000'}\n",
        "m.add_layer(lon_grid.style(**style), {}, 'Longitude Grid')\n",
        "m"
      ],
      "id": "vz7xWP2cbGwy"
    },
    {
      "cell_type": "markdown",
      "metadata": {
        "id": "BbHppyRubGwy"
      },
      "source": [
        "Create a rectangular grid with a 10-degree interval."
      ],
      "id": "BbHppyRubGwy"
    },
    {
      "cell_type": "code",
      "execution_count": null,
      "metadata": {
        "id": "CHJYVrnZbGwy"
      },
      "outputs": [],
      "source": [
        "grid = geemap.latlon_grid(\n",
        "    lat_step=10, lon_step=10, west=-180, east=180, south=-85, north=85\n",
        ")"
      ],
      "id": "CHJYVrnZbGwy"
    },
    {
      "cell_type": "code",
      "execution_count": null,
      "metadata": {
        "id": "mCc8Ua08bGwy"
      },
      "outputs": [],
      "source": [
        "m = geemap.Map()\n",
        "style = {'fillColor': '00000000'}\n",
        "m.add_layer(grid.style(**style), {}, 'Coordinate Grid')\n",
        "m"
      ],
      "id": "mCc8Ua08bGwy"
    },
    {
      "cell_type": "markdown",
      "metadata": {
        "id": "eZGUlZo0bGwy"
      },
      "source": [
        "#### Creating fishnets\n",
        "\n",
        "Create a fishnet based on an Earth Engine geometry."
      ],
      "id": "eZGUlZo0bGwy"
    },
    {
      "cell_type": "code",
      "execution_count": null,
      "metadata": {
        "id": "xa5AfVG4bGwz"
      },
      "outputs": [],
      "source": [
        "m = geemap.Map()\n",
        "m"
      ],
      "id": "xa5AfVG4bGwz"
    },
    {
      "cell_type": "markdown",
      "metadata": {
        "id": "bXknY9QIbGwz"
      },
      "source": [
        "Use the drawing tools to draw a polygon on the map above. If no polygon is drawn, the default polygon will be used."
      ],
      "id": "bXknY9QIbGwz"
    },
    {
      "cell_type": "code",
      "execution_count": null,
      "metadata": {
        "id": "3DCoijwpbGwz"
      },
      "outputs": [],
      "source": [
        "roi = m.user_roi\n",
        "\n",
        "if roi is None:\n",
        "    roi = ee.Geometry.BBox(-112.8089, 33.7306, -88.5951, 46.6244)\n",
        "    m.add_layer(roi, {}, 'ROI')\n",
        "\n",
        "m.center_object(roi)"
      ],
      "id": "3DCoijwpbGwz"
    },
    {
      "cell_type": "markdown",
      "metadata": {
        "id": "teUzaUjUbGwz"
      },
      "source": [
        "Create a fishnet based on a user-drawn polygon with a 2-degree interval."
      ],
      "id": "teUzaUjUbGwz"
    },
    {
      "cell_type": "code",
      "execution_count": null,
      "metadata": {
        "id": "YFAmcwN3bGwz"
      },
      "outputs": [],
      "source": [
        "fishnet = geemap.fishnet(roi, h_interval=2.0, v_interval=2.0, delta=1)\n",
        "style = {'color': 'blue', 'fillColor': '00000000'}\n",
        "m.add_layer(fishnet.style(**style), {}, 'Fishnet')"
      ],
      "id": "YFAmcwN3bGwz"
    },
    {
      "cell_type": "markdown",
      "metadata": {
        "id": "RoHjb9D3bGwz"
      },
      "source": [
        "Create a new map."
      ],
      "id": "RoHjb9D3bGwz"
    },
    {
      "cell_type": "code",
      "execution_count": null,
      "metadata": {
        "id": "UkHxkK06bGw0"
      },
      "outputs": [],
      "source": [
        "m = geemap.Map()\n",
        "m"
      ],
      "id": "UkHxkK06bGw0"
    },
    {
      "cell_type": "markdown",
      "metadata": {
        "id": "HPfb0CrMbGw0"
      },
      "source": [
        "Draw a polygon on the map."
      ],
      "id": "HPfb0CrMbGw0"
    },
    {
      "cell_type": "code",
      "execution_count": null,
      "metadata": {
        "id": "taMU2XMQbGw0"
      },
      "outputs": [],
      "source": [
        "roi = m.user_roi\n",
        "\n",
        "if roi is None:\n",
        "    roi = ee.Geometry.Polygon(\n",
        "        [\n",
        "            [\n",
        "                [-64.602356, -1.127399],\n",
        "                [-68.821106, -12.625598],\n",
        "                [-60.647278, -22.498601],\n",
        "                [-47.815247, -21.111406],\n",
        "                [-43.860168, -8.913564],\n",
        "                [-54.582825, -0.775886],\n",
        "                [-60.823059, 0.454555],\n",
        "                [-64.602356, -1.127399],\n",
        "            ]\n",
        "        ]\n",
        "    )\n",
        "    m.add_layer(roi, {}, 'ROI')\n",
        "\n",
        "m.center_object(roi)\n",
        "m"
      ],
      "id": "taMU2XMQbGw0"
    },
    {
      "cell_type": "markdown",
      "metadata": {
        "id": "W9B5x9FNbGw0"
      },
      "source": [
        "Create a fishnet based on a user-drawn polygon with specified number of rows and columns."
      ],
      "id": "W9B5x9FNbGw0"
    },
    {
      "cell_type": "code",
      "execution_count": null,
      "metadata": {
        "id": "DSRp3rHSbGw0"
      },
      "outputs": [],
      "source": [
        "fishnet = geemap.fishnet(roi, rows=6, cols=8, delta=1)\n",
        "style = {'color': 'blue', 'fillColor': '00000000'}\n",
        "m.add_layer(fishnet.style(**style), {}, 'Fishnet')"
      ],
      "id": "DSRp3rHSbGw0"
    },
    {
      "cell_type": "markdown",
      "metadata": {
        "id": "ovh7u8L0bGw0"
      },
      "source": [
        "### Land use and land cover change analysis\n",
        "\n",
        "#### Forest cover mapping\n",
        "\n",
        "We will use the [Hansen Global Forest Change v1.10 (2000-2022) dataset](https://developers.google.com/earth-engine/datasets/catalog/UMD_hansen_global_forest_change_2022_v1_10)."
      ],
      "id": "ovh7u8L0bGw0"
    },
    {
      "cell_type": "code",
      "execution_count": null,
      "metadata": {
        "id": "sUUnXx_UbGw1"
      },
      "outputs": [],
      "source": [
        "dataset = ee.Image('UMD/hansen/global_forest_change_2022_v1_10')\n",
        "dataset.bandNames()"
      ],
      "id": "sUUnXx_UbGw1"
    },
    {
      "cell_type": "markdown",
      "metadata": {
        "id": "hD1pzQ-IbGw1"
      },
      "source": [
        "Select the imagery for 2000."
      ],
      "id": "hD1pzQ-IbGw1"
    },
    {
      "cell_type": "code",
      "execution_count": null,
      "metadata": {
        "id": "IXAVg7MAbGw1"
      },
      "outputs": [],
      "source": [
        "m = geemap.Map()\n",
        "first_bands = ['first_b50', 'first_b40', 'first_b30']\n",
        "first_image = dataset.select(first_bands)\n",
        "m.add_layer(first_image, {'bands': first_bands, 'gamma': 1.5}, 'Landsat 2000')"
      ],
      "id": "IXAVg7MAbGw1"
    },
    {
      "cell_type": "markdown",
      "metadata": {
        "id": "ffe8Co3abGw1"
      },
      "source": [
        "Select the imagery for 2022."
      ],
      "id": "ffe8Co3abGw1"
    },
    {
      "cell_type": "code",
      "execution_count": null,
      "metadata": {
        "id": "bq7DOK_FbGw1"
      },
      "outputs": [],
      "source": [
        "last_bands = ['last_b50', 'last_b40', 'last_b30']\n",
        "last_image = dataset.select(last_bands)\n",
        "m.add_layer(last_image, {'bands': last_bands, 'gamma': 1.5}, 'Landsat 2022')"
      ],
      "id": "bq7DOK_FbGw1"
    },
    {
      "cell_type": "markdown",
      "metadata": {
        "id": "MCN3KVg1bGw2"
      },
      "source": [
        "Select the tree cover imagery for 2000."
      ],
      "id": "MCN3KVg1bGw2"
    },
    {
      "cell_type": "code",
      "execution_count": null,
      "metadata": {
        "id": "W7B_XTD5bGw2"
      },
      "outputs": [],
      "source": [
        "treecover = dataset.select(['treecover2000'])\n",
        "treeCoverVisParam = {'min': 0, 'max': 100, 'palette': ['black', 'green']}\n",
        "name = 'Tree cover (%)'\n",
        "m.add_layer(treecover, treeCoverVisParam, name)\n",
        "m.add_colorbar(treeCoverVisParam, label=name, layer_name=name)\n",
        "m.add('layer_manager')\n",
        "m"
      ],
      "id": "W7B_XTD5bGw2"
    },
    {
      "cell_type": "markdown",
      "metadata": {
        "id": "tdh6CeHHbGw2"
      },
      "source": [
        "Extract tree cover 2000 by using the threshold of 10%."
      ],
      "id": "tdh6CeHHbGw2"
    },
    {
      "cell_type": "code",
      "execution_count": null,
      "metadata": {
        "id": "Fa_F0-iRbGw2"
      },
      "outputs": [],
      "source": [
        "threshold = 10\n",
        "treecover_bin = treecover.gte(threshold).selfMask()\n",
        "treeVisParam = {'palette': ['green']}\n",
        "m.add_layer(treecover_bin, treeVisParam, 'Tree cover bin')"
      ],
      "id": "Fa_F0-iRbGw2"
    },
    {
      "cell_type": "markdown",
      "metadata": {
        "id": "b53osEoobGw2"
      },
      "source": [
        "#### Forest loss and gain mapping\n",
        "\n",
        "Visualize forest loss."
      ],
      "id": "b53osEoobGw2"
    },
    {
      "cell_type": "code",
      "execution_count": null,
      "metadata": {
        "id": "kmjV2smAbGw2"
      },
      "outputs": [],
      "source": [
        "m = geemap.Map()\n",
        "m.add_basemap('Esri.WorldImagery')\n",
        "treeloss_year = dataset.select(['lossyear'])\n",
        "treeLossVisParam = {'min': 0, 'max': 22, 'palette': ['yellow', 'red']}\n",
        "layer_name = 'Tree loss year'\n",
        "m.add_layer(treeloss_year, treeLossVisParam, layer_name)\n",
        "m.add_colorbar(treeLossVisParam, label=layer_name, layer_name=layer_name)\n",
        "m.add('layer_manager')\n",
        "m"
      ],
      "id": "kmjV2smAbGw2"
    },
    {
      "cell_type": "markdown",
      "metadata": {
        "id": "qSJzue-jbGw3"
      },
      "source": [
        "Compare forest loss and gain."
      ],
      "id": "qSJzue-jbGw3"
    },
    {
      "cell_type": "code",
      "execution_count": null,
      "metadata": {
        "id": "LcJ0DnT0bGw3"
      },
      "outputs": [],
      "source": [
        "m = geemap.Map()\n",
        "m.add_basemap('Esri.WorldImagery')\n",
        "treeloss = dataset.select(['loss']).selfMask()\n",
        "treegain = dataset.select(['gain']).selfMask()\n",
        "m.add_layer(treeloss, {'palette': 'red'}, 'Tree loss')\n",
        "m.add_layer(treegain, {'palette': 'yellow'}, 'Tree gain')\n",
        "m.add('layer_manager')\n",
        "m"
      ],
      "id": "LcJ0DnT0bGw3"
    },
    {
      "cell_type": "markdown",
      "metadata": {
        "id": "odeyYuvzbGw3"
      },
      "source": [
        "#### Zonal statistics by country\n",
        "\n",
        "Compute zonal statistics to find out which country has the largest forest area in 2000.\n",
        "\n",
        "Add a country boundary layer to the map."
      ],
      "id": "odeyYuvzbGw3"
    },
    {
      "cell_type": "code",
      "execution_count": null,
      "metadata": {
        "id": "PjKAqYokbGw3"
      },
      "outputs": [],
      "source": [
        "m = geemap.Map()\n",
        "countries = ee.FeatureCollection(geemap.examples.get_ee_path('countries'))\n",
        "style = {'color': '#000000ff', 'fillColor': '#00000000'}\n",
        "m.add_layer(countries.style(**style), {}, 'Countries')\n",
        "m"
      ],
      "id": "PjKAqYokbGw3"
    },
    {
      "cell_type": "markdown",
      "metadata": {
        "id": "4ptlpHBvbGw3"
      },
      "source": [
        "Compute zonal statistics by country."
      ],
      "id": "4ptlpHBvbGw3"
    },
    {
      "cell_type": "code",
      "execution_count": null,
      "metadata": {
        "id": "XSdui8lLbGw3"
      },
      "outputs": [],
      "source": [
        "geemap.zonal_stats(\n",
        "    treecover_bin,\n",
        "    countries,\n",
        "    'forest_cover.csv',\n",
        "    statistics_type='SUM',\n",
        "    denominator=1e6,\n",
        "    scale=1000,\n",
        ")"
      ],
      "id": "XSdui8lLbGw3"
    },
    {
      "cell_type": "markdown",
      "metadata": {
        "id": "U0FP_YvWbGw3"
      },
      "source": [
        "Create a pie chart to visualize the forest area by country."
      ],
      "id": "U0FP_YvWbGw3"
    },
    {
      "cell_type": "code",
      "execution_count": null,
      "metadata": {
        "id": "tIbqMVuybGw4"
      },
      "outputs": [],
      "source": [
        "geemap.pie_chart(\n",
        "    'forest_cover.csv', names='NAME', values='sum', max_rows=20, height=400\n",
        ")"
      ],
      "id": "tIbqMVuybGw4"
    },
    {
      "cell_type": "markdown",
      "metadata": {
        "id": "ZNZhO1aybGw4"
      },
      "source": [
        "Create a bar chart to visualize the forest area by country."
      ],
      "id": "ZNZhO1aybGw4"
    },
    {
      "cell_type": "code",
      "execution_count": null,
      "metadata": {
        "id": "clwDC93cbGw4"
      },
      "outputs": [],
      "source": [
        "geemap.bar_chart(\n",
        "    'forest_cover.csv',\n",
        "    x='NAME',\n",
        "    y='sum',\n",
        "    max_rows=20,\n",
        "    x_label='Country',\n",
        "    y_label='Forest area (km2)',\n",
        ")"
      ],
      "id": "clwDC93cbGw4"
    },
    {
      "cell_type": "markdown",
      "metadata": {
        "id": "1cVPt6g2bGw4"
      },
      "source": [
        "Calculate the forest loss area by country."
      ],
      "id": "1cVPt6g2bGw4"
    },
    {
      "cell_type": "code",
      "execution_count": null,
      "metadata": {
        "id": "J5qEUcM9bGw4"
      },
      "outputs": [],
      "source": [
        "geemap.zonal_stats(\n",
        "    treeloss.gt(0),\n",
        "    countries,\n",
        "    'treeloss.csv',\n",
        "    statistics_type='SUM',\n",
        "    denominator=1e6,\n",
        "    scale=1000,\n",
        ")"
      ],
      "id": "J5qEUcM9bGw4"
    },
    {
      "cell_type": "markdown",
      "metadata": {
        "id": "Ti6v8iUObGw4"
      },
      "source": [
        "Create a bar chart to visualize the forest loss area by country."
      ],
      "id": "Ti6v8iUObGw4"
    },
    {
      "cell_type": "code",
      "execution_count": null,
      "metadata": {
        "id": "YsT-bxiAbGw5"
      },
      "outputs": [],
      "source": [
        "geemap.pie_chart('treeloss.csv', names='NAME', values='sum', max_rows=20, height=600)"
      ],
      "id": "YsT-bxiAbGw5"
    },
    {
      "cell_type": "markdown",
      "metadata": {
        "id": "MAgr1_wWbGw5"
      },
      "source": [
        "Create a bar chart to visualize the forest loss area by country."
      ],
      "id": "MAgr1_wWbGw5"
    },
    {
      "cell_type": "code",
      "execution_count": null,
      "metadata": {
        "id": "qRg53ShibGw5"
      },
      "outputs": [],
      "source": [
        "geemap.bar_chart(\n",
        "    'treeloss.csv',\n",
        "    x='NAME',\n",
        "    y='sum',\n",
        "    max_rows=20,\n",
        "    x_label='Country',\n",
        "    y_label='Forest loss area (km2)',\n",
        ")"
      ],
      "id": "qRg53ShibGw5"
    },
    {
      "cell_type": "markdown",
      "metadata": {
        "id": "2qQzPztFbGw5"
      },
      "source": [
        "### Exercise 4 - Analyzing forest cover gain and loss\n",
        "\n",
        "Find out which US state has the largest forest gain and loss between 2000 and 2022. Create pie charts and bar charts to show the results. Relevant Earth Engine assets:\n",
        "\n",
        "-   [ee.FeatureCollection(\"TIGER/2018/States\")](https://developers.google.com/earth-engine/datasets/catalog/TIGER_2018_States)\n",
        "-   [ee.Image(\"UMD/hansen/global_forest_change_2022_v1_10\")](https://developers.google.com/earth-engine/datasets/catalog/UMD_hansen_global_forest_change_2022_v1_10)\n",
        "\n",
        "![](https://i.imgur.com/NQ4UUnj.png)"
      ],
      "id": "2qQzPztFbGw5"
    },
    {
      "cell_type": "code",
      "execution_count": null,
      "metadata": {
        "id": "Lr-Q9U0ibGw5"
      },
      "outputs": [],
      "source": [],
      "id": "Lr-Q9U0ibGw5"
    },
    {
      "cell_type": "markdown",
      "metadata": {
        "id": "2Hj5g0KdbGw6"
      },
      "source": [
        "## Break 2 (10 mins)\n",
        "\n",
        "## Exporting Earth Engine data (30 mins)\n",
        "\n",
        "### Exporting images\n",
        "\n",
        "Add a Landsat image to the map."
      ],
      "id": "2Hj5g0KdbGw6"
    },
    {
      "cell_type": "code",
      "execution_count": null,
      "metadata": {
        "id": "f-NVtktubGw6"
      },
      "outputs": [],
      "source": [
        "m = geemap.Map()\n",
        "\n",
        "image = ee.Image('LANDSAT/LC08/C02/T1_TOA/LC08_044034_20140318').select(\n",
        "    ['B5', 'B4', 'B3']\n",
        ")\n",
        "\n",
        "vis_params = {'min': 0, 'max': 0.5, 'gamma': [0.95, 1.1, 1]}\n",
        "\n",
        "m.center_object(image)\n",
        "m.add_layer(image, vis_params, 'Landsat')\n",
        "m"
      ],
      "id": "f-NVtktubGw6"
    },
    {
      "cell_type": "markdown",
      "metadata": {
        "id": "ggQ6seoabGw6"
      },
      "source": [
        "Add a rectangle to the map."
      ],
      "id": "ggQ6seoabGw6"
    },
    {
      "cell_type": "code",
      "execution_count": null,
      "metadata": {
        "id": "Yr1CkXkebGw6"
      },
      "outputs": [],
      "source": [
        "region = ee.Geometry.BBox(-122.5955, 37.5339, -122.0982, 37.8252)\n",
        "fc = ee.FeatureCollection(region)\n",
        "style = {'color': 'ffff00ff', 'fillColor': '00000000'}\n",
        "m.add_layer(fc.style(**style), {}, 'ROI')"
      ],
      "id": "Yr1CkXkebGw6"
    },
    {
      "cell_type": "markdown",
      "metadata": {
        "id": "3HcJHx4sbGw6"
      },
      "source": [
        "To local drive"
      ],
      "id": "3HcJHx4sbGw6"
    },
    {
      "cell_type": "code",
      "execution_count": null,
      "metadata": {
        "id": "cOFE-KmzbGw7"
      },
      "outputs": [],
      "source": [
        "geemap.ee_export_image(image, filename=\"landsat.tif\", scale=30, region=region)"
      ],
      "id": "cOFE-KmzbGw7"
    },
    {
      "cell_type": "markdown",
      "metadata": {
        "id": "ayeANcBBbGw7"
      },
      "source": [
        "Check image projection."
      ],
      "id": "ayeANcBBbGw7"
    },
    {
      "cell_type": "code",
      "execution_count": null,
      "metadata": {
        "id": "6934RP8lbGw7"
      },
      "outputs": [],
      "source": [
        "projection = image.select(0).projection().getInfo()\n",
        "projection"
      ],
      "id": "6934RP8lbGw7"
    },
    {
      "cell_type": "code",
      "execution_count": null,
      "metadata": {
        "id": "4H-ZcXHzbGw7"
      },
      "outputs": [],
      "source": [
        "crs = projection['crs']\n",
        "crs_transform = projection['transform']"
      ],
      "id": "4H-ZcXHzbGw7"
    },
    {
      "cell_type": "markdown",
      "metadata": {
        "id": "JpKomzUFbGw7"
      },
      "source": [
        "Specify region, crs, and crs_transform."
      ],
      "id": "JpKomzUFbGw7"
    },
    {
      "cell_type": "code",
      "execution_count": null,
      "metadata": {
        "id": "plcmU3A3bGw7"
      },
      "outputs": [],
      "source": [
        "geemap.ee_export_image(\n",
        "    image,\n",
        "    filename=\"landsat_crs.tif\",\n",
        "    crs=crs,\n",
        "    crs_transform=crs_transform,\n",
        "    region=region,\n",
        ")"
      ],
      "id": "plcmU3A3bGw7"
    },
    {
      "cell_type": "markdown",
      "metadata": {
        "id": "JkmVvDGzbGw7"
      },
      "source": [
        "To Google Drive"
      ],
      "id": "JkmVvDGzbGw7"
    },
    {
      "cell_type": "code",
      "execution_count": null,
      "metadata": {
        "id": "GM-r7uLbbGw8"
      },
      "outputs": [],
      "source": [
        "geemap.ee_export_image_to_drive(\n",
        "    image, description='landsat', folder='export', region=region, scale=30\n",
        ")"
      ],
      "id": "GM-r7uLbbGw8"
    },
    {
      "cell_type": "markdown",
      "metadata": {
        "id": "4VD9u25WbGw8"
      },
      "source": [
        "### Exporting image collections"
      ],
      "id": "4VD9u25WbGw8"
    },
    {
      "cell_type": "code",
      "execution_count": null,
      "metadata": {
        "id": "s-4VZiB7bGw8"
      },
      "outputs": [],
      "source": [
        "point = ee.Geometry.Point(-99.2222, 46.7816)\n",
        "collection = (\n",
        "    ee.ImageCollection('USDA/NAIP/DOQQ')\n",
        "    .filterBounds(point)\n",
        "    .filterDate('2008-01-01', '2018-01-01')\n",
        "    .filter(ee.Filter.listContains(\"system:band_names\", \"N\"))\n",
        ")"
      ],
      "id": "s-4VZiB7bGw8"
    },
    {
      "cell_type": "code",
      "execution_count": null,
      "metadata": {
        "id": "Uca_OP9MbGw8"
      },
      "outputs": [],
      "source": [
        "collection.aggregate_array('system:index')"
      ],
      "id": "Uca_OP9MbGw8"
    },
    {
      "cell_type": "markdown",
      "metadata": {
        "id": "CIr8zUY3bGw8"
      },
      "source": [
        "To local drive"
      ],
      "id": "CIr8zUY3bGw8"
    },
    {
      "cell_type": "code",
      "execution_count": null,
      "metadata": {
        "id": "hJNb9kQ0bGw8"
      },
      "outputs": [],
      "source": [
        "geemap.ee_export_image_collection(collection, out_dir='.', scale=10)"
      ],
      "id": "hJNb9kQ0bGw8"
    },
    {
      "cell_type": "markdown",
      "metadata": {
        "id": "iNkj14IxbGw8"
      },
      "source": [
        "To Google Drive"
      ],
      "id": "iNkj14IxbGw8"
    },
    {
      "cell_type": "code",
      "execution_count": null,
      "metadata": {
        "id": "qPbdf7YEbGw9"
      },
      "outputs": [],
      "source": [
        "geemap.ee_export_image_collection_to_drive(collection, folder='export', scale=10)"
      ],
      "id": "qPbdf7YEbGw9"
    },
    {
      "cell_type": "markdown",
      "metadata": {
        "id": "J5hhbaFxbGw9"
      },
      "source": [
        "### Exporting feature collections"
      ],
      "id": "J5hhbaFxbGw9"
    },
    {
      "cell_type": "code",
      "execution_count": null,
      "metadata": {
        "id": "1e6CKhVVbGw9"
      },
      "outputs": [],
      "source": [
        "m = geemap.Map()\n",
        "fc = ee.FeatureCollection('USDOS/LSIB_SIMPLE/2017').filter(\n",
        "    ee.Filter.eq('country_na', 'Germany')\n",
        ")\n",
        "m.add_layer(fc, {}, \"Germany\")\n",
        "m.center_object(fc)\n",
        "m"
      ],
      "id": "1e6CKhVVbGw9"
    },
    {
      "cell_type": "markdown",
      "metadata": {
        "id": "GXzWMjSnbGw9"
      },
      "source": [
        "To local drive"
      ],
      "id": "GXzWMjSnbGw9"
    },
    {
      "cell_type": "code",
      "execution_count": null,
      "metadata": {
        "id": "iuvvhAewbGw9"
      },
      "outputs": [],
      "source": [
        "geemap.ee_to_shp(fc, filename='Germany.shp', selectors=None)"
      ],
      "id": "iuvvhAewbGw9"
    },
    {
      "cell_type": "code",
      "execution_count": null,
      "metadata": {
        "id": "YNgMXzKfbGw9"
      },
      "outputs": [],
      "source": [
        "geemap.ee_export_vector(fc, filename='Germany2.shp')"
      ],
      "id": "YNgMXzKfbGw9"
    },
    {
      "cell_type": "code",
      "execution_count": null,
      "metadata": {
        "id": "h1UrzzTgbGw9"
      },
      "outputs": [],
      "source": [
        "geemap.ee_to_geojson(fc, filename='Germany.geojson')"
      ],
      "id": "h1UrzzTgbGw9"
    },
    {
      "cell_type": "code",
      "execution_count": null,
      "metadata": {
        "id": "kt__gWHGbGw-"
      },
      "outputs": [],
      "source": [
        "geemap.ee_to_csv(fc, filename='Germany.csv')"
      ],
      "id": "kt__gWHGbGw-"
    },
    {
      "cell_type": "code",
      "execution_count": null,
      "metadata": {
        "id": "mYhvONTnbGw-"
      },
      "outputs": [],
      "source": [
        "gdf = geemap.ee_to_gdf(fc)\n",
        "gdf"
      ],
      "id": "mYhvONTnbGw-"
    },
    {
      "cell_type": "code",
      "execution_count": null,
      "metadata": {
        "id": "3NmR5gCObGw-"
      },
      "outputs": [],
      "source": [
        "df = geemap.ee_to_df(fc)\n",
        "df"
      ],
      "id": "3NmR5gCObGw-"
    },
    {
      "cell_type": "markdown",
      "metadata": {
        "id": "Fn_uZg8vbGw-"
      },
      "source": [
        "To Google Drive"
      ],
      "id": "Fn_uZg8vbGw-"
    },
    {
      "cell_type": "code",
      "execution_count": null,
      "metadata": {
        "id": "aztc60YQbGw-"
      },
      "outputs": [],
      "source": [
        "geemap.ee_export_vector_to_drive(\n",
        "    fc, description=\"germany\", fileFormat='SHP', folder=\"export\"\n",
        ")"
      ],
      "id": "aztc60YQbGw-"
    },
    {
      "cell_type": "markdown",
      "metadata": {
        "id": "zIbkU__fbGw-"
      },
      "source": [
        "### Exercise 5 - Exporting images by a fishnet\n",
        "\n",
        "Create a fishnet with a 4-degree interval based on the extent of `[-112.5439, 34.0891, -85.0342, 49.6858]`. Use the fishnet to download the Landsat 7 image tiles by the fishnet using the `geemap.download_ee_image_tiles()` and `geemap.download_ee_image_tiles_parallel()` functions. Relevant Earth Engine assets:\n",
        "\n",
        "-   `ee.Image('LANDSAT/LE7_TOA_5YEAR/1999_2003')`\n",
        "\n",
        "![](https://i.imgur.com/L1IH3fq.png)"
      ],
      "id": "zIbkU__fbGw-"
    },
    {
      "cell_type": "code",
      "execution_count": null,
      "metadata": {
        "id": "ri-0QjSlbGw_"
      },
      "outputs": [],
      "source": [
        "m = geemap.Map(center=[40, -100], zoom=4)\n",
        "image = ee.Image('LANDSAT/LE7_TOA_5YEAR/1999_2003').select(['B4', 'B3', 'B2'])\n",
        "m.add_layer(image, {'min': 20, 'max': 200, 'gamma': 2.0}, 'Landsat')\n",
        "region = ee.Geometry.BBox(-112.5439, 34.0891, -85.0342, 49.6858)\n",
        "m.add_layer(region, {}, 'ROI')\n",
        "m.center_object(region)\n",
        "m"
      ],
      "id": "ri-0QjSlbGw_"
    },
    {
      "cell_type": "code",
      "execution_count": null,
      "metadata": {
        "id": "189ev3j4bGw_"
      },
      "outputs": [],
      "source": [],
      "id": "189ev3j4bGw_"
    },
    {
      "cell_type": "markdown",
      "metadata": {
        "id": "0t8AP-JXbGw_"
      },
      "source": [
        "## Creating satellite timelapse animations (30 mins)\n",
        "\n",
        "### Creating satellite timeseries\n",
        "\n",
        "Use the [Harmonized Sentinel-2 MSI](https://developers.google.com/earth-engine/datasets/catalog/COPERNICUS_S2_HARMONIZED) dataset to create a timeseries for a given location."
      ],
      "id": "0t8AP-JXbGw_"
    },
    {
      "cell_type": "code",
      "execution_count": null,
      "metadata": {
        "id": "s894ZyQmbGw_"
      },
      "outputs": [],
      "source": [
        "collection = ee.ImageCollection(\"COPERNICUS/S2_HARMONIZED\").filterMetadata(\n",
        "    'CLOUDY_PIXEL_PERCENTAGE', 'less_than', 10\n",
        ")"
      ],
      "id": "s894ZyQmbGw_"
    },
    {
      "cell_type": "markdown",
      "metadata": {
        "id": "A_banNw8bGw_"
      },
      "source": [
        "Specify the location of interest and date range."
      ],
      "id": "A_banNw8bGw_"
    },
    {
      "cell_type": "code",
      "execution_count": null,
      "metadata": {
        "id": "Jn0-E_iCbGw_"
      },
      "outputs": [],
      "source": [
        "start_date = '2016-01-01'\n",
        "end_date = '2022-12-31'\n",
        "region = ee.Geometry.BBox(-122.5549, 37.6968, -122.3446, 37.8111)"
      ],
      "id": "Jn0-E_iCbGw_"
    },
    {
      "cell_type": "markdown",
      "metadata": {
        "id": "5iUfhNDwbGw_"
      },
      "source": [
        "Create an annual composite."
      ],
      "id": "5iUfhNDwbGw_"
    },
    {
      "cell_type": "code",
      "execution_count": null,
      "metadata": {
        "id": "-ry9ftx2bGxA"
      },
      "outputs": [],
      "source": [
        "images = geemap.create_timeseries(\n",
        "    collection, start_date, end_date, region, frequency='year', reducer='median'\n",
        ")\n",
        "images"
      ],
      "id": "-ry9ftx2bGxA"
    },
    {
      "cell_type": "markdown",
      "metadata": {
        "id": "ygTSUMynbGxA"
      },
      "source": [
        "Display the timeseries."
      ],
      "id": "ygTSUMynbGxA"
    },
    {
      "cell_type": "code",
      "execution_count": null,
      "metadata": {
        "id": "MuP2kTj8bGxA"
      },
      "outputs": [],
      "source": [
        "m = geemap.Map()\n",
        "vis_params = {\"min\": 0, \"max\": 4000, \"bands\": [\"B8\", \"B4\", \"B3\"]}\n",
        "labels = [str(y) for y in range(2016, 2023)]\n",
        "m.add_layer(images, vis_params, \"Sentinel-2\", False)\n",
        "m.add_time_slider(images, vis_params, time_interval=2, labels=labels)\n",
        "m.center_object(region)\n",
        "m"
      ],
      "id": "MuP2kTj8bGxA"
    },
    {
      "cell_type": "markdown",
      "metadata": {
        "id": "alEh1a7FbGxA"
      },
      "source": [
        "### Creating satellite timelapse animations\n",
        "\n",
        "#### NAIP timelapse"
      ],
      "id": "alEh1a7FbGxA"
    },
    {
      "cell_type": "code",
      "execution_count": null,
      "metadata": {
        "id": "holYFJJybGxA"
      },
      "outputs": [],
      "source": [
        "m = geemap.Map(center=[40, -100], zoom=4)\n",
        "m"
      ],
      "id": "holYFJJybGxA"
    },
    {
      "cell_type": "code",
      "execution_count": null,
      "metadata": {
        "id": "9I7jP1O7bGxA"
      },
      "outputs": [],
      "source": [
        "roi = m.user_roi\n",
        "if roi is None:\n",
        "    roi = ee.Geometry.BBox(-99.1019, 47.1274, -99.0334, 47.1562)\n",
        "    m.add_layer(roi, {}, 'ROI')\n",
        "    m.center_object(roi)"
      ],
      "id": "9I7jP1O7bGxA"
    },
    {
      "cell_type": "code",
      "execution_count": null,
      "metadata": {
        "id": "wpklqY9MbGxA"
      },
      "outputs": [],
      "source": [
        "collection = geemap.naip_timeseries(roi, start_year=2009, end_year=2022, RGBN=True)"
      ],
      "id": "wpklqY9MbGxA"
    },
    {
      "cell_type": "code",
      "execution_count": null,
      "metadata": {
        "id": "jIrSbL3jbGxB"
      },
      "outputs": [],
      "source": [
        "years = geemap.image_dates(collection, date_format='YYYY').getInfo()\n",
        "print(years)"
      ],
      "id": "jIrSbL3jbGxB"
    },
    {
      "cell_type": "code",
      "execution_count": null,
      "metadata": {
        "id": "KvleGgK0bGxB"
      },
      "outputs": [],
      "source": [
        "size = len(years)\n",
        "images = collection.toList(size)\n",
        "for i in range(size):\n",
        "    image = ee.Image(images.get(i))\n",
        "    m.add_layer(image, {'bands': ['N', 'R', 'G']}, years[i])\n",
        "m"
      ],
      "id": "KvleGgK0bGxB"
    },
    {
      "cell_type": "code",
      "execution_count": null,
      "metadata": {
        "id": "lFtf6mypbGxB"
      },
      "outputs": [],
      "source": [
        "timelapse = geemap.naip_timelapse(\n",
        "    roi,\n",
        "    out_gif=\"naip.gif\",\n",
        "    bands=['N', 'R', 'G'],\n",
        "    frames_per_second=3,\n",
        "    title='NAIP Timelapse',\n",
        ")\n",
        "geemap.show_image(timelapse)"
      ],
      "id": "lFtf6mypbGxB"
    },
    {
      "cell_type": "markdown",
      "metadata": {
        "id": "WgSpNb_GbGxB"
      },
      "source": [
        "#### Landsat timelapse"
      ],
      "id": "WgSpNb_GbGxB"
    },
    {
      "cell_type": "code",
      "execution_count": null,
      "metadata": {
        "id": "LLZtGGy2bGxC"
      },
      "outputs": [],
      "source": [
        "m = geemap.Map()\n",
        "m"
      ],
      "id": "LLZtGGy2bGxC"
    },
    {
      "cell_type": "markdown",
      "metadata": {
        "id": "2EnVbxa6bGxC"
      },
      "source": [
        "Pan and zoom the map to an area of interest. Use the drawing tools to draw a rectangle on the map. If no rectangle is drawn, the default rectangle shown below will be used."
      ],
      "id": "2EnVbxa6bGxC"
    },
    {
      "cell_type": "code",
      "execution_count": null,
      "metadata": {
        "id": "RdhEOGUjbGxC"
      },
      "outputs": [],
      "source": [
        "roi = m.user_roi\n",
        "if roi is None:\n",
        "    roi = ee.Geometry.BBox(-74.7222, -8.5867, -74.1596, -8.2824)\n",
        "    m.add_layer(roi)\n",
        "    m.center_object(roi)"
      ],
      "id": "RdhEOGUjbGxC"
    },
    {
      "cell_type": "code",
      "execution_count": null,
      "metadata": {
        "id": "cdod16yGbGxC"
      },
      "outputs": [],
      "source": [
        "timelapse = geemap.landsat_timelapse(\n",
        "    roi,\n",
        "    out_gif='landsat.gif',\n",
        "    start_year=1984,\n",
        "    end_year=2022,\n",
        "    start_date='01-01',\n",
        "    end_date='12-31',\n",
        "    bands=['SWIR1', 'NIR', 'Red'],\n",
        "    frames_per_second=5,\n",
        "    title='Landsat Timelapse',\n",
        "    progress_bar_color='blue',\n",
        "    mp4=True,\n",
        ")\n",
        "geemap.show_image(timelapse)"
      ],
      "id": "cdod16yGbGxC"
    },
    {
      "cell_type": "code",
      "execution_count": null,
      "metadata": {
        "id": "H233P7GtbGxC"
      },
      "outputs": [],
      "source": [
        "m = geemap.Map()\n",
        "roi = ee.Geometry.BBox(-115.5541, 35.8044, -113.9035, 36.5581)\n",
        "m.add_layer(roi)\n",
        "m.center_object(roi)\n",
        "m"
      ],
      "id": "H233P7GtbGxC"
    },
    {
      "cell_type": "code",
      "execution_count": null,
      "metadata": {
        "id": "B5Zvz5TtbGxD"
      },
      "outputs": [],
      "source": [
        "timelapse = geemap.landsat_timelapse(\n",
        "    roi,\n",
        "    out_gif='las_vegas.gif',\n",
        "    start_year=1984,\n",
        "    end_year=2022,\n",
        "    bands=['NIR', 'Red', 'Green'],\n",
        "    frames_per_second=5,\n",
        "    title='Las Vegas, NV',\n",
        "    font_color='blue',\n",
        ")\n",
        "geemap.show_image(timelapse)"
      ],
      "id": "B5Zvz5TtbGxD"
    },
    {
      "cell_type": "code",
      "execution_count": null,
      "metadata": {
        "id": "77L93XRbbGxD"
      },
      "outputs": [],
      "source": [
        "m = geemap.Map()\n",
        "roi = ee.Geometry.BBox(113.8252, 22.1988, 114.0851, 22.3497)\n",
        "m.add_layer(roi)\n",
        "m.center_object(roi)\n",
        "m"
      ],
      "id": "77L93XRbbGxD"
    },
    {
      "cell_type": "code",
      "execution_count": null,
      "metadata": {
        "id": "TRtuKr9xbGxD"
      },
      "outputs": [],
      "source": [
        "timelapse = geemap.landsat_timelapse(\n",
        "    roi,\n",
        "    out_gif='hong_kong.gif',\n",
        "    start_year=1990,\n",
        "    end_year=2022,\n",
        "    start_date='01-01',\n",
        "    end_date='12-31',\n",
        "    bands=['SWIR1', 'NIR', 'Red'],\n",
        "    frames_per_second=3,\n",
        "    title='Hong Kong',\n",
        ")\n",
        "geemap.show_image(timelapse)"
      ],
      "id": "TRtuKr9xbGxD"
    },
    {
      "cell_type": "markdown",
      "metadata": {
        "id": "5sEDnTqbbGxD"
      },
      "source": [
        "#### Sentinel-2 timelapse"
      ],
      "id": "5sEDnTqbbGxD"
    },
    {
      "cell_type": "code",
      "execution_count": null,
      "metadata": {
        "id": "cKehFUzPbGxE"
      },
      "outputs": [],
      "source": [
        "m = geemap.Map()\n",
        "m"
      ],
      "id": "cKehFUzPbGxE"
    },
    {
      "cell_type": "markdown",
      "metadata": {
        "id": "2MCgDJgpbGxE"
      },
      "source": [
        "Pan and zoom the map to an area of interest. Use the drawing tools to draw a rectangle on the map. If no rectangle is drawn, the default rectangle shown below will be used."
      ],
      "id": "2MCgDJgpbGxE"
    },
    {
      "cell_type": "code",
      "execution_count": null,
      "metadata": {
        "id": "CHU7OMcibGxE"
      },
      "outputs": [],
      "source": [
        "roi = m.user_roi\n",
        "if roi is None:\n",
        "    roi = ee.Geometry.BBox(-74.7222, -8.5867, -74.1596, -8.2824)\n",
        "    m.add_layer(roi)\n",
        "    m.center_object(roi)"
      ],
      "id": "CHU7OMcibGxE"
    },
    {
      "cell_type": "code",
      "execution_count": null,
      "metadata": {
        "id": "LSoeZjNhbGxE"
      },
      "outputs": [],
      "source": [
        "timelapse = geemap.sentinel2_timelapse(\n",
        "    roi,\n",
        "    out_gif='sentinel2.gif',\n",
        "    start_year=2016,\n",
        "    end_year=2021,\n",
        "    start_date='01-01',\n",
        "    end_date='12-31',\n",
        "    frequency='year',\n",
        "    bands=['SWIR1', 'NIR', 'Red'],\n",
        "    frames_per_second=3,\n",
        "    title='Sentinel-2 Timelapse',\n",
        ")\n",
        "geemap.show_image(timelapse)"
      ],
      "id": "LSoeZjNhbGxE"
    },
    {
      "cell_type": "markdown",
      "metadata": {
        "id": "9El15mNAbGxE"
      },
      "source": [
        "#### MODIS timelapse\n",
        "\n",
        "MODIS vegetation indices"
      ],
      "id": "9El15mNAbGxE"
    },
    {
      "cell_type": "code",
      "execution_count": null,
      "metadata": {
        "id": "FP2kx3gXbGxE"
      },
      "outputs": [],
      "source": [
        "m = geemap.Map()\n",
        "m"
      ],
      "id": "FP2kx3gXbGxE"
    },
    {
      "cell_type": "code",
      "execution_count": null,
      "metadata": {
        "id": "dHYb3T3ibGxF"
      },
      "outputs": [],
      "source": [
        "roi = m.user_roi\n",
        "if roi is None:\n",
        "    roi = ee.Geometry.BBox(-18.6983, -36.1630, 52.2293, 38.1446)\n",
        "    m.add_layer(roi)\n",
        "    m.center_object(roi)"
      ],
      "id": "dHYb3T3ibGxF"
    },
    {
      "cell_type": "code",
      "execution_count": null,
      "metadata": {
        "id": "pgf4Z_8mbGxF"
      },
      "outputs": [],
      "source": [
        "timelapse = geemap.modis_ndvi_timelapse(\n",
        "    roi,\n",
        "    out_gif='ndvi.gif',\n",
        "    data='Terra',\n",
        "    band='NDVI',\n",
        "    start_date='2000-01-01',\n",
        "    end_date='2022-12-31',\n",
        "    frames_per_second=3,\n",
        "    title='MODIS NDVI Timelapse',\n",
        "    overlay_data='countries',\n",
        ")\n",
        "geemap.show_image(timelapse)"
      ],
      "id": "pgf4Z_8mbGxF"
    },
    {
      "cell_type": "markdown",
      "metadata": {
        "id": "evUEYXmYbGxF"
      },
      "source": [
        "MODIS temperature"
      ],
      "id": "evUEYXmYbGxF"
    },
    {
      "cell_type": "code",
      "execution_count": null,
      "metadata": {
        "id": "n3UetNmKbGxF"
      },
      "outputs": [],
      "source": [
        "m = geemap.Map()\n",
        "m"
      ],
      "id": "n3UetNmKbGxF"
    },
    {
      "cell_type": "code",
      "execution_count": null,
      "metadata": {
        "id": "99v0iXtlbGxF"
      },
      "outputs": [],
      "source": [
        "roi = m.user_roi\n",
        "if roi is None:\n",
        "    roi = ee.Geometry.BBox(-171.21, -57.13, 177.53, 79.99)\n",
        "    m.add_layer(roi)\n",
        "    m.center_object(roi)"
      ],
      "id": "99v0iXtlbGxF"
    },
    {
      "cell_type": "code",
      "execution_count": null,
      "metadata": {
        "id": "p5C31AtebGxF"
      },
      "outputs": [],
      "source": [
        "timelapse = geemap.modis_ocean_color_timelapse(\n",
        "    satellite='Aqua',\n",
        "    start_date='2018-01-01',\n",
        "    end_date='2020-12-31',\n",
        "    roi=roi,\n",
        "    frequency='month',\n",
        "    out_gif='temperature.gif',\n",
        "    overlay_data='continents',\n",
        "    overlay_color='yellow',\n",
        "    overlay_opacity=0.5,\n",
        ")\n",
        "geemap.show_image(timelapse)"
      ],
      "id": "p5C31AtebGxF"
    },
    {
      "cell_type": "markdown",
      "metadata": {
        "id": "feNujZKdbGxG"
      },
      "source": [
        "#### GOES timelapse"
      ],
      "id": "feNujZKdbGxG"
    },
    {
      "cell_type": "code",
      "execution_count": null,
      "metadata": {
        "id": "fiC20lCkbGxG"
      },
      "outputs": [],
      "source": [
        "roi = ee.Geometry.BBox(167.1898, -28.5757, 202.6258, -12.4411)\n",
        "start_date = \"2022-01-15T03:00:00\"\n",
        "end_date = \"2022-01-15T07:00:00\"\n",
        "data = \"GOES-17\"\n",
        "scan = \"full_disk\""
      ],
      "id": "fiC20lCkbGxG"
    },
    {
      "cell_type": "code",
      "execution_count": null,
      "metadata": {
        "id": "sBLCWisbbGxG"
      },
      "outputs": [],
      "source": [
        "timelapse = geemap.goes_timelapse(\n",
        "    roi, \"goes.gif\", start_date, end_date, data, scan, framesPerSecond=5\n",
        ")\n",
        "geemap.show_image(timelapse)"
      ],
      "id": "sBLCWisbbGxG"
    },
    {
      "cell_type": "code",
      "execution_count": null,
      "metadata": {
        "id": "HHur_gOtbGxG"
      },
      "outputs": [],
      "source": [
        "roi = ee.Geometry.BBox(-159.5954, 24.5178, -114.2438, 60.4088)\n",
        "start_date = \"2021-10-24T14:00:00\"\n",
        "end_date = \"2021-10-25T01:00:00\"\n",
        "data = \"GOES-17\"\n",
        "scan = \"full_disk\""
      ],
      "id": "HHur_gOtbGxG"
    },
    {
      "cell_type": "code",
      "execution_count": null,
      "metadata": {
        "id": "UtQ1XgIqbGxG"
      },
      "outputs": [],
      "source": [
        "timelapse = geemap.goes_timelapse(\n",
        "    roi, \"hurricane.gif\", start_date, end_date, data, scan, framesPerSecond=5\n",
        ")\n",
        "geemap.show_image(timelapse)"
      ],
      "id": "UtQ1XgIqbGxG"
    },
    {
      "cell_type": "code",
      "execution_count": null,
      "metadata": {
        "id": "wrsy4ne7bGxG"
      },
      "outputs": [],
      "source": [
        "roi = ee.Geometry.BBox(-121.0034, 36.8488, -117.9052, 39.0490)\n",
        "start_date = \"2020-09-05T15:00:00\"\n",
        "end_date = \"2020-09-06T02:00:00\"\n",
        "data = \"GOES-17\"\n",
        "scan = \"full_disk\""
      ],
      "id": "wrsy4ne7bGxG"
    },
    {
      "cell_type": "code",
      "execution_count": null,
      "metadata": {
        "id": "8KXmR02kbGxG"
      },
      "outputs": [],
      "source": [
        "timelapse = geemap.goes_fire_timelapse(\n",
        "    roi, \"fire.gif\", start_date, end_date, data, scan, framesPerSecond=5\n",
        ")\n",
        "geemap.show_image(timelapse)"
      ],
      "id": "8KXmR02kbGxG"
    },
    {
      "cell_type": "markdown",
      "metadata": {
        "id": "oLHKB45MbGxH"
      },
      "source": [
        "### Exercise 6 - Creating timelapse animations\n",
        "\n",
        "Use the geemap timelapse GUI to create a timelapse animation for any location of your choice. Share the timelapse on social media and use the hashtagd such as #EarthEngine and #geemap. See [this](https://i.imgur.com/YaCHvKC.gif) example.\n",
        "\n",
        "![](https://i.imgur.com/ohrXeFC.png)"
      ],
      "id": "oLHKB45MbGxH"
    },
    {
      "cell_type": "code",
      "execution_count": null,
      "metadata": {
        "id": "0924II65bGxH"
      },
      "outputs": [],
      "source": [
        "m = geemap.Map()\n",
        "m.add_gui(\"timelapse\")\n",
        "m"
      ],
      "id": "0924II65bGxH"
    },
    {
      "cell_type": "markdown",
      "metadata": {
        "id": "rZx4Es8LbGxH"
      },
      "source": [
        "## Break 3 (10 mins)\n",
        "\n",
        "## Building interactive web apps (30 mins)\n",
        "\n",
        "This section is optional. We might not have enough time to cover this section.\n",
        "\n",
        "Follow the instructions [here](https://huggingface.co/spaces/giswqs/solara-geemap) to build an interactive Earth Engine web app with [Solara](https://github.com/widgetti/solara) and geemap. You need to [sign up](https://huggingface.co/join) for a free Hugging Face account to create the web app. It is free and easy to sign up.\n",
        "\n",
        "### Exercise 7 - Building an interactive web app for visualizing land cover change\n",
        "\n",
        "After following the instructions above, you should have a web app that looks like this:\n",
        "\n",
        "![](https://i.imgur.com/X3ZFyRr.png)\n",
        "\n",
        "The web app URL should look like this: https://giswqs-solara-geemap.hf.space/split-map."
      ],
      "id": "rZx4Es8LbGxH"
    },
    {
      "cell_type": "code",
      "execution_count": null,
      "metadata": {
        "id": "LZC4KlS7bGxH"
      },
      "outputs": [],
      "source": [],
      "id": "LZC4KlS7bGxH"
    }
  ],
  "metadata": {
    "kernelspec": {
      "display_name": "Python 3 (ipykernel)",
      "language": "python",
      "name": "python3"
    },
    "language_info": {
      "codemirror_mode": {
        "name": "ipython",
        "version": 3
      },
      "file_extension": ".py",
      "mimetype": "text/x-python",
      "name": "python",
      "nbconvert_exporter": "python",
      "pygments_lexer": "ipython3",
      "version": "3.11.5"
    },
    "colab": {
      "provenance": []
    },
    "widgets": {
      "application/vnd.jupyter.widget-state+json": {
        "c6125b7f795e4397987ef4ffdc2a82d5": {
          "model_module": "jupyter-leaflet",
          "model_name": "LeafletMapModel",
          "model_module_version": "^0.17",
          "state": {
            "_dom_classes": [],
            "_model_module": "jupyter-leaflet",
            "_model_module_version": "^0.17",
            "_model_name": "LeafletMapModel",
            "_view_count": null,
            "_view_module": "jupyter-leaflet",
            "_view_module_version": "^0.17",
            "_view_name": "LeafletMapView",
            "bottom": 629,
            "bounce_at_zoom_limits": true,
            "box_zoom": true,
            "center": [
              -45.583289756006316,
              209.17968750000003
            ],
            "close_popup_on_click": true,
            "controls": [
              "IPY_MODEL_55abc7f9cef245ed8cac7d0661d8750a",
              "IPY_MODEL_d4ea0e336a07425e91f4228d0e30218a",
              "IPY_MODEL_a733b9676a784f709cb4f9d464b31713",
              "IPY_MODEL_a2f4a69c9c75462a8968c019eab22c38",
              "IPY_MODEL_7ef1b3387900437f9de46ccee46a0086",
              "IPY_MODEL_3ac362cdb596461fa48967108442859d",
              "IPY_MODEL_2a7146b79589450c8d0a1efa7260ea82",
              "IPY_MODEL_6db8e2668f28486d85ff44ad739076bb"
            ],
            "crs": {
              "name": "EPSG3857",
              "custom": false
            },
            "default_style": "IPY_MODEL_e920a0929d2c4363b0d37e8db067b541",
            "double_click_zoom": true,
            "dragging": true,
            "dragging_style": "IPY_MODEL_08c0ac32b1884509b7d6e6f51a3d1185",
            "east": 639.1406250000001,
            "fullscreen": false,
            "inertia": true,
            "inertia_deceleration": 3000,
            "inertia_max_speed": 1500,
            "interpolation": "bilinear",
            "keyboard": true,
            "keyboard_pan_offset": 80,
            "keyboard_zoom_offset": 1,
            "layers": [
              "IPY_MODEL_a9f090bc866d4a228aeddf4e6e571352"
            ],
            "layout": "IPY_MODEL_9581a832646149a0a2ef08fee161a511",
            "left": -58,
            "max_zoom": 24,
            "min_zoom": null,
            "modisdate": "2023-10-08",
            "north": 82.9403268016951,
            "options": [
              "bounce_at_zoom_limits",
              "box_zoom",
              "center",
              "close_popup_on_click",
              "double_click_zoom",
              "dragging",
              "fullscreen",
              "inertia",
              "inertia_deceleration",
              "inertia_max_speed",
              "interpolation",
              "keyboard",
              "keyboard_pan_offset",
              "keyboard_zoom_offset",
              "max_zoom",
              "min_zoom",
              "prefer_canvas",
              "scroll_wheel_zoom",
              "tap",
              "tap_tolerance",
              "touch_zoom",
              "world_copy_jump",
              "zoom",
              "zoom_animation_threshold",
              "zoom_delta",
              "zoom_snap"
            ],
            "panes": {},
            "prefer_canvas": false,
            "right": 1165,
            "scroll_wheel_zoom": true,
            "south": -88.82185609405268,
            "style": "IPY_MODEL_e920a0929d2c4363b0d37e8db067b541",
            "tap": true,
            "tap_tolerance": 15,
            "top": 29,
            "touch_zoom": true,
            "west": -220.78125000000003,
            "window_url": "https://qm8zw57n13-496ff2e9c6d22116-0-colab.googleusercontent.com/outputframe.html?vrz=colab_20231006-060116_RC00_571305444",
            "world_copy_jump": false,
            "zoom": 1,
            "zoom_animation_threshold": 4,
            "zoom_delta": 1,
            "zoom_snap": 1
          }
        },
        "55abc7f9cef245ed8cac7d0661d8750a": {
          "model_module": "jupyter-leaflet",
          "model_name": "LeafletWidgetControlModel",
          "model_module_version": "^0.17",
          "state": {
            "_model_module": "jupyter-leaflet",
            "_model_module_version": "^0.17",
            "_model_name": "LeafletWidgetControlModel",
            "_view_count": null,
            "_view_module": "jupyter-leaflet",
            "_view_module_version": "^0.17",
            "_view_name": "LeafletWidgetControlView",
            "max_height": null,
            "max_width": null,
            "min_height": null,
            "min_width": null,
            "options": [
              "position",
              "transparent_bg"
            ],
            "position": "topleft",
            "transparent_bg": false,
            "widget": "IPY_MODEL_399844c9af824242a029b973946df268"
          }
        },
        "d4ea0e336a07425e91f4228d0e30218a": {
          "model_module": "jupyter-leaflet",
          "model_name": "LeafletZoomControlModel",
          "model_module_version": "^0.17",
          "state": {
            "_model_module": "jupyter-leaflet",
            "_model_module_version": "^0.17",
            "_model_name": "LeafletZoomControlModel",
            "_view_count": null,
            "_view_module": "jupyter-leaflet",
            "_view_module_version": "^0.17",
            "_view_name": "LeafletZoomControlView",
            "options": [
              "position",
              "zoom_in_text",
              "zoom_in_title",
              "zoom_out_text",
              "zoom_out_title"
            ],
            "position": "topleft",
            "zoom_in_text": "+",
            "zoom_in_title": "Zoom in",
            "zoom_out_text": "-",
            "zoom_out_title": "Zoom out"
          }
        },
        "a733b9676a784f709cb4f9d464b31713": {
          "model_module": "jupyter-leaflet",
          "model_name": "LeafletFullScreenControlModel",
          "model_module_version": "^0.17",
          "state": {
            "_model_module": "jupyter-leaflet",
            "_model_module_version": "^0.17",
            "_model_name": "LeafletFullScreenControlModel",
            "_view_count": null,
            "_view_module": "jupyter-leaflet",
            "_view_module_version": "^0.17",
            "_view_name": "LeafletFullScreenControlView",
            "options": [
              "position"
            ],
            "position": "topleft"
          }
        },
        "a2f4a69c9c75462a8968c019eab22c38": {
          "model_module": "jupyter-leaflet",
          "model_name": "LeafletDrawControlModel",
          "model_module_version": "^0.17",
          "state": {
            "_model_module": "jupyter-leaflet",
            "_model_module_version": "^0.17",
            "_model_name": "LeafletDrawControlModel",
            "_view_count": null,
            "_view_module": "jupyter-leaflet",
            "_view_module_version": "^0.17",
            "_view_name": "LeafletDrawControlView",
            "circle": {},
            "circlemarker": {},
            "data": [],
            "edit": true,
            "marker": {
              "shapeOptions": {
                "color": "#3388ff"
              }
            },
            "options": [
              "position"
            ],
            "polygon": {
              "shapeOptions": {}
            },
            "polyline": {
              "shapeOptions": {}
            },
            "position": "topleft",
            "rectangle": {
              "shapeOptions": {
                "color": "#3388ff"
              }
            },
            "remove": true
          }
        },
        "7ef1b3387900437f9de46ccee46a0086": {
          "model_module": "jupyter-leaflet",
          "model_name": "LeafletScaleControlModel",
          "model_module_version": "^0.17",
          "state": {
            "_model_module": "jupyter-leaflet",
            "_model_module_version": "^0.17",
            "_model_name": "LeafletScaleControlModel",
            "_view_count": null,
            "_view_module": "jupyter-leaflet",
            "_view_module_version": "^0.17",
            "_view_name": "LeafletScaleControlView",
            "imperial": true,
            "max_width": 100,
            "metric": true,
            "options": [
              "imperial",
              "max_width",
              "metric",
              "position",
              "update_when_idle"
            ],
            "position": "bottomleft",
            "update_when_idle": false
          }
        },
        "3ac362cdb596461fa48967108442859d": {
          "model_module": "jupyter-leaflet",
          "model_name": "LeafletMeasureControlModel",
          "model_module_version": "^0.17",
          "state": {
            "_custom_units": {},
            "_model_module": "jupyter-leaflet",
            "_model_module_version": "^0.17",
            "_model_name": "LeafletMeasureControlModel",
            "_view_count": null,
            "_view_module": "jupyter-leaflet",
            "_view_module_version": "^0.17",
            "_view_name": "LeafletMeasureControlView",
            "active_color": "orange",
            "capture_z_index": 10000,
            "completed_color": "#C8F2BE",
            "options": [
              "active_color",
              "capture_z_index",
              "completed_color",
              "popup_options",
              "position",
              "primary_area_unit",
              "primary_length_unit",
              "secondary_area_unit",
              "secondary_length_unit"
            ],
            "popup_options": {
              "className": "leaflet-measure-resultpopup",
              "autoPanPadding": [
                10,
                10
              ]
            },
            "position": "bottomleft",
            "primary_area_unit": "acres",
            "primary_length_unit": "kilometers",
            "secondary_area_unit": null,
            "secondary_length_unit": null
          }
        },
        "2a7146b79589450c8d0a1efa7260ea82": {
          "model_module": "jupyter-leaflet",
          "model_name": "LeafletWidgetControlModel",
          "model_module_version": "^0.17",
          "state": {
            "_model_module": "jupyter-leaflet",
            "_model_module_version": "^0.17",
            "_model_name": "LeafletWidgetControlModel",
            "_view_count": null,
            "_view_module": "jupyter-leaflet",
            "_view_module_version": "^0.17",
            "_view_name": "LeafletWidgetControlView",
            "max_height": null,
            "max_width": null,
            "min_height": null,
            "min_width": null,
            "options": [
              "position",
              "transparent_bg"
            ],
            "position": "topright",
            "transparent_bg": false,
            "widget": "IPY_MODEL_46864c7cb41f41f39fc9ed54ca6ff83e"
          }
        },
        "6db8e2668f28486d85ff44ad739076bb": {
          "model_module": "jupyter-leaflet",
          "model_name": "LeafletAttributionControlModel",
          "model_module_version": "^0.17",
          "state": {
            "_model_module": "jupyter-leaflet",
            "_model_module_version": "^0.17",
            "_model_name": "LeafletAttributionControlModel",
            "_view_count": null,
            "_view_module": "jupyter-leaflet",
            "_view_module_version": "^0.17",
            "_view_name": "LeafletAttributionControlView",
            "options": [
              "position",
              "prefix"
            ],
            "position": "bottomright",
            "prefix": "ipyleaflet"
          }
        },
        "e920a0929d2c4363b0d37e8db067b541": {
          "model_module": "jupyter-leaflet",
          "model_name": "LeafletMapStyleModel",
          "model_module_version": "^0.17",
          "state": {
            "_model_module": "jupyter-leaflet",
            "_model_module_version": "^0.17",
            "_model_name": "LeafletMapStyleModel",
            "_view_count": null,
            "_view_module": "@jupyter-widgets/base",
            "_view_module_version": "1.2.0",
            "_view_name": "StyleView",
            "cursor": "grab"
          }
        },
        "08c0ac32b1884509b7d6e6f51a3d1185": {
          "model_module": "jupyter-leaflet",
          "model_name": "LeafletMapStyleModel",
          "model_module_version": "^0.17",
          "state": {
            "_model_module": "jupyter-leaflet",
            "_model_module_version": "^0.17",
            "_model_name": "LeafletMapStyleModel",
            "_view_count": null,
            "_view_module": "@jupyter-widgets/base",
            "_view_module_version": "1.2.0",
            "_view_name": "StyleView",
            "cursor": "move"
          }
        },
        "a9f090bc866d4a228aeddf4e6e571352": {
          "model_module": "jupyter-leaflet",
          "model_name": "LeafletTileLayerModel",
          "model_module_version": "^0.17",
          "state": {
            "_model_module": "jupyter-leaflet",
            "_model_module_version": "^0.17",
            "_model_name": "LeafletTileLayerModel",
            "_view_count": null,
            "_view_module": "jupyter-leaflet",
            "_view_module_version": "^0.17",
            "_view_name": "LeafletTileLayerView",
            "attribution": "&copy; <a href=\"https://www.openstreetmap.org/copyright\">OpenStreetMap</a> contributors",
            "base": true,
            "bottom": true,
            "bounds": null,
            "detect_retina": false,
            "loading": false,
            "max_native_zoom": null,
            "max_zoom": 19,
            "min_native_zoom": null,
            "min_zoom": 1,
            "name": "OpenStreetMap.Mapnik",
            "no_wrap": false,
            "opacity": 1,
            "options": [
              "attribution",
              "bounds",
              "detect_retina",
              "max_native_zoom",
              "max_zoom",
              "min_native_zoom",
              "min_zoom",
              "no_wrap",
              "tile_size",
              "tms",
              "zoom_offset"
            ],
            "pane": "",
            "popup": null,
            "popup_max_height": null,
            "popup_max_width": 300,
            "popup_min_width": 50,
            "show_loading": false,
            "subitems": [],
            "tile_size": 256,
            "tms": false,
            "url": "https://tile.openstreetmap.org/{z}/{x}/{y}.png",
            "visible": true,
            "zoom_offset": 0
          }
        },
        "9581a832646149a0a2ef08fee161a511": {
          "model_module": "@jupyter-widgets/base",
          "model_name": "LayoutModel",
          "model_module_version": "1.2.0",
          "state": {
            "_model_module": "@jupyter-widgets/base",
            "_model_module_version": "1.2.0",
            "_model_name": "LayoutModel",
            "_view_count": null,
            "_view_module": "@jupyter-widgets/base",
            "_view_module_version": "1.2.0",
            "_view_name": "LayoutView",
            "align_content": null,
            "align_items": null,
            "align_self": null,
            "border": null,
            "bottom": null,
            "display": null,
            "flex": null,
            "flex_flow": null,
            "grid_area": null,
            "grid_auto_columns": null,
            "grid_auto_flow": null,
            "grid_auto_rows": null,
            "grid_column": null,
            "grid_gap": null,
            "grid_row": null,
            "grid_template_areas": null,
            "grid_template_columns": null,
            "grid_template_rows": null,
            "height": "600px",
            "justify_content": null,
            "justify_items": null,
            "left": null,
            "margin": null,
            "max_height": null,
            "max_width": null,
            "min_height": null,
            "min_width": null,
            "object_fit": null,
            "object_position": null,
            "order": null,
            "overflow": null,
            "overflow_x": null,
            "overflow_y": null,
            "padding": null,
            "right": null,
            "top": null,
            "visibility": null,
            "width": null
          }
        },
        "9a246fc390434d498f9641053b4584c9": {
          "model_module": "jupyter-leaflet",
          "model_name": "LeafletMapStyleModel",
          "model_module_version": "^0.17",
          "state": {
            "_model_module": "jupyter-leaflet",
            "_model_module_version": "^0.17",
            "_model_name": "LeafletMapStyleModel",
            "_view_count": null,
            "_view_module": "@jupyter-widgets/base",
            "_view_module_version": "1.2.0",
            "_view_name": "StyleView",
            "cursor": "grab"
          }
        },
        "399844c9af824242a029b973946df268": {
          "model_module": "@jupyter-widgets/controls",
          "model_name": "HBoxModel",
          "model_module_version": "1.5.0",
          "state": {
            "_dom_classes": [
              "geemap-colab"
            ],
            "_model_module": "@jupyter-widgets/controls",
            "_model_module_version": "1.5.0",
            "_model_name": "HBoxModel",
            "_view_count": null,
            "_view_module": "@jupyter-widgets/controls",
            "_view_module_version": "1.5.0",
            "_view_name": "HBoxView",
            "box_style": "",
            "children": [
              "IPY_MODEL_cea1fa979087447884e95cf30004bb1a"
            ],
            "layout": "IPY_MODEL_45454971a3334886b5216180f78e19de"
          }
        },
        "46864c7cb41f41f39fc9ed54ca6ff83e": {
          "model_module": "@jupyter-widgets/controls",
          "model_name": "VBoxModel",
          "model_module_version": "1.5.0",
          "state": {
            "_dom_classes": [
              "geemap-colab"
            ],
            "_model_module": "@jupyter-widgets/controls",
            "_model_module_version": "1.5.0",
            "_model_name": "VBoxModel",
            "_view_count": null,
            "_view_module": "@jupyter-widgets/controls",
            "_view_module_version": "1.5.0",
            "_view_name": "VBoxView",
            "box_style": "",
            "children": [
              "IPY_MODEL_f349413408dd4875ae163660eb0c0c6b"
            ],
            "layout": "IPY_MODEL_d5392c10fe234018aed71bf14e1e8557"
          }
        },
        "cea1fa979087447884e95cf30004bb1a": {
          "model_module": "@jupyter-widgets/controls",
          "model_name": "ToggleButtonModel",
          "model_module_version": "1.5.0",
          "state": {
            "_dom_classes": [],
            "_model_module": "@jupyter-widgets/controls",
            "_model_module_version": "1.5.0",
            "_model_name": "ToggleButtonModel",
            "_view_count": null,
            "_view_module": "@jupyter-widgets/controls",
            "_view_module_version": "1.5.0",
            "_view_name": "ToggleButtonView",
            "button_style": "",
            "description": "",
            "description_tooltip": null,
            "disabled": false,
            "icon": "globe",
            "layout": "IPY_MODEL_7c1f473c028547a3a452d491f031c882",
            "style": "IPY_MODEL_7e88db55e4614b5780391b481897a5de",
            "tooltip": "Search location/data",
            "value": false
          }
        },
        "45454971a3334886b5216180f78e19de": {
          "model_module": "@jupyter-widgets/base",
          "model_name": "LayoutModel",
          "model_module_version": "1.2.0",
          "state": {
            "_model_module": "@jupyter-widgets/base",
            "_model_module_version": "1.2.0",
            "_model_name": "LayoutModel",
            "_view_count": null,
            "_view_module": "@jupyter-widgets/base",
            "_view_module_version": "1.2.0",
            "_view_name": "LayoutView",
            "align_content": null,
            "align_items": null,
            "align_self": null,
            "border": null,
            "bottom": null,
            "display": null,
            "flex": null,
            "flex_flow": null,
            "grid_area": null,
            "grid_auto_columns": null,
            "grid_auto_flow": null,
            "grid_auto_rows": null,
            "grid_column": null,
            "grid_gap": null,
            "grid_row": null,
            "grid_template_areas": null,
            "grid_template_columns": null,
            "grid_template_rows": null,
            "height": null,
            "justify_content": null,
            "justify_items": null,
            "left": null,
            "margin": null,
            "max_height": null,
            "max_width": null,
            "min_height": null,
            "min_width": null,
            "object_fit": null,
            "object_position": null,
            "order": null,
            "overflow": null,
            "overflow_x": null,
            "overflow_y": null,
            "padding": null,
            "right": null,
            "top": null,
            "visibility": null,
            "width": null
          }
        },
        "f349413408dd4875ae163660eb0c0c6b": {
          "model_module": "@jupyter-widgets/controls",
          "model_name": "ToggleButtonModel",
          "model_module_version": "1.5.0",
          "state": {
            "_dom_classes": [],
            "_model_module": "@jupyter-widgets/controls",
            "_model_module_version": "1.5.0",
            "_model_name": "ToggleButtonModel",
            "_view_count": null,
            "_view_module": "@jupyter-widgets/controls",
            "_view_module_version": "1.5.0",
            "_view_name": "ToggleButtonView",
            "button_style": "",
            "description": "",
            "description_tooltip": null,
            "disabled": false,
            "icon": "wrench",
            "layout": "IPY_MODEL_49f54b9c134c41ef9c9cbd3d3ec3118d",
            "style": "IPY_MODEL_4ddea4c6127c43a7ba2dc8cfcd16bd8c",
            "tooltip": "Toolbar",
            "value": false
          }
        },
        "d5392c10fe234018aed71bf14e1e8557": {
          "model_module": "@jupyter-widgets/base",
          "model_name": "LayoutModel",
          "model_module_version": "1.2.0",
          "state": {
            "_model_module": "@jupyter-widgets/base",
            "_model_module_version": "1.2.0",
            "_model_name": "LayoutModel",
            "_view_count": null,
            "_view_module": "@jupyter-widgets/base",
            "_view_module_version": "1.2.0",
            "_view_name": "LayoutView",
            "align_content": null,
            "align_items": null,
            "align_self": null,
            "border": null,
            "bottom": null,
            "display": null,
            "flex": null,
            "flex_flow": null,
            "grid_area": null,
            "grid_auto_columns": null,
            "grid_auto_flow": null,
            "grid_auto_rows": null,
            "grid_column": null,
            "grid_gap": null,
            "grid_row": null,
            "grid_template_areas": null,
            "grid_template_columns": null,
            "grid_template_rows": null,
            "height": null,
            "justify_content": null,
            "justify_items": null,
            "left": null,
            "margin": null,
            "max_height": null,
            "max_width": null,
            "min_height": null,
            "min_width": null,
            "object_fit": null,
            "object_position": null,
            "order": null,
            "overflow": null,
            "overflow_x": null,
            "overflow_y": null,
            "padding": null,
            "right": null,
            "top": null,
            "visibility": null,
            "width": null
          }
        },
        "7c1f473c028547a3a452d491f031c882": {
          "model_module": "@jupyter-widgets/base",
          "model_name": "LayoutModel",
          "model_module_version": "1.2.0",
          "state": {
            "_model_module": "@jupyter-widgets/base",
            "_model_module_version": "1.2.0",
            "_model_name": "LayoutModel",
            "_view_count": null,
            "_view_module": "@jupyter-widgets/base",
            "_view_module_version": "1.2.0",
            "_view_name": "LayoutView",
            "align_content": null,
            "align_items": null,
            "align_self": null,
            "border": null,
            "bottom": null,
            "display": null,
            "flex": null,
            "flex_flow": null,
            "grid_area": null,
            "grid_auto_columns": null,
            "grid_auto_flow": null,
            "grid_auto_rows": null,
            "grid_column": null,
            "grid_gap": null,
            "grid_row": null,
            "grid_template_areas": null,
            "grid_template_columns": null,
            "grid_template_rows": null,
            "height": "28px",
            "justify_content": null,
            "justify_items": null,
            "left": null,
            "margin": null,
            "max_height": null,
            "max_width": null,
            "min_height": null,
            "min_width": null,
            "object_fit": null,
            "object_position": null,
            "order": null,
            "overflow": null,
            "overflow_x": null,
            "overflow_y": null,
            "padding": "0px 0px 0px 4px",
            "right": null,
            "top": null,
            "visibility": null,
            "width": "28px"
          }
        },
        "7e88db55e4614b5780391b481897a5de": {
          "model_module": "@jupyter-widgets/controls",
          "model_name": "DescriptionStyleModel",
          "model_module_version": "1.5.0",
          "state": {
            "_model_module": "@jupyter-widgets/controls",
            "_model_module_version": "1.5.0",
            "_model_name": "DescriptionStyleModel",
            "_view_count": null,
            "_view_module": "@jupyter-widgets/base",
            "_view_module_version": "1.2.0",
            "_view_name": "StyleView",
            "description_width": ""
          }
        },
        "49f54b9c134c41ef9c9cbd3d3ec3118d": {
          "model_module": "@jupyter-widgets/base",
          "model_name": "LayoutModel",
          "model_module_version": "1.2.0",
          "state": {
            "_model_module": "@jupyter-widgets/base",
            "_model_module_version": "1.2.0",
            "_model_name": "LayoutModel",
            "_view_count": null,
            "_view_module": "@jupyter-widgets/base",
            "_view_module_version": "1.2.0",
            "_view_name": "LayoutView",
            "align_content": null,
            "align_items": null,
            "align_self": null,
            "border": null,
            "bottom": null,
            "display": null,
            "flex": null,
            "flex_flow": null,
            "grid_area": null,
            "grid_auto_columns": null,
            "grid_auto_flow": null,
            "grid_auto_rows": null,
            "grid_column": null,
            "grid_gap": null,
            "grid_row": null,
            "grid_template_areas": null,
            "grid_template_columns": null,
            "grid_template_rows": null,
            "height": "28px",
            "justify_content": null,
            "justify_items": null,
            "left": null,
            "margin": null,
            "max_height": null,
            "max_width": null,
            "min_height": null,
            "min_width": null,
            "object_fit": null,
            "object_position": null,
            "order": null,
            "overflow": null,
            "overflow_x": null,
            "overflow_y": null,
            "padding": "0px 0px 0px 4px",
            "right": null,
            "top": null,
            "visibility": null,
            "width": "28px"
          }
        },
        "4ddea4c6127c43a7ba2dc8cfcd16bd8c": {
          "model_module": "@jupyter-widgets/controls",
          "model_name": "DescriptionStyleModel",
          "model_module_version": "1.5.0",
          "state": {
            "_model_module": "@jupyter-widgets/controls",
            "_model_module_version": "1.5.0",
            "_model_name": "DescriptionStyleModel",
            "_view_count": null,
            "_view_module": "@jupyter-widgets/base",
            "_view_module_version": "1.2.0",
            "_view_name": "StyleView",
            "description_width": ""
          }
        },
        "f5d8c01935a9421f87b89b09f308de2e": {
          "model_module": "jupyter-leaflet",
          "model_name": "LeafletMapModel",
          "model_module_version": "^0.17",
          "state": {
            "_dom_classes": [],
            "_model_module": "jupyter-leaflet",
            "_model_module_version": "^0.17",
            "_model_name": "LeafletMapModel",
            "_view_count": null,
            "_view_module": "jupyter-leaflet",
            "_view_module_version": "^0.17",
            "_view_name": "LeafletMapView",
            "bottom": 57687,
            "bounce_at_zoom_limits": true,
            "box_zoom": true,
            "center": [
              -79.21562159065658,
              -218.84490966796878
            ],
            "close_popup_on_click": true,
            "controls": [
              "IPY_MODEL_b537e29014474c1780daf1d08dc70f69",
              "IPY_MODEL_0687b99d85c44aad94821864318f4e77",
              "IPY_MODEL_59c8378cba3a499db68e07d77cfca66c",
              "IPY_MODEL_33b3c4764ef943dda8888b00c7edb8a1",
              "IPY_MODEL_d8133ea894a34c7080614ccc7d7e6c3b",
              "IPY_MODEL_266c836cd496400992a2d897d3c63c4e",
              "IPY_MODEL_13bfc15cfb494ec28ca820c09dba4a45",
              "IPY_MODEL_89517c304d5e42cebfed1027190c4476"
            ],
            "crs": {
              "name": "EPSG3857",
              "custom": false
            },
            "default_style": "IPY_MODEL_2e8efdaae1d44495acb7e94460af817d",
            "double_click_zoom": true,
            "dragging": true,
            "dragging_style": "IPY_MODEL_6bcc09ddbf734e899a3312e0f93d4608",
            "east": -215.48583984375003,
            "fullscreen": false,
            "inertia": true,
            "inertia_deceleration": 3000,
            "inertia_max_speed": 1500,
            "interpolation": "bilinear",
            "keyboard": true,
            "keyboard_pan_offset": 80,
            "keyboard_zoom_offset": 1,
            "layers": [
              "IPY_MODEL_225b9269541146ec8f693a353ba2a2c7"
            ],
            "layout": "IPY_MODEL_ded52cd209e0482c8f28f558f4b4ae69",
            "left": -7683,
            "max_zoom": 24,
            "min_zoom": null,
            "modisdate": "2023-10-08",
            "north": -78.90287215377121,
            "options": [
              "bounce_at_zoom_limits",
              "box_zoom",
              "center",
              "close_popup_on_click",
              "double_click_zoom",
              "dragging",
              "fullscreen",
              "inertia",
              "inertia_deceleration",
              "inertia_max_speed",
              "interpolation",
              "keyboard",
              "keyboard_pan_offset",
              "keyboard_zoom_offset",
              "max_zoom",
              "min_zoom",
              "prefer_canvas",
              "scroll_wheel_zoom",
              "tap",
              "tap_tolerance",
              "touch_zoom",
              "world_copy_jump",
              "zoom",
              "zoom_animation_threshold",
              "zoom_delta",
              "zoom_snap"
            ],
            "panes": {},
            "prefer_canvas": false,
            "right": 0,
            "scroll_wheel_zoom": true,
            "south": -79.51965828580475,
            "style": "IPY_MODEL_2e8efdaae1d44495acb7e94460af817d",
            "tap": true,
            "tap_tolerance": 15,
            "top": 57087,
            "touch_zoom": true,
            "west": -222.20397949218753,
            "window_url": "https://qm8zw57n13-496ff2e9c6d22116-0-colab.googleusercontent.com/outputframe.html?vrz=colab_20231006-060116_RC00_571305444",
            "world_copy_jump": false,
            "zoom": 8,
            "zoom_animation_threshold": 4,
            "zoom_delta": 1,
            "zoom_snap": 1
          }
        },
        "b537e29014474c1780daf1d08dc70f69": {
          "model_module": "jupyter-leaflet",
          "model_name": "LeafletWidgetControlModel",
          "model_module_version": "^0.17",
          "state": {
            "_model_module": "jupyter-leaflet",
            "_model_module_version": "^0.17",
            "_model_name": "LeafletWidgetControlModel",
            "_view_count": null,
            "_view_module": "jupyter-leaflet",
            "_view_module_version": "^0.17",
            "_view_name": "LeafletWidgetControlView",
            "max_height": null,
            "max_width": null,
            "min_height": null,
            "min_width": null,
            "options": [
              "position",
              "transparent_bg"
            ],
            "position": "topleft",
            "transparent_bg": false,
            "widget": "IPY_MODEL_75d5f6f52e904d878f6fa9a06c717a70"
          }
        },
        "0687b99d85c44aad94821864318f4e77": {
          "model_module": "jupyter-leaflet",
          "model_name": "LeafletZoomControlModel",
          "model_module_version": "^0.17",
          "state": {
            "_model_module": "jupyter-leaflet",
            "_model_module_version": "^0.17",
            "_model_name": "LeafletZoomControlModel",
            "_view_count": null,
            "_view_module": "jupyter-leaflet",
            "_view_module_version": "^0.17",
            "_view_name": "LeafletZoomControlView",
            "options": [
              "position",
              "zoom_in_text",
              "zoom_in_title",
              "zoom_out_text",
              "zoom_out_title"
            ],
            "position": "topleft",
            "zoom_in_text": "+",
            "zoom_in_title": "Zoom in",
            "zoom_out_text": "-",
            "zoom_out_title": "Zoom out"
          }
        },
        "59c8378cba3a499db68e07d77cfca66c": {
          "model_module": "jupyter-leaflet",
          "model_name": "LeafletFullScreenControlModel",
          "model_module_version": "^0.17",
          "state": {
            "_model_module": "jupyter-leaflet",
            "_model_module_version": "^0.17",
            "_model_name": "LeafletFullScreenControlModel",
            "_view_count": null,
            "_view_module": "jupyter-leaflet",
            "_view_module_version": "^0.17",
            "_view_name": "LeafletFullScreenControlView",
            "options": [
              "position"
            ],
            "position": "topleft"
          }
        },
        "33b3c4764ef943dda8888b00c7edb8a1": {
          "model_module": "jupyter-leaflet",
          "model_name": "LeafletDrawControlModel",
          "model_module_version": "^0.17",
          "state": {
            "_model_module": "jupyter-leaflet",
            "_model_module_version": "^0.17",
            "_model_name": "LeafletDrawControlModel",
            "_view_count": null,
            "_view_module": "jupyter-leaflet",
            "_view_module_version": "^0.17",
            "_view_name": "LeafletDrawControlView",
            "circle": {},
            "circlemarker": {},
            "data": [],
            "edit": true,
            "marker": {
              "shapeOptions": {
                "color": "#3388ff"
              }
            },
            "options": [
              "position"
            ],
            "polygon": {
              "shapeOptions": {}
            },
            "polyline": {
              "shapeOptions": {}
            },
            "position": "topleft",
            "rectangle": {
              "shapeOptions": {
                "color": "#3388ff"
              }
            },
            "remove": true
          }
        },
        "d8133ea894a34c7080614ccc7d7e6c3b": {
          "model_module": "jupyter-leaflet",
          "model_name": "LeafletScaleControlModel",
          "model_module_version": "^0.17",
          "state": {
            "_model_module": "jupyter-leaflet",
            "_model_module_version": "^0.17",
            "_model_name": "LeafletScaleControlModel",
            "_view_count": null,
            "_view_module": "jupyter-leaflet",
            "_view_module_version": "^0.17",
            "_view_name": "LeafletScaleControlView",
            "imperial": true,
            "max_width": 100,
            "metric": true,
            "options": [
              "imperial",
              "max_width",
              "metric",
              "position",
              "update_when_idle"
            ],
            "position": "bottomleft",
            "update_when_idle": false
          }
        },
        "266c836cd496400992a2d897d3c63c4e": {
          "model_module": "jupyter-leaflet",
          "model_name": "LeafletMeasureControlModel",
          "model_module_version": "^0.17",
          "state": {
            "_custom_units": {},
            "_model_module": "jupyter-leaflet",
            "_model_module_version": "^0.17",
            "_model_name": "LeafletMeasureControlModel",
            "_view_count": null,
            "_view_module": "jupyter-leaflet",
            "_view_module_version": "^0.17",
            "_view_name": "LeafletMeasureControlView",
            "active_color": "orange",
            "capture_z_index": 10000,
            "completed_color": "#C8F2BE",
            "options": [
              "active_color",
              "capture_z_index",
              "completed_color",
              "popup_options",
              "position",
              "primary_area_unit",
              "primary_length_unit",
              "secondary_area_unit",
              "secondary_length_unit"
            ],
            "popup_options": {
              "className": "leaflet-measure-resultpopup",
              "autoPanPadding": [
                10,
                10
              ]
            },
            "position": "bottomleft",
            "primary_area_unit": "acres",
            "primary_length_unit": "kilometers",
            "secondary_area_unit": null,
            "secondary_length_unit": null
          }
        },
        "13bfc15cfb494ec28ca820c09dba4a45": {
          "model_module": "jupyter-leaflet",
          "model_name": "LeafletWidgetControlModel",
          "model_module_version": "^0.17",
          "state": {
            "_model_module": "jupyter-leaflet",
            "_model_module_version": "^0.17",
            "_model_name": "LeafletWidgetControlModel",
            "_view_count": null,
            "_view_module": "jupyter-leaflet",
            "_view_module_version": "^0.17",
            "_view_name": "LeafletWidgetControlView",
            "max_height": null,
            "max_width": null,
            "min_height": null,
            "min_width": null,
            "options": [
              "position",
              "transparent_bg"
            ],
            "position": "topright",
            "transparent_bg": false,
            "widget": "IPY_MODEL_22815878790a48ee8a5b7d1dbc2dc1ee"
          }
        },
        "89517c304d5e42cebfed1027190c4476": {
          "model_module": "jupyter-leaflet",
          "model_name": "LeafletAttributionControlModel",
          "model_module_version": "^0.17",
          "state": {
            "_model_module": "jupyter-leaflet",
            "_model_module_version": "^0.17",
            "_model_name": "LeafletAttributionControlModel",
            "_view_count": null,
            "_view_module": "jupyter-leaflet",
            "_view_module_version": "^0.17",
            "_view_name": "LeafletAttributionControlView",
            "options": [
              "position",
              "prefix"
            ],
            "position": "bottomright",
            "prefix": "ipyleaflet"
          }
        },
        "2e8efdaae1d44495acb7e94460af817d": {
          "model_module": "jupyter-leaflet",
          "model_name": "LeafletMapStyleModel",
          "model_module_version": "^0.17",
          "state": {
            "_model_module": "jupyter-leaflet",
            "_model_module_version": "^0.17",
            "_model_name": "LeafletMapStyleModel",
            "_view_count": null,
            "_view_module": "@jupyter-widgets/base",
            "_view_module_version": "1.2.0",
            "_view_name": "StyleView",
            "cursor": "grab"
          }
        },
        "6bcc09ddbf734e899a3312e0f93d4608": {
          "model_module": "jupyter-leaflet",
          "model_name": "LeafletMapStyleModel",
          "model_module_version": "^0.17",
          "state": {
            "_model_module": "jupyter-leaflet",
            "_model_module_version": "^0.17",
            "_model_name": "LeafletMapStyleModel",
            "_view_count": null,
            "_view_module": "@jupyter-widgets/base",
            "_view_module_version": "1.2.0",
            "_view_name": "StyleView",
            "cursor": "move"
          }
        },
        "225b9269541146ec8f693a353ba2a2c7": {
          "model_module": "jupyter-leaflet",
          "model_name": "LeafletTileLayerModel",
          "model_module_version": "^0.17",
          "state": {
            "_model_module": "jupyter-leaflet",
            "_model_module_version": "^0.17",
            "_model_name": "LeafletTileLayerModel",
            "_view_count": null,
            "_view_module": "jupyter-leaflet",
            "_view_module_version": "^0.17",
            "_view_name": "LeafletTileLayerView",
            "attribution": "&copy; <a href=\"https://www.openstreetmap.org/copyright\">OpenStreetMap</a> contributors",
            "base": true,
            "bottom": true,
            "bounds": null,
            "detect_retina": false,
            "loading": false,
            "max_native_zoom": null,
            "max_zoom": 19,
            "min_native_zoom": null,
            "min_zoom": 1,
            "name": "OpenStreetMap.Mapnik",
            "no_wrap": false,
            "opacity": 1,
            "options": [
              "attribution",
              "bounds",
              "detect_retina",
              "max_native_zoom",
              "max_zoom",
              "min_native_zoom",
              "min_zoom",
              "no_wrap",
              "tile_size",
              "tms",
              "zoom_offset"
            ],
            "pane": "",
            "popup": null,
            "popup_max_height": null,
            "popup_max_width": 300,
            "popup_min_width": 50,
            "show_loading": false,
            "subitems": [],
            "tile_size": 256,
            "tms": false,
            "url": "https://tile.openstreetmap.org/{z}/{x}/{y}.png",
            "visible": true,
            "zoom_offset": 0
          }
        },
        "ded52cd209e0482c8f28f558f4b4ae69": {
          "model_module": "@jupyter-widgets/base",
          "model_name": "LayoutModel",
          "model_module_version": "1.2.0",
          "state": {
            "_model_module": "@jupyter-widgets/base",
            "_model_module_version": "1.2.0",
            "_model_name": "LayoutModel",
            "_view_count": null,
            "_view_module": "@jupyter-widgets/base",
            "_view_module_version": "1.2.0",
            "_view_name": "LayoutView",
            "align_content": null,
            "align_items": null,
            "align_self": null,
            "border": null,
            "bottom": null,
            "display": null,
            "flex": null,
            "flex_flow": null,
            "grid_area": null,
            "grid_auto_columns": null,
            "grid_auto_flow": null,
            "grid_auto_rows": null,
            "grid_column": null,
            "grid_gap": null,
            "grid_row": null,
            "grid_template_areas": null,
            "grid_template_columns": null,
            "grid_template_rows": null,
            "height": "600px",
            "justify_content": null,
            "justify_items": null,
            "left": null,
            "margin": null,
            "max_height": null,
            "max_width": null,
            "min_height": null,
            "min_width": null,
            "object_fit": null,
            "object_position": null,
            "order": null,
            "overflow": null,
            "overflow_x": null,
            "overflow_y": null,
            "padding": null,
            "right": null,
            "top": null,
            "visibility": null,
            "width": null
          }
        },
        "b1eda8b1d7164a5d8f305e71f03fbb64": {
          "model_module": "jupyter-leaflet",
          "model_name": "LeafletMapStyleModel",
          "model_module_version": "^0.17",
          "state": {
            "_model_module": "jupyter-leaflet",
            "_model_module_version": "^0.17",
            "_model_name": "LeafletMapStyleModel",
            "_view_count": null,
            "_view_module": "@jupyter-widgets/base",
            "_view_module_version": "1.2.0",
            "_view_name": "StyleView",
            "cursor": "grab"
          }
        },
        "75d5f6f52e904d878f6fa9a06c717a70": {
          "model_module": "@jupyter-widgets/controls",
          "model_name": "HBoxModel",
          "model_module_version": "1.5.0",
          "state": {
            "_dom_classes": [
              "geemap-colab"
            ],
            "_model_module": "@jupyter-widgets/controls",
            "_model_module_version": "1.5.0",
            "_model_name": "HBoxModel",
            "_view_count": null,
            "_view_module": "@jupyter-widgets/controls",
            "_view_module_version": "1.5.0",
            "_view_name": "HBoxView",
            "box_style": "",
            "children": [
              "IPY_MODEL_9cea0263346d49c9bfda87611eb13e44",
              "IPY_MODEL_7c2bc2aa001a4a68995e8cdd7db72a7d"
            ],
            "layout": "IPY_MODEL_d0ea51b236cb41348849f33f27adb5a9"
          }
        },
        "22815878790a48ee8a5b7d1dbc2dc1ee": {
          "model_module": "@jupyter-widgets/controls",
          "model_name": "VBoxModel",
          "model_module_version": "1.5.0",
          "state": {
            "_dom_classes": [
              "geemap-colab"
            ],
            "_model_module": "@jupyter-widgets/controls",
            "_model_module_version": "1.5.0",
            "_model_name": "VBoxModel",
            "_view_count": null,
            "_view_module": "@jupyter-widgets/controls",
            "_view_module_version": "1.5.0",
            "_view_name": "VBoxView",
            "box_style": "",
            "children": [
              "IPY_MODEL_7430e3c2630147469327f5c294acd7c4"
            ],
            "layout": "IPY_MODEL_e975adb3cca745db96b414a123eaba14"
          }
        },
        "9cea0263346d49c9bfda87611eb13e44": {
          "model_module": "@jupyter-widgets/controls",
          "model_name": "ToggleButtonModel",
          "model_module_version": "1.5.0",
          "state": {
            "_dom_classes": [],
            "_model_module": "@jupyter-widgets/controls",
            "_model_module_version": "1.5.0",
            "_model_name": "ToggleButtonModel",
            "_view_count": null,
            "_view_module": "@jupyter-widgets/controls",
            "_view_module_version": "1.5.0",
            "_view_name": "ToggleButtonView",
            "button_style": "",
            "description": "",
            "description_tooltip": null,
            "disabled": false,
            "icon": "globe",
            "layout": "IPY_MODEL_c03ad4e7e3ca40fbbf223e21eb27449c",
            "style": "IPY_MODEL_e6cea80c59bc466b9d32fac9f6e41505",
            "tooltip": "Search location/data",
            "value": true
          }
        },
        "d0ea51b236cb41348849f33f27adb5a9": {
          "model_module": "@jupyter-widgets/base",
          "model_name": "LayoutModel",
          "model_module_version": "1.2.0",
          "state": {
            "_model_module": "@jupyter-widgets/base",
            "_model_module_version": "1.2.0",
            "_model_name": "LayoutModel",
            "_view_count": null,
            "_view_module": "@jupyter-widgets/base",
            "_view_module_version": "1.2.0",
            "_view_name": "LayoutView",
            "align_content": null,
            "align_items": null,
            "align_self": null,
            "border": null,
            "bottom": null,
            "display": null,
            "flex": null,
            "flex_flow": null,
            "grid_area": null,
            "grid_auto_columns": null,
            "grid_auto_flow": null,
            "grid_auto_rows": null,
            "grid_column": null,
            "grid_gap": null,
            "grid_row": null,
            "grid_template_areas": null,
            "grid_template_columns": null,
            "grid_template_rows": null,
            "height": null,
            "justify_content": null,
            "justify_items": null,
            "left": null,
            "margin": null,
            "max_height": null,
            "max_width": null,
            "min_height": null,
            "min_width": null,
            "object_fit": null,
            "object_position": null,
            "order": null,
            "overflow": null,
            "overflow_x": null,
            "overflow_y": null,
            "padding": null,
            "right": null,
            "top": null,
            "visibility": null,
            "width": null
          }
        },
        "7430e3c2630147469327f5c294acd7c4": {
          "model_module": "@jupyter-widgets/controls",
          "model_name": "ToggleButtonModel",
          "model_module_version": "1.5.0",
          "state": {
            "_dom_classes": [],
            "_model_module": "@jupyter-widgets/controls",
            "_model_module_version": "1.5.0",
            "_model_name": "ToggleButtonModel",
            "_view_count": null,
            "_view_module": "@jupyter-widgets/controls",
            "_view_module_version": "1.5.0",
            "_view_name": "ToggleButtonView",
            "button_style": "",
            "description": "",
            "description_tooltip": null,
            "disabled": false,
            "icon": "wrench",
            "layout": "IPY_MODEL_9f6ecd3977294c02afc62ec9d85abab5",
            "style": "IPY_MODEL_7ade536fa93444a9a1ba1ce9c4667c9b",
            "tooltip": "Toolbar",
            "value": false
          }
        },
        "e975adb3cca745db96b414a123eaba14": {
          "model_module": "@jupyter-widgets/base",
          "model_name": "LayoutModel",
          "model_module_version": "1.2.0",
          "state": {
            "_model_module": "@jupyter-widgets/base",
            "_model_module_version": "1.2.0",
            "_model_name": "LayoutModel",
            "_view_count": null,
            "_view_module": "@jupyter-widgets/base",
            "_view_module_version": "1.2.0",
            "_view_name": "LayoutView",
            "align_content": null,
            "align_items": null,
            "align_self": null,
            "border": null,
            "bottom": null,
            "display": null,
            "flex": null,
            "flex_flow": null,
            "grid_area": null,
            "grid_auto_columns": null,
            "grid_auto_flow": null,
            "grid_auto_rows": null,
            "grid_column": null,
            "grid_gap": null,
            "grid_row": null,
            "grid_template_areas": null,
            "grid_template_columns": null,
            "grid_template_rows": null,
            "height": null,
            "justify_content": null,
            "justify_items": null,
            "left": null,
            "margin": null,
            "max_height": null,
            "max_width": null,
            "min_height": null,
            "min_width": null,
            "object_fit": null,
            "object_position": null,
            "order": null,
            "overflow": null,
            "overflow_x": null,
            "overflow_y": null,
            "padding": null,
            "right": null,
            "top": null,
            "visibility": null,
            "width": null
          }
        },
        "c03ad4e7e3ca40fbbf223e21eb27449c": {
          "model_module": "@jupyter-widgets/base",
          "model_name": "LayoutModel",
          "model_module_version": "1.2.0",
          "state": {
            "_model_module": "@jupyter-widgets/base",
            "_model_module_version": "1.2.0",
            "_model_name": "LayoutModel",
            "_view_count": null,
            "_view_module": "@jupyter-widgets/base",
            "_view_module_version": "1.2.0",
            "_view_name": "LayoutView",
            "align_content": null,
            "align_items": null,
            "align_self": null,
            "border": null,
            "bottom": null,
            "display": null,
            "flex": null,
            "flex_flow": null,
            "grid_area": null,
            "grid_auto_columns": null,
            "grid_auto_flow": null,
            "grid_auto_rows": null,
            "grid_column": null,
            "grid_gap": null,
            "grid_row": null,
            "grid_template_areas": null,
            "grid_template_columns": null,
            "grid_template_rows": null,
            "height": "28px",
            "justify_content": null,
            "justify_items": null,
            "left": null,
            "margin": null,
            "max_height": null,
            "max_width": null,
            "min_height": null,
            "min_width": null,
            "object_fit": null,
            "object_position": null,
            "order": null,
            "overflow": null,
            "overflow_x": null,
            "overflow_y": null,
            "padding": "0px 0px 0px 4px",
            "right": null,
            "top": null,
            "visibility": null,
            "width": "28px"
          }
        },
        "e6cea80c59bc466b9d32fac9f6e41505": {
          "model_module": "@jupyter-widgets/controls",
          "model_name": "DescriptionStyleModel",
          "model_module_version": "1.5.0",
          "state": {
            "_model_module": "@jupyter-widgets/controls",
            "_model_module_version": "1.5.0",
            "_model_name": "DescriptionStyleModel",
            "_view_count": null,
            "_view_module": "@jupyter-widgets/base",
            "_view_module_version": "1.2.0",
            "_view_name": "StyleView",
            "description_width": ""
          }
        },
        "9f6ecd3977294c02afc62ec9d85abab5": {
          "model_module": "@jupyter-widgets/base",
          "model_name": "LayoutModel",
          "model_module_version": "1.2.0",
          "state": {
            "_model_module": "@jupyter-widgets/base",
            "_model_module_version": "1.2.0",
            "_model_name": "LayoutModel",
            "_view_count": null,
            "_view_module": "@jupyter-widgets/base",
            "_view_module_version": "1.2.0",
            "_view_name": "LayoutView",
            "align_content": null,
            "align_items": null,
            "align_self": null,
            "border": null,
            "bottom": null,
            "display": null,
            "flex": null,
            "flex_flow": null,
            "grid_area": null,
            "grid_auto_columns": null,
            "grid_auto_flow": null,
            "grid_auto_rows": null,
            "grid_column": null,
            "grid_gap": null,
            "grid_row": null,
            "grid_template_areas": null,
            "grid_template_columns": null,
            "grid_template_rows": null,
            "height": "28px",
            "justify_content": null,
            "justify_items": null,
            "left": null,
            "margin": null,
            "max_height": null,
            "max_width": null,
            "min_height": null,
            "min_width": null,
            "object_fit": null,
            "object_position": null,
            "order": null,
            "overflow": null,
            "overflow_x": null,
            "overflow_y": null,
            "padding": "0px 0px 0px 4px",
            "right": null,
            "top": null,
            "visibility": null,
            "width": "28px"
          }
        },
        "7ade536fa93444a9a1ba1ce9c4667c9b": {
          "model_module": "@jupyter-widgets/controls",
          "model_name": "DescriptionStyleModel",
          "model_module_version": "1.5.0",
          "state": {
            "_model_module": "@jupyter-widgets/controls",
            "_model_module_version": "1.5.0",
            "_model_name": "DescriptionStyleModel",
            "_view_count": null,
            "_view_module": "@jupyter-widgets/base",
            "_view_module_version": "1.2.0",
            "_view_name": "StyleView",
            "description_width": ""
          }
        },
        "7c2bc2aa001a4a68995e8cdd7db72a7d": {
          "model_module": "@jupyter-widgets/controls",
          "model_name": "VBoxModel",
          "model_module_version": "1.5.0",
          "state": {
            "_dom_classes": [],
            "_model_module": "@jupyter-widgets/controls",
            "_model_module_version": "1.5.0",
            "_model_name": "VBoxModel",
            "_view_count": null,
            "_view_module": "@jupyter-widgets/controls",
            "_view_module_version": "1.5.0",
            "_view_name": "VBoxView",
            "box_style": "",
            "children": [
              "IPY_MODEL_73085114c3d9449c99a2e91b1296a121",
              "IPY_MODEL_2f72c301ddcc437eb460426c63bca8f8"
            ],
            "layout": "IPY_MODEL_5a9a9519b7804a209bdc22bf7dc74837"
          }
        },
        "73085114c3d9449c99a2e91b1296a121": {
          "model_module": "@jupyter-widgets/controls",
          "model_name": "ToggleButtonsModel",
          "model_module_version": "1.5.0",
          "state": {
            "_dom_classes": [],
            "_model_module": "@jupyter-widgets/controls",
            "_model_module_version": "1.5.0",
            "_model_name": "ToggleButtonsModel",
            "_options_labels": [
              "name/address",
              "lat-lon",
              "data"
            ],
            "_view_count": null,
            "_view_module": "@jupyter-widgets/controls",
            "_view_module_version": "1.5.0",
            "_view_name": "ToggleButtonsView",
            "button_style": "",
            "description": "",
            "description_tooltip": null,
            "disabled": false,
            "icons": [],
            "index": 0,
            "layout": "IPY_MODEL_3f78fddadf33417ba5385f914c84a1b0",
            "style": "IPY_MODEL_31a52538f4c9475c94ed4fc268e6b358",
            "tooltips": [
              "Search by place name or address",
              "Search by lat-lon coordinates",
              "Search Earth Engine data catalog"
            ]
          }
        },
        "2f72c301ddcc437eb460426c63bca8f8": {
          "model_module": "@jupyter-widgets/controls",
          "model_name": "TextModel",
          "model_module_version": "1.5.0",
          "state": {
            "_dom_classes": [],
            "_model_module": "@jupyter-widgets/controls",
            "_model_module_version": "1.5.0",
            "_model_name": "TextModel",
            "_view_count": null,
            "_view_module": "@jupyter-widgets/controls",
            "_view_module_version": "1.5.0",
            "_view_name": "TextView",
            "continuous_update": true,
            "description": "",
            "description_tooltip": null,
            "disabled": false,
            "layout": "IPY_MODEL_74e558588a134c508f54254fd15244e9",
            "placeholder": "Search by place name or address",
            "style": "IPY_MODEL_51b56cf5cbd04f4da8d815166b1d00a6",
            "value": ""
          }
        },
        "5a9a9519b7804a209bdc22bf7dc74837": {
          "model_module": "@jupyter-widgets/base",
          "model_name": "LayoutModel",
          "model_module_version": "1.2.0",
          "state": {
            "_model_module": "@jupyter-widgets/base",
            "_model_module_version": "1.2.0",
            "_model_name": "LayoutModel",
            "_view_count": null,
            "_view_module": "@jupyter-widgets/base",
            "_view_module_version": "1.2.0",
            "_view_name": "LayoutView",
            "align_content": null,
            "align_items": null,
            "align_self": null,
            "border": null,
            "bottom": null,
            "display": null,
            "flex": null,
            "flex_flow": null,
            "grid_area": null,
            "grid_auto_columns": null,
            "grid_auto_flow": null,
            "grid_auto_rows": null,
            "grid_column": null,
            "grid_gap": null,
            "grid_row": null,
            "grid_template_areas": null,
            "grid_template_columns": null,
            "grid_template_rows": null,
            "height": null,
            "justify_content": null,
            "justify_items": null,
            "left": null,
            "margin": null,
            "max_height": null,
            "max_width": null,
            "min_height": null,
            "min_width": null,
            "object_fit": null,
            "object_position": null,
            "order": null,
            "overflow": null,
            "overflow_x": null,
            "overflow_y": null,
            "padding": null,
            "right": null,
            "top": null,
            "visibility": null,
            "width": null
          }
        },
        "3f78fddadf33417ba5385f914c84a1b0": {
          "model_module": "@jupyter-widgets/base",
          "model_name": "LayoutModel",
          "model_module_version": "1.2.0",
          "state": {
            "_model_module": "@jupyter-widgets/base",
            "_model_module_version": "1.2.0",
            "_model_name": "LayoutModel",
            "_view_count": null,
            "_view_module": "@jupyter-widgets/base",
            "_view_module_version": "1.2.0",
            "_view_name": "LayoutView",
            "align_content": null,
            "align_items": null,
            "align_self": null,
            "border": null,
            "bottom": null,
            "display": null,
            "flex": null,
            "flex_flow": null,
            "grid_area": null,
            "grid_auto_columns": null,
            "grid_auto_flow": null,
            "grid_auto_rows": null,
            "grid_column": null,
            "grid_gap": null,
            "grid_row": null,
            "grid_template_areas": null,
            "grid_template_columns": null,
            "grid_template_rows": null,
            "height": null,
            "justify_content": null,
            "justify_items": null,
            "left": null,
            "margin": null,
            "max_height": null,
            "max_width": null,
            "min_height": null,
            "min_width": null,
            "object_fit": null,
            "object_position": null,
            "order": null,
            "overflow": null,
            "overflow_x": null,
            "overflow_y": null,
            "padding": null,
            "right": null,
            "top": null,
            "visibility": null,
            "width": null
          }
        },
        "31a52538f4c9475c94ed4fc268e6b358": {
          "model_module": "@jupyter-widgets/controls",
          "model_name": "ToggleButtonsStyleModel",
          "model_module_version": "1.5.0",
          "state": {
            "_model_module": "@jupyter-widgets/controls",
            "_model_module_version": "1.5.0",
            "_model_name": "ToggleButtonsStyleModel",
            "_view_count": null,
            "_view_module": "@jupyter-widgets/base",
            "_view_module_version": "1.2.0",
            "_view_name": "StyleView",
            "button_width": "110px",
            "description_width": "",
            "font_weight": ""
          }
        },
        "74e558588a134c508f54254fd15244e9": {
          "model_module": "@jupyter-widgets/base",
          "model_name": "LayoutModel",
          "model_module_version": "1.2.0",
          "state": {
            "_model_module": "@jupyter-widgets/base",
            "_model_module_version": "1.2.0",
            "_model_name": "LayoutModel",
            "_view_count": null,
            "_view_module": "@jupyter-widgets/base",
            "_view_module_version": "1.2.0",
            "_view_name": "LayoutView",
            "align_content": null,
            "align_items": null,
            "align_self": null,
            "border": null,
            "bottom": null,
            "display": null,
            "flex": null,
            "flex_flow": null,
            "grid_area": null,
            "grid_auto_columns": null,
            "grid_auto_flow": null,
            "grid_auto_rows": null,
            "grid_column": null,
            "grid_gap": null,
            "grid_row": null,
            "grid_template_areas": null,
            "grid_template_columns": null,
            "grid_template_rows": null,
            "height": null,
            "justify_content": null,
            "justify_items": null,
            "left": null,
            "margin": null,
            "max_height": null,
            "max_width": null,
            "min_height": null,
            "min_width": null,
            "object_fit": null,
            "object_position": null,
            "order": null,
            "overflow": null,
            "overflow_x": null,
            "overflow_y": null,
            "padding": null,
            "right": null,
            "top": null,
            "visibility": null,
            "width": "340px"
          }
        },
        "51b56cf5cbd04f4da8d815166b1d00a6": {
          "model_module": "@jupyter-widgets/controls",
          "model_name": "DescriptionStyleModel",
          "model_module_version": "1.5.0",
          "state": {
            "_model_module": "@jupyter-widgets/controls",
            "_model_module_version": "1.5.0",
            "_model_name": "DescriptionStyleModel",
            "_view_count": null,
            "_view_module": "@jupyter-widgets/base",
            "_view_module_version": "1.2.0",
            "_view_name": "StyleView",
            "description_width": ""
          }
        },
        "8c28abaed3ff4da9bed67541b1afb0ca": {
          "model_module": "jupyter-leaflet",
          "model_name": "LeafletMapModel",
          "model_module_version": "^0.17",
          "state": {
            "_dom_classes": [],
            "_model_module": "jupyter-leaflet",
            "_model_module_version": "^0.17",
            "_model_name": "LeafletMapModel",
            "_view_count": null,
            "_view_module": "jupyter-leaflet",
            "_view_module_version": "^0.17",
            "_view_name": "LeafletMapView",
            "bottom": 134217741,
            "bounce_at_zoom_limits": true,
            "box_zoom": true,
            "center": [
              -85.05106237174567,
              -122.2366560995579
            ],
            "close_popup_on_click": true,
            "controls": [
              "IPY_MODEL_d02c0b25066f4d7b9cdcf84c85e35287",
              "IPY_MODEL_0b12b11c0ee34fecb72e57aff2490eb1",
              "IPY_MODEL_730a4f07a81143789db4aa0c1edacac8",
              "IPY_MODEL_f56c7178f837400fad871677c8355685",
              "IPY_MODEL_ce602a129f5e4f2081ddcd0fe2178614"
            ],
            "crs": {
              "name": "EPSG3857",
              "custom": false
            },
            "default_style": "IPY_MODEL_0063ef201a9f44ed8cb2339e36b423d3",
            "double_click_zoom": true,
            "dragging": true,
            "dragging_style": "IPY_MODEL_f076b26ad86f40a083c73ffc6fc24b84",
            "east": -122.2350159287453,
            "fullscreen": false,
            "inertia": true,
            "inertia_deceleration": 3000,
            "inertia_max_speed": 1500,
            "interpolation": "bilinear",
            "keyboard": true,
            "keyboard_pan_offset": 80,
            "keyboard_zoom_offset": 1,
            "layers": [
              "IPY_MODEL_ea1c614bdbf54b868ab8845efc21febf"
            ],
            "layout": "IPY_MODEL_e2e9a0fbde944739bc94e72e5194a41d",
            "left": 21535124,
            "max_zoom": 24,
            "min_zoom": null,
            "modisdate": "2023-10-08",
            "north": -85.05099295470391,
            "options": [
              "bounce_at_zoom_limits",
              "box_zoom",
              "center",
              "close_popup_on_click",
              "double_click_zoom",
              "dragging",
              "fullscreen",
              "inertia",
              "inertia_deceleration",
              "inertia_max_speed",
              "interpolation",
              "keyboard",
              "keyboard_pan_offset",
              "keyboard_zoom_offset",
              "max_zoom",
              "min_zoom",
              "prefer_canvas",
              "scroll_wheel_zoom",
              "tap",
              "tap_tolerance",
              "touch_zoom",
              "world_copy_jump",
              "zoom",
              "zoom_animation_threshold",
              "zoom_delta",
              "zoom_snap"
            ],
            "panes": {},
            "prefer_canvas": false,
            "right": 21536347,
            "scroll_wheel_zoom": true,
            "south": -85.05113178781619,
            "style": "IPY_MODEL_0063ef201a9f44ed8cb2339e36b423d3",
            "tap": true,
            "tap_tolerance": 15,
            "top": 134217141,
            "touch_zoom": true,
            "west": -122.23829627037048,
            "window_url": "https://qm8zw57n13-496ff2e9c6d22116-0-colab.googleusercontent.com/outputframe.html?vrz=colab_20231006-060116_RC00_571305444",
            "world_copy_jump": false,
            "zoom": 19,
            "zoom_animation_threshold": 4,
            "zoom_delta": 1,
            "zoom_snap": 1
          }
        },
        "d02c0b25066f4d7b9cdcf84c85e35287": {
          "model_module": "jupyter-leaflet",
          "model_name": "LeafletZoomControlModel",
          "model_module_version": "^0.17",
          "state": {
            "_model_module": "jupyter-leaflet",
            "_model_module_version": "^0.17",
            "_model_name": "LeafletZoomControlModel",
            "_view_count": null,
            "_view_module": "jupyter-leaflet",
            "_view_module_version": "^0.17",
            "_view_name": "LeafletZoomControlView",
            "options": [
              "position",
              "zoom_in_text",
              "zoom_in_title",
              "zoom_out_text",
              "zoom_out_title"
            ],
            "position": "topleft",
            "zoom_in_text": "+",
            "zoom_in_title": "Zoom in",
            "zoom_out_text": "-",
            "zoom_out_title": "Zoom out"
          }
        },
        "0b12b11c0ee34fecb72e57aff2490eb1": {
          "model_module": "jupyter-leaflet",
          "model_name": "LeafletFullScreenControlModel",
          "model_module_version": "^0.17",
          "state": {
            "_model_module": "jupyter-leaflet",
            "_model_module_version": "^0.17",
            "_model_name": "LeafletFullScreenControlModel",
            "_view_count": null,
            "_view_module": "jupyter-leaflet",
            "_view_module_version": "^0.17",
            "_view_name": "LeafletFullScreenControlView",
            "options": [
              "position"
            ],
            "position": "topleft"
          }
        },
        "730a4f07a81143789db4aa0c1edacac8": {
          "model_module": "jupyter-leaflet",
          "model_name": "LeafletScaleControlModel",
          "model_module_version": "^0.17",
          "state": {
            "_model_module": "jupyter-leaflet",
            "_model_module_version": "^0.17",
            "_model_name": "LeafletScaleControlModel",
            "_view_count": null,
            "_view_module": "jupyter-leaflet",
            "_view_module_version": "^0.17",
            "_view_name": "LeafletScaleControlView",
            "imperial": true,
            "max_width": 100,
            "metric": true,
            "options": [
              "imperial",
              "max_width",
              "metric",
              "position",
              "update_when_idle"
            ],
            "position": "bottomleft",
            "update_when_idle": false
          }
        },
        "f56c7178f837400fad871677c8355685": {
          "model_module": "jupyter-leaflet",
          "model_name": "LeafletMeasureControlModel",
          "model_module_version": "^0.17",
          "state": {
            "_custom_units": {},
            "_model_module": "jupyter-leaflet",
            "_model_module_version": "^0.17",
            "_model_name": "LeafletMeasureControlModel",
            "_view_count": null,
            "_view_module": "jupyter-leaflet",
            "_view_module_version": "^0.17",
            "_view_name": "LeafletMeasureControlView",
            "active_color": "orange",
            "capture_z_index": 10000,
            "completed_color": "#C8F2BE",
            "options": [
              "active_color",
              "capture_z_index",
              "completed_color",
              "popup_options",
              "position",
              "primary_area_unit",
              "primary_length_unit",
              "secondary_area_unit",
              "secondary_length_unit"
            ],
            "popup_options": {
              "className": "leaflet-measure-resultpopup",
              "autoPanPadding": [
                10,
                10
              ]
            },
            "position": "bottomleft",
            "primary_area_unit": "acres",
            "primary_length_unit": "kilometers",
            "secondary_area_unit": null,
            "secondary_length_unit": null
          }
        },
        "ce602a129f5e4f2081ddcd0fe2178614": {
          "model_module": "jupyter-leaflet",
          "model_name": "LeafletAttributionControlModel",
          "model_module_version": "^0.17",
          "state": {
            "_model_module": "jupyter-leaflet",
            "_model_module_version": "^0.17",
            "_model_name": "LeafletAttributionControlModel",
            "_view_count": null,
            "_view_module": "jupyter-leaflet",
            "_view_module_version": "^0.17",
            "_view_name": "LeafletAttributionControlView",
            "options": [
              "position",
              "prefix"
            ],
            "position": "bottomright",
            "prefix": "ipyleaflet"
          }
        },
        "0063ef201a9f44ed8cb2339e36b423d3": {
          "model_module": "jupyter-leaflet",
          "model_name": "LeafletMapStyleModel",
          "model_module_version": "^0.17",
          "state": {
            "_model_module": "jupyter-leaflet",
            "_model_module_version": "^0.17",
            "_model_name": "LeafletMapStyleModel",
            "_view_count": null,
            "_view_module": "@jupyter-widgets/base",
            "_view_module_version": "1.2.0",
            "_view_name": "StyleView",
            "cursor": "grab"
          }
        },
        "f076b26ad86f40a083c73ffc6fc24b84": {
          "model_module": "jupyter-leaflet",
          "model_name": "LeafletMapStyleModel",
          "model_module_version": "^0.17",
          "state": {
            "_model_module": "jupyter-leaflet",
            "_model_module_version": "^0.17",
            "_model_name": "LeafletMapStyleModel",
            "_view_count": null,
            "_view_module": "@jupyter-widgets/base",
            "_view_module_version": "1.2.0",
            "_view_name": "StyleView",
            "cursor": "move"
          }
        },
        "ea1c614bdbf54b868ab8845efc21febf": {
          "model_module": "jupyter-leaflet",
          "model_name": "LeafletTileLayerModel",
          "model_module_version": "^0.17",
          "state": {
            "_model_module": "jupyter-leaflet",
            "_model_module_version": "^0.17",
            "_model_name": "LeafletTileLayerModel",
            "_view_count": null,
            "_view_module": "jupyter-leaflet",
            "_view_module_version": "^0.17",
            "_view_name": "LeafletTileLayerView",
            "attribution": "&copy; <a href=\"https://www.openstreetmap.org/copyright\">OpenStreetMap</a> contributors",
            "base": true,
            "bottom": true,
            "bounds": null,
            "detect_retina": false,
            "loading": false,
            "max_native_zoom": null,
            "max_zoom": 19,
            "min_native_zoom": null,
            "min_zoom": 1,
            "name": "OpenStreetMap.Mapnik",
            "no_wrap": false,
            "opacity": 1,
            "options": [
              "attribution",
              "bounds",
              "detect_retina",
              "max_native_zoom",
              "max_zoom",
              "min_native_zoom",
              "min_zoom",
              "no_wrap",
              "tile_size",
              "tms",
              "zoom_offset"
            ],
            "pane": "",
            "popup": null,
            "popup_max_height": null,
            "popup_max_width": 300,
            "popup_min_width": 50,
            "show_loading": false,
            "subitems": [],
            "tile_size": 256,
            "tms": false,
            "url": "https://tile.openstreetmap.org/{z}/{x}/{y}.png",
            "visible": true,
            "zoom_offset": 0
          }
        },
        "e2e9a0fbde944739bc94e72e5194a41d": {
          "model_module": "@jupyter-widgets/base",
          "model_name": "LayoutModel",
          "model_module_version": "1.2.0",
          "state": {
            "_model_module": "@jupyter-widgets/base",
            "_model_module_version": "1.2.0",
            "_model_name": "LayoutModel",
            "_view_count": null,
            "_view_module": "@jupyter-widgets/base",
            "_view_module_version": "1.2.0",
            "_view_name": "LayoutView",
            "align_content": null,
            "align_items": null,
            "align_self": null,
            "border": null,
            "bottom": null,
            "display": null,
            "flex": null,
            "flex_flow": null,
            "grid_area": null,
            "grid_auto_columns": null,
            "grid_auto_flow": null,
            "grid_auto_rows": null,
            "grid_column": null,
            "grid_gap": null,
            "grid_row": null,
            "grid_template_areas": null,
            "grid_template_columns": null,
            "grid_template_rows": null,
            "height": "600px",
            "justify_content": null,
            "justify_items": null,
            "left": null,
            "margin": null,
            "max_height": null,
            "max_width": null,
            "min_height": null,
            "min_width": null,
            "object_fit": null,
            "object_position": null,
            "order": null,
            "overflow": null,
            "overflow_x": null,
            "overflow_y": null,
            "padding": null,
            "right": null,
            "top": null,
            "visibility": null,
            "width": null
          }
        },
        "35f5a02f4c6449c699a935fd4c7b6d38": {
          "model_module": "jupyter-leaflet",
          "model_name": "LeafletMapStyleModel",
          "model_module_version": "^0.17",
          "state": {
            "_model_module": "jupyter-leaflet",
            "_model_module_version": "^0.17",
            "_model_name": "LeafletMapStyleModel",
            "_view_count": null,
            "_view_module": "@jupyter-widgets/base",
            "_view_module_version": "1.2.0",
            "_view_name": "StyleView",
            "cursor": "grab"
          }
        },
        "f275352561e24986908a866de02ccd30": {
          "model_module": "jupyter-leaflet",
          "model_name": "LeafletMapModel",
          "model_module_version": "^0.17",
          "state": {
            "_dom_classes": [],
            "_model_module": "jupyter-leaflet",
            "_model_module_version": "^0.17",
            "_model_name": "LeafletMapModel",
            "_view_count": null,
            "_view_module": "jupyter-leaflet",
            "_view_module_version": "^0.17",
            "_view_name": "LeafletMapView",
            "bottom": 871,
            "bounce_at_zoom_limits": true,
            "box_zoom": true,
            "center": [
              -20.3034175184893,
              49.74609375000001
            ],
            "close_popup_on_click": true,
            "controls": [
              "IPY_MODEL_4344e9a6fb7d4499af167a7e25fac8e4",
              "IPY_MODEL_2ca9f8e6cb624370873bb52663709881",
              "IPY_MODEL_3a4f3ed06fd64fc98edfce99b404ff21",
              "IPY_MODEL_88b0d065cab94398b548751d02c5c13d",
              "IPY_MODEL_638b7f5df3164723a705f1ca91d49ccd",
              "IPY_MODEL_4866ccb4df444c889b4c17120ecc1844",
              "IPY_MODEL_4e7588389d0244f0a1b498618b930f86",
              "IPY_MODEL_da75673e48954214b06179bb01a36cd9"
            ],
            "crs": {
              "name": "EPSG3857",
              "custom": false
            },
            "default_style": "IPY_MODEL_25d6f1ceb378426ca87add2b818f717c",
            "double_click_zoom": true,
            "dragging": true,
            "dragging_style": "IPY_MODEL_46ad8fb4d4b14db3b7662bc1af6bb59f",
            "east": 264.72656250000006,
            "fullscreen": false,
            "inertia": true,
            "inertia_deceleration": 3000,
            "inertia_max_speed": 1500,
            "interpolation": "bilinear",
            "keyboard": true,
            "keyboard_pan_offset": 80,
            "keyboard_zoom_offset": 1,
            "layers": [
              "IPY_MODEL_694abe8e63474d8a812523debd0d5c10"
            ],
            "layout": "IPY_MODEL_f6397e9377ee45ef80cef22351193869",
            "left": 42,
            "max_zoom": 24,
            "min_zoom": null,
            "modisdate": "2023-10-08",
            "north": 64.32087157990325,
            "options": [
              "bounce_at_zoom_limits",
              "box_zoom",
              "center",
              "close_popup_on_click",
              "double_click_zoom",
              "dragging",
              "fullscreen",
              "inertia",
              "inertia_deceleration",
              "inertia_max_speed",
              "interpolation",
              "keyboard",
              "keyboard_pan_offset",
              "keyboard_zoom_offset",
              "max_zoom",
              "min_zoom",
              "prefer_canvas",
              "scroll_wheel_zoom",
              "tap",
              "tap_tolerance",
              "touch_zoom",
              "world_copy_jump",
              "zoom",
              "zoom_animation_threshold",
              "zoom_delta",
              "zoom_snap"
            ],
            "panes": {},
            "prefer_canvas": false,
            "right": 1265,
            "scroll_wheel_zoom": true,
            "south": -77.3895040053973,
            "style": "IPY_MODEL_25d6f1ceb378426ca87add2b818f717c",
            "tap": true,
            "tap_tolerance": 15,
            "top": 271,
            "touch_zoom": true,
            "west": -165.23437500000003,
            "window_url": "https://qm8zw57n13-496ff2e9c6d22116-0-colab.googleusercontent.com/outputframe.html?vrz=colab_20231006-060116_RC00_571305444",
            "world_copy_jump": false,
            "zoom": 2,
            "zoom_animation_threshold": 4,
            "zoom_delta": 1,
            "zoom_snap": 1
          }
        },
        "4344e9a6fb7d4499af167a7e25fac8e4": {
          "model_module": "jupyter-leaflet",
          "model_name": "LeafletWidgetControlModel",
          "model_module_version": "^0.17",
          "state": {
            "_model_module": "jupyter-leaflet",
            "_model_module_version": "^0.17",
            "_model_name": "LeafletWidgetControlModel",
            "_view_count": null,
            "_view_module": "jupyter-leaflet",
            "_view_module_version": "^0.17",
            "_view_name": "LeafletWidgetControlView",
            "max_height": null,
            "max_width": null,
            "min_height": null,
            "min_width": null,
            "options": [
              "position",
              "transparent_bg"
            ],
            "position": "topleft",
            "transparent_bg": false,
            "widget": "IPY_MODEL_078091bc39924da7bf3ff43712ccb539"
          }
        },
        "2ca9f8e6cb624370873bb52663709881": {
          "model_module": "jupyter-leaflet",
          "model_name": "LeafletZoomControlModel",
          "model_module_version": "^0.17",
          "state": {
            "_model_module": "jupyter-leaflet",
            "_model_module_version": "^0.17",
            "_model_name": "LeafletZoomControlModel",
            "_view_count": null,
            "_view_module": "jupyter-leaflet",
            "_view_module_version": "^0.17",
            "_view_name": "LeafletZoomControlView",
            "options": [
              "position",
              "zoom_in_text",
              "zoom_in_title",
              "zoom_out_text",
              "zoom_out_title"
            ],
            "position": "topleft",
            "zoom_in_text": "+",
            "zoom_in_title": "Zoom in",
            "zoom_out_text": "-",
            "zoom_out_title": "Zoom out"
          }
        },
        "3a4f3ed06fd64fc98edfce99b404ff21": {
          "model_module": "jupyter-leaflet",
          "model_name": "LeafletFullScreenControlModel",
          "model_module_version": "^0.17",
          "state": {
            "_model_module": "jupyter-leaflet",
            "_model_module_version": "^0.17",
            "_model_name": "LeafletFullScreenControlModel",
            "_view_count": null,
            "_view_module": "jupyter-leaflet",
            "_view_module_version": "^0.17",
            "_view_name": "LeafletFullScreenControlView",
            "options": [
              "position"
            ],
            "position": "topleft"
          }
        },
        "88b0d065cab94398b548751d02c5c13d": {
          "model_module": "jupyter-leaflet",
          "model_name": "LeafletDrawControlModel",
          "model_module_version": "^0.17",
          "state": {
            "_model_module": "jupyter-leaflet",
            "_model_module_version": "^0.17",
            "_model_name": "LeafletDrawControlModel",
            "_view_count": null,
            "_view_module": "jupyter-leaflet",
            "_view_module_version": "^0.17",
            "_view_name": "LeafletDrawControlView",
            "circle": {},
            "circlemarker": {},
            "data": [],
            "edit": true,
            "marker": {
              "shapeOptions": {
                "color": "#3388ff"
              }
            },
            "options": [
              "position"
            ],
            "polygon": {
              "shapeOptions": {}
            },
            "polyline": {
              "shapeOptions": {}
            },
            "position": "topleft",
            "rectangle": {
              "shapeOptions": {
                "color": "#3388ff"
              }
            },
            "remove": true
          }
        },
        "638b7f5df3164723a705f1ca91d49ccd": {
          "model_module": "jupyter-leaflet",
          "model_name": "LeafletScaleControlModel",
          "model_module_version": "^0.17",
          "state": {
            "_model_module": "jupyter-leaflet",
            "_model_module_version": "^0.17",
            "_model_name": "LeafletScaleControlModel",
            "_view_count": null,
            "_view_module": "jupyter-leaflet",
            "_view_module_version": "^0.17",
            "_view_name": "LeafletScaleControlView",
            "imperial": true,
            "max_width": 100,
            "metric": true,
            "options": [
              "imperial",
              "max_width",
              "metric",
              "position",
              "update_when_idle"
            ],
            "position": "bottomleft",
            "update_when_idle": false
          }
        },
        "4866ccb4df444c889b4c17120ecc1844": {
          "model_module": "jupyter-leaflet",
          "model_name": "LeafletMeasureControlModel",
          "model_module_version": "^0.17",
          "state": {
            "_custom_units": {},
            "_model_module": "jupyter-leaflet",
            "_model_module_version": "^0.17",
            "_model_name": "LeafletMeasureControlModel",
            "_view_count": null,
            "_view_module": "jupyter-leaflet",
            "_view_module_version": "^0.17",
            "_view_name": "LeafletMeasureControlView",
            "active_color": "orange",
            "capture_z_index": 10000,
            "completed_color": "#C8F2BE",
            "options": [
              "active_color",
              "capture_z_index",
              "completed_color",
              "popup_options",
              "position",
              "primary_area_unit",
              "primary_length_unit",
              "secondary_area_unit",
              "secondary_length_unit"
            ],
            "popup_options": {
              "className": "leaflet-measure-resultpopup",
              "autoPanPadding": [
                10,
                10
              ]
            },
            "position": "bottomleft",
            "primary_area_unit": "acres",
            "primary_length_unit": "kilometers",
            "secondary_area_unit": null,
            "secondary_length_unit": null
          }
        },
        "4e7588389d0244f0a1b498618b930f86": {
          "model_module": "jupyter-leaflet",
          "model_name": "LeafletWidgetControlModel",
          "model_module_version": "^0.17",
          "state": {
            "_model_module": "jupyter-leaflet",
            "_model_module_version": "^0.17",
            "_model_name": "LeafletWidgetControlModel",
            "_view_count": null,
            "_view_module": "jupyter-leaflet",
            "_view_module_version": "^0.17",
            "_view_name": "LeafletWidgetControlView",
            "max_height": null,
            "max_width": null,
            "min_height": null,
            "min_width": null,
            "options": [
              "position",
              "transparent_bg"
            ],
            "position": "topright",
            "transparent_bg": false,
            "widget": "IPY_MODEL_cd7aaeeb562843ff98e5ef6304fc579e"
          }
        },
        "da75673e48954214b06179bb01a36cd9": {
          "model_module": "jupyter-leaflet",
          "model_name": "LeafletAttributionControlModel",
          "model_module_version": "^0.17",
          "state": {
            "_model_module": "jupyter-leaflet",
            "_model_module_version": "^0.17",
            "_model_name": "LeafletAttributionControlModel",
            "_view_count": null,
            "_view_module": "jupyter-leaflet",
            "_view_module_version": "^0.17",
            "_view_name": "LeafletAttributionControlView",
            "options": [
              "position",
              "prefix"
            ],
            "position": "bottomright",
            "prefix": "ipyleaflet"
          }
        },
        "25d6f1ceb378426ca87add2b818f717c": {
          "model_module": "jupyter-leaflet",
          "model_name": "LeafletMapStyleModel",
          "model_module_version": "^0.17",
          "state": {
            "_model_module": "jupyter-leaflet",
            "_model_module_version": "^0.17",
            "_model_name": "LeafletMapStyleModel",
            "_view_count": null,
            "_view_module": "@jupyter-widgets/base",
            "_view_module_version": "1.2.0",
            "_view_name": "StyleView",
            "cursor": "grab"
          }
        },
        "46ad8fb4d4b14db3b7662bc1af6bb59f": {
          "model_module": "jupyter-leaflet",
          "model_name": "LeafletMapStyleModel",
          "model_module_version": "^0.17",
          "state": {
            "_model_module": "jupyter-leaflet",
            "_model_module_version": "^0.17",
            "_model_name": "LeafletMapStyleModel",
            "_view_count": null,
            "_view_module": "@jupyter-widgets/base",
            "_view_module_version": "1.2.0",
            "_view_name": "StyleView",
            "cursor": "move"
          }
        },
        "694abe8e63474d8a812523debd0d5c10": {
          "model_module": "jupyter-leaflet",
          "model_name": "LeafletTileLayerModel",
          "model_module_version": "^0.17",
          "state": {
            "_model_module": "jupyter-leaflet",
            "_model_module_version": "^0.17",
            "_model_name": "LeafletTileLayerModel",
            "_view_count": null,
            "_view_module": "jupyter-leaflet",
            "_view_module_version": "^0.17",
            "_view_name": "LeafletTileLayerView",
            "attribution": "Esri",
            "base": true,
            "bottom": true,
            "bounds": null,
            "detect_retina": false,
            "loading": false,
            "max_native_zoom": null,
            "max_zoom": 24,
            "min_native_zoom": null,
            "min_zoom": 0,
            "name": "Esri.WorldImagery",
            "no_wrap": false,
            "opacity": 1,
            "options": [
              "attribution",
              "bounds",
              "detect_retina",
              "max_native_zoom",
              "max_zoom",
              "min_native_zoom",
              "min_zoom",
              "no_wrap",
              "tile_size",
              "tms",
              "zoom_offset"
            ],
            "pane": "",
            "popup": null,
            "popup_max_height": null,
            "popup_max_width": 300,
            "popup_min_width": 50,
            "show_loading": false,
            "subitems": [],
            "tile_size": 256,
            "tms": false,
            "url": "https://server.arcgisonline.com/ArcGIS/rest/services/World_Imagery/MapServer/tile/{z}/{y}/{x}",
            "visible": true,
            "zoom_offset": 0
          }
        },
        "f6397e9377ee45ef80cef22351193869": {
          "model_module": "@jupyter-widgets/base",
          "model_name": "LayoutModel",
          "model_module_version": "1.2.0",
          "state": {
            "_model_module": "@jupyter-widgets/base",
            "_model_module_version": "1.2.0",
            "_model_name": "LayoutModel",
            "_view_count": null,
            "_view_module": "@jupyter-widgets/base",
            "_view_module_version": "1.2.0",
            "_view_name": "LayoutView",
            "align_content": null,
            "align_items": null,
            "align_self": null,
            "border": null,
            "bottom": null,
            "display": null,
            "flex": null,
            "flex_flow": null,
            "grid_area": null,
            "grid_auto_columns": null,
            "grid_auto_flow": null,
            "grid_auto_rows": null,
            "grid_column": null,
            "grid_gap": null,
            "grid_row": null,
            "grid_template_areas": null,
            "grid_template_columns": null,
            "grid_template_rows": null,
            "height": "600px",
            "justify_content": null,
            "justify_items": null,
            "left": null,
            "margin": null,
            "max_height": null,
            "max_width": null,
            "min_height": null,
            "min_width": null,
            "object_fit": null,
            "object_position": null,
            "order": null,
            "overflow": null,
            "overflow_x": null,
            "overflow_y": null,
            "padding": null,
            "right": null,
            "top": null,
            "visibility": null,
            "width": null
          }
        },
        "c18f226bbc6541fa979dfb23d0d2ef44": {
          "model_module": "jupyter-leaflet",
          "model_name": "LeafletMapStyleModel",
          "model_module_version": "^0.17",
          "state": {
            "_model_module": "jupyter-leaflet",
            "_model_module_version": "^0.17",
            "_model_name": "LeafletMapStyleModel",
            "_view_count": null,
            "_view_module": "@jupyter-widgets/base",
            "_view_module_version": "1.2.0",
            "_view_name": "StyleView",
            "cursor": "grab"
          }
        },
        "078091bc39924da7bf3ff43712ccb539": {
          "model_module": "@jupyter-widgets/controls",
          "model_name": "HBoxModel",
          "model_module_version": "1.5.0",
          "state": {
            "_dom_classes": [
              "geemap-colab"
            ],
            "_model_module": "@jupyter-widgets/controls",
            "_model_module_version": "1.5.0",
            "_model_name": "HBoxModel",
            "_view_count": null,
            "_view_module": "@jupyter-widgets/controls",
            "_view_module_version": "1.5.0",
            "_view_name": "HBoxView",
            "box_style": "",
            "children": [
              "IPY_MODEL_648852ecd8964024a52fe2f9491c6bc0"
            ],
            "layout": "IPY_MODEL_ff6f95b58ef641ddbc8ee83915c924e0"
          }
        },
        "cd7aaeeb562843ff98e5ef6304fc579e": {
          "model_module": "@jupyter-widgets/controls",
          "model_name": "VBoxModel",
          "model_module_version": "1.5.0",
          "state": {
            "_dom_classes": [
              "geemap-colab"
            ],
            "_model_module": "@jupyter-widgets/controls",
            "_model_module_version": "1.5.0",
            "_model_name": "VBoxModel",
            "_view_count": null,
            "_view_module": "@jupyter-widgets/controls",
            "_view_module_version": "1.5.0",
            "_view_name": "VBoxView",
            "box_style": "",
            "children": [
              "IPY_MODEL_9b5648d1558240fa8ebfee65383c98a6"
            ],
            "layout": "IPY_MODEL_cc87ee29e3c6480fb764f8fccf1105c4"
          }
        },
        "648852ecd8964024a52fe2f9491c6bc0": {
          "model_module": "@jupyter-widgets/controls",
          "model_name": "ToggleButtonModel",
          "model_module_version": "1.5.0",
          "state": {
            "_dom_classes": [],
            "_model_module": "@jupyter-widgets/controls",
            "_model_module_version": "1.5.0",
            "_model_name": "ToggleButtonModel",
            "_view_count": null,
            "_view_module": "@jupyter-widgets/controls",
            "_view_module_version": "1.5.0",
            "_view_name": "ToggleButtonView",
            "button_style": "",
            "description": "",
            "description_tooltip": null,
            "disabled": false,
            "icon": "globe",
            "layout": "IPY_MODEL_5ce5be7c1fe0408891afb8455b3a3ca0",
            "style": "IPY_MODEL_ca763ed4003346748d81c3f46c560319",
            "tooltip": "Search location/data",
            "value": false
          }
        },
        "ff6f95b58ef641ddbc8ee83915c924e0": {
          "model_module": "@jupyter-widgets/base",
          "model_name": "LayoutModel",
          "model_module_version": "1.2.0",
          "state": {
            "_model_module": "@jupyter-widgets/base",
            "_model_module_version": "1.2.0",
            "_model_name": "LayoutModel",
            "_view_count": null,
            "_view_module": "@jupyter-widgets/base",
            "_view_module_version": "1.2.0",
            "_view_name": "LayoutView",
            "align_content": null,
            "align_items": null,
            "align_self": null,
            "border": null,
            "bottom": null,
            "display": null,
            "flex": null,
            "flex_flow": null,
            "grid_area": null,
            "grid_auto_columns": null,
            "grid_auto_flow": null,
            "grid_auto_rows": null,
            "grid_column": null,
            "grid_gap": null,
            "grid_row": null,
            "grid_template_areas": null,
            "grid_template_columns": null,
            "grid_template_rows": null,
            "height": null,
            "justify_content": null,
            "justify_items": null,
            "left": null,
            "margin": null,
            "max_height": null,
            "max_width": null,
            "min_height": null,
            "min_width": null,
            "object_fit": null,
            "object_position": null,
            "order": null,
            "overflow": null,
            "overflow_x": null,
            "overflow_y": null,
            "padding": null,
            "right": null,
            "top": null,
            "visibility": null,
            "width": null
          }
        },
        "9b5648d1558240fa8ebfee65383c98a6": {
          "model_module": "@jupyter-widgets/controls",
          "model_name": "ToggleButtonModel",
          "model_module_version": "1.5.0",
          "state": {
            "_dom_classes": [],
            "_model_module": "@jupyter-widgets/controls",
            "_model_module_version": "1.5.0",
            "_model_name": "ToggleButtonModel",
            "_view_count": null,
            "_view_module": "@jupyter-widgets/controls",
            "_view_module_version": "1.5.0",
            "_view_name": "ToggleButtonView",
            "button_style": "",
            "description": "",
            "description_tooltip": null,
            "disabled": false,
            "icon": "wrench",
            "layout": "IPY_MODEL_1473b9537bcd49d8be3a30a6063c0b8d",
            "style": "IPY_MODEL_184fc62e1d454eaaa1917cc015ae77a2",
            "tooltip": "Toolbar",
            "value": false
          }
        },
        "cc87ee29e3c6480fb764f8fccf1105c4": {
          "model_module": "@jupyter-widgets/base",
          "model_name": "LayoutModel",
          "model_module_version": "1.2.0",
          "state": {
            "_model_module": "@jupyter-widgets/base",
            "_model_module_version": "1.2.0",
            "_model_name": "LayoutModel",
            "_view_count": null,
            "_view_module": "@jupyter-widgets/base",
            "_view_module_version": "1.2.0",
            "_view_name": "LayoutView",
            "align_content": null,
            "align_items": null,
            "align_self": null,
            "border": null,
            "bottom": null,
            "display": null,
            "flex": null,
            "flex_flow": null,
            "grid_area": null,
            "grid_auto_columns": null,
            "grid_auto_flow": null,
            "grid_auto_rows": null,
            "grid_column": null,
            "grid_gap": null,
            "grid_row": null,
            "grid_template_areas": null,
            "grid_template_columns": null,
            "grid_template_rows": null,
            "height": null,
            "justify_content": null,
            "justify_items": null,
            "left": null,
            "margin": null,
            "max_height": null,
            "max_width": null,
            "min_height": null,
            "min_width": null,
            "object_fit": null,
            "object_position": null,
            "order": null,
            "overflow": null,
            "overflow_x": null,
            "overflow_y": null,
            "padding": null,
            "right": null,
            "top": null,
            "visibility": null,
            "width": null
          }
        },
        "5ce5be7c1fe0408891afb8455b3a3ca0": {
          "model_module": "@jupyter-widgets/base",
          "model_name": "LayoutModel",
          "model_module_version": "1.2.0",
          "state": {
            "_model_module": "@jupyter-widgets/base",
            "_model_module_version": "1.2.0",
            "_model_name": "LayoutModel",
            "_view_count": null,
            "_view_module": "@jupyter-widgets/base",
            "_view_module_version": "1.2.0",
            "_view_name": "LayoutView",
            "align_content": null,
            "align_items": null,
            "align_self": null,
            "border": null,
            "bottom": null,
            "display": null,
            "flex": null,
            "flex_flow": null,
            "grid_area": null,
            "grid_auto_columns": null,
            "grid_auto_flow": null,
            "grid_auto_rows": null,
            "grid_column": null,
            "grid_gap": null,
            "grid_row": null,
            "grid_template_areas": null,
            "grid_template_columns": null,
            "grid_template_rows": null,
            "height": "28px",
            "justify_content": null,
            "justify_items": null,
            "left": null,
            "margin": null,
            "max_height": null,
            "max_width": null,
            "min_height": null,
            "min_width": null,
            "object_fit": null,
            "object_position": null,
            "order": null,
            "overflow": null,
            "overflow_x": null,
            "overflow_y": null,
            "padding": "0px 0px 0px 4px",
            "right": null,
            "top": null,
            "visibility": null,
            "width": "28px"
          }
        },
        "ca763ed4003346748d81c3f46c560319": {
          "model_module": "@jupyter-widgets/controls",
          "model_name": "DescriptionStyleModel",
          "model_module_version": "1.5.0",
          "state": {
            "_model_module": "@jupyter-widgets/controls",
            "_model_module_version": "1.5.0",
            "_model_name": "DescriptionStyleModel",
            "_view_count": null,
            "_view_module": "@jupyter-widgets/base",
            "_view_module_version": "1.2.0",
            "_view_name": "StyleView",
            "description_width": ""
          }
        },
        "1473b9537bcd49d8be3a30a6063c0b8d": {
          "model_module": "@jupyter-widgets/base",
          "model_name": "LayoutModel",
          "model_module_version": "1.2.0",
          "state": {
            "_model_module": "@jupyter-widgets/base",
            "_model_module_version": "1.2.0",
            "_model_name": "LayoutModel",
            "_view_count": null,
            "_view_module": "@jupyter-widgets/base",
            "_view_module_version": "1.2.0",
            "_view_name": "LayoutView",
            "align_content": null,
            "align_items": null,
            "align_self": null,
            "border": null,
            "bottom": null,
            "display": null,
            "flex": null,
            "flex_flow": null,
            "grid_area": null,
            "grid_auto_columns": null,
            "grid_auto_flow": null,
            "grid_auto_rows": null,
            "grid_column": null,
            "grid_gap": null,
            "grid_row": null,
            "grid_template_areas": null,
            "grid_template_columns": null,
            "grid_template_rows": null,
            "height": "28px",
            "justify_content": null,
            "justify_items": null,
            "left": null,
            "margin": null,
            "max_height": null,
            "max_width": null,
            "min_height": null,
            "min_width": null,
            "object_fit": null,
            "object_position": null,
            "order": null,
            "overflow": null,
            "overflow_x": null,
            "overflow_y": null,
            "padding": "0px 0px 0px 4px",
            "right": null,
            "top": null,
            "visibility": null,
            "width": "28px"
          }
        },
        "184fc62e1d454eaaa1917cc015ae77a2": {
          "model_module": "@jupyter-widgets/controls",
          "model_name": "DescriptionStyleModel",
          "model_module_version": "1.5.0",
          "state": {
            "_model_module": "@jupyter-widgets/controls",
            "_model_module_version": "1.5.0",
            "_model_name": "DescriptionStyleModel",
            "_view_count": null,
            "_view_module": "@jupyter-widgets/base",
            "_view_module_version": "1.2.0",
            "_view_name": "StyleView",
            "description_width": ""
          }
        }
      }
    }
  },
  "nbformat": 4,
  "nbformat_minor": 5
}